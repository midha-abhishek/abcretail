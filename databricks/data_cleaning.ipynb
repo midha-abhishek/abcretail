{
 "cells": [
  {
   "cell_type": "markdown",
   "metadata": {
    "application/vnd.databricks.v1+cell": {
     "cellMetadata": {
      "byteLimit": 2048000,
      "rowLimit": 10000
     },
     "inputWidgets": {},
     "nuid": "30ed0656-dbc7-4176-8a7a-a0924d926d6b",
     "showTitle": false,
     "tableResultSettingsMap": {},
     "title": ""
    }
   },
   "source": [
    "# Connecting to the Storage Account and Mounting Locally"
   ]
  },
  {
   "cell_type": "code",
   "execution_count": 0,
   "metadata": {
    "application/vnd.databricks.v1+cell": {
     "cellMetadata": {
      "byteLimit": 2048000,
      "rowLimit": 10000
     },
     "inputWidgets": {},
     "nuid": "2231dab8-14e6-41d4-971e-008408ccd607",
     "showTitle": false,
     "tableResultSettingsMap": {},
     "title": ""
    }
   },
   "outputs": [
    {
     "output_type": "execute_result",
     "data": {
      "text/plain": [
       "[SecretScope(name='abcretail_secretScope')]"
      ]
     },
     "execution_count": 194,
     "metadata": {},
     "output_type": "execute_result"
    }
   ],
   "source": [
    "dbutils.secrets.listScopes()"
   ]
  },
  {
   "cell_type": "code",
   "execution_count": 0,
   "metadata": {
    "application/vnd.databricks.v1+cell": {
     "cellMetadata": {
      "byteLimit": 2048000,
      "rowLimit": 10000
     },
     "inputWidgets": {},
     "nuid": "e1213087-578f-437f-b2db-7f32aa893914",
     "showTitle": false,
     "tableResultSettingsMap": {},
     "title": ""
    }
   },
   "outputs": [],
   "source": [
    "secret_scope = \"abcretail_secretScope\""
   ]
  },
  {
   "cell_type": "code",
   "execution_count": 0,
   "metadata": {
    "application/vnd.databricks.v1+cell": {
     "cellMetadata": {
      "byteLimit": 2048000,
      "rowLimit": 10000
     },
     "inputWidgets": {},
     "nuid": "1f8caf05-59a3-4bbb-a114-013e2a685791",
     "showTitle": false,
     "tableResultSettingsMap": {},
     "title": ""
    }
   },
   "outputs": [
    {
     "output_type": "execute_result",
     "data": {
      "text/plain": [
       "[SecretMetadata(key='azure-sql-server-password'),\n",
       " SecretMetadata(key='client-id'),\n",
       " SecretMetadata(key='client-secret'),\n",
       " SecretMetadata(key='databricks-token'),\n",
       " SecretMetadata(key='directory-id'),\n",
       " SecretMetadata(key='onprem-sqlserver-password')]"
      ]
     },
     "execution_count": 196,
     "metadata": {},
     "output_type": "execute_result"
    }
   ],
   "source": [
    "dbutils.secrets.list(secret_scope)"
   ]
  },
  {
   "cell_type": "code",
   "execution_count": 0,
   "metadata": {
    "application/vnd.databricks.v1+cell": {
     "cellMetadata": {
      "byteLimit": 2048000,
      "rowLimit": 10000
     },
     "inputWidgets": {},
     "nuid": "0de25346-e5e8-42b1-9f14-e28baac3365c",
     "showTitle": false,
     "tableResultSettingsMap": {},
     "title": ""
    }
   },
   "outputs": [],
   "source": [
    "client_id = dbutils.secrets.get(secret_scope, \"client-id\")\n",
    "client_secret = dbutils.secrets.get(secret_scope, \"client-secret\")\n",
    "directory_id = dbutils.secrets.get(secret_scope, \"directory-id\")"
   ]
  },
  {
   "cell_type": "code",
   "execution_count": 0,
   "metadata": {
    "application/vnd.databricks.v1+cell": {
     "cellMetadata": {
      "byteLimit": 2048000,
      "rowLimit": 10000
     },
     "inputWidgets": {},
     "nuid": "d7b514b6-80eb-4f48-a4e1-6e7b9edae847",
     "showTitle": false,
     "tableResultSettingsMap": {},
     "title": ""
    }
   },
   "outputs": [],
   "source": [
    "configs = {\n",
    "    \"fs.azure.account.auth.type\": \"OAuth\",\n",
    "    \"fs.azure.account.oauth.provider.type\": \"org.apache.hadoop.fs.azurebfs.oauth2.ClientCredsTokenProvider\",\n",
    "    \"fs.azure.account.oauth2.client.id\": client_id,\n",
    "    \"fs.azure.account.oauth2.client.secret\": client_secret,\n",
    "    \"fs.azure.account.oauth2.client.endpoint\": f\"https://login.microsoftonline.com/{directory_id}/oauth2/token\"\n",
    "}"
   ]
  },
  {
   "cell_type": "code",
   "execution_count": 0,
   "metadata": {
    "application/vnd.databricks.v1+cell": {
     "cellMetadata": {
      "byteLimit": 2048000,
      "rowLimit": 10000
     },
     "inputWidgets": {},
     "nuid": "7c5d689e-8656-4b33-aabb-91e08888a612",
     "showTitle": false,
     "tableResultSettingsMap": {},
     "title": ""
    }
   },
   "outputs": [],
   "source": [
    "storage_account = \"dlsaabcretail\"\n",
    "\n",
    "container_source = \"raw\"\n",
    "container_target = \"curated\"\n",
    "\n",
    "source_link = f\"abfss://{container_source}@{storage_account}.dfs.core.windows.net/\"\n",
    "mount_point_source = f\"/mnt/{storage_account}/{container_source}\"\n",
    "\n",
    "target_link = f\"abfss://{container_target}@{storage_account}.dfs.core.windows.net/\"\n",
    "mount_point_target = f\"/mnt/{storage_account}/{container_target}\""
   ]
  },
  {
   "cell_type": "markdown",
   "metadata": {
    "application/vnd.databricks.v1+cell": {
     "cellMetadata": {
      "byteLimit": 2048000,
      "rowLimit": 10000
     },
     "inputWidgets": {},
     "nuid": "d3d4bd56-1236-4742-a2b8-cb5172707b3c",
     "showTitle": false,
     "tableResultSettingsMap": {},
     "title": ""
    }
   },
   "source": [
    "## Mounting the Source Container: \"raw\""
   ]
  },
  {
   "cell_type": "code",
   "execution_count": 0,
   "metadata": {
    "application/vnd.databricks.v1+cell": {
     "cellMetadata": {
      "byteLimit": 2048000,
      "rowLimit": 10000
     },
     "inputWidgets": {},
     "nuid": "9d65d806-a527-4271-923e-00e990944777",
     "showTitle": false,
     "tableResultSettingsMap": {},
     "title": ""
    }
   },
   "outputs": [
    {
     "output_type": "stream",
     "name": "stdout",
     "output_type": "stream",
     "text": [
      "/mnt/dlsaabcretail/raw has been unmounted.\nUnmount existing mount at /mnt/dlsaabcretail/raw\nMounted successfully at /mnt/dlsaabcretail/raw\n"
     ]
    }
   ],
   "source": [
    "# Checking if any existing mount points in dbutils.fs.mounts() match the desired mount point\n",
    "if any(mount.mountPoint == mount_point_source for mount in dbutils.fs.mounts()):\n",
    "  # If a mount point exists, unmount it\n",
    "  dbutils.fs.unmount(mount_point_source)\n",
    "  print(f\"Unmount existing mount at {mount_point_source}\")\n",
    "\n",
    "# Try to mount the new source to the specified mount point\n",
    "try:\n",
    "  dbutils.fs.mount(\n",
    "    source = source_link,\n",
    "    mount_point = mount_point_source,\n",
    "    extra_configs = configs\n",
    "  )\n",
    "  print(f\"Mounted successfully at {mount_point_source}\")\n",
    "\n",
    "# If an error occurs during the mount process, handle the exception\n",
    "except Exception as e:\n",
    "  print(f\"Error mounting: {mount_point_source}\")"
   ]
  },
  {
   "cell_type": "markdown",
   "metadata": {
    "application/vnd.databricks.v1+cell": {
     "cellMetadata": {
      "byteLimit": 2048000,
      "rowLimit": 10000
     },
     "inputWidgets": {},
     "nuid": "ca1926e6-97d6-4182-b259-8450f80f6c77",
     "showTitle": false,
     "tableResultSettingsMap": {},
     "title": ""
    }
   },
   "source": [
    "## Mounting the Target Container: \"curated\""
   ]
  },
  {
   "cell_type": "code",
   "execution_count": 0,
   "metadata": {
    "application/vnd.databricks.v1+cell": {
     "cellMetadata": {
      "byteLimit": 2048000,
      "rowLimit": 10000
     },
     "inputWidgets": {},
     "nuid": "dbf9c1ca-b7c8-43da-9ea9-9b74548a3ed5",
     "showTitle": false,
     "tableResultSettingsMap": {},
     "title": ""
    }
   },
   "outputs": [
    {
     "output_type": "stream",
     "name": "stdout",
     "output_type": "stream",
     "text": [
      "/mnt/dlsaabcretail/curated has been unmounted.\nUnmount existing mount at /mnt/dlsaabcretail/curated\nMounted successfully at /mnt/dlsaabcretail/curated\n"
     ]
    }
   ],
   "source": [
    "if any(mount.mountPoint == mount_point_target for mount in dbutils.fs.mounts()):\n",
    "  dbutils.fs.unmount(mount_point_target)\n",
    "  print(f\"Unmount existing mount at {mount_point_target}\")\n",
    "\n",
    "try:\n",
    "  dbutils.fs.mount(\n",
    "    source = target_link,\n",
    "    mount_point = mount_point_target,\n",
    "    extra_configs = configs\n",
    "  )\n",
    "  print(f\"Mounted successfully at {mount_point_target}\")\n",
    "except Exception as e:\n",
    "  print(f\"Error mounting: {mount_point_target}\")"
   ]
  },
  {
   "cell_type": "markdown",
   "metadata": {
    "application/vnd.databricks.v1+cell": {
     "cellMetadata": {},
     "inputWidgets": {},
     "nuid": "34a5ee24-d50a-49bf-9104-b87c60847d72",
     "showTitle": false,
     "tableResultSettingsMap": {},
     "title": ""
    }
   },
   "source": [
    "# Importing Python Packages, Libraries, Functions and Methods"
   ]
  },
  {
   "cell_type": "code",
   "execution_count": 0,
   "metadata": {
    "application/vnd.databricks.v1+cell": {
     "cellMetadata": {
      "byteLimit": 2048000,
      "rowLimit": 10000
     },
     "inputWidgets": {},
     "nuid": "007d44a5-0450-43c1-94ba-9683c31702e5",
     "showTitle": false,
     "tableResultSettingsMap": {},
     "title": ""
    }
   },
   "outputs": [],
   "source": [
    "from pyspark.sql.functions import current_timestamp, col, row_number\n",
    "from pyspark.sql.window import Window\n",
    "from pyspark.sql.types import IntegerType, StringType, DecimalType, BooleanType, DoubleType, BinaryType\n",
    "from delta.tables import DeltaTable"
   ]
  },
  {
   "cell_type": "markdown",
   "metadata": {
    "application/vnd.databricks.v1+cell": {
     "cellMetadata": {
      "byteLimit": 2048000,
      "rowLimit": 10000
     },
     "inputWidgets": {},
     "nuid": "57a12aba-5923-420d-8ae3-18386e44ec38",
     "showTitle": false,
     "tableResultSettingsMap": {},
     "title": ""
    }
   },
   "source": [
    "# Creating File Lists"
   ]
  },
  {
   "cell_type": "code",
   "execution_count": 0,
   "metadata": {
    "application/vnd.databricks.v1+cell": {
     "cellMetadata": {
      "byteLimit": 2048000,
      "rowLimit": 10000
     },
     "inputWidgets": {},
     "nuid": "ceab07df-1054-4fe9-aeab-f993cfb37e4e",
     "showTitle": false,
     "tableResultSettingsMap": {},
     "title": ""
    }
   },
   "outputs": [
    {
     "output_type": "execute_result",
     "data": {
      "text/plain": [
       "[FileInfo(path='dbfs:/mnt/dlsaabcretail/raw/http/csv/accessories/', name='accessories/', size=0, modificationTime=1732824536000),\n",
       " FileInfo(path='dbfs:/mnt/dlsaabcretail/raw/http/csv/clothing/', name='clothing/', size=0, modificationTime=1732824447000),\n",
       " FileInfo(path='dbfs:/mnt/dlsaabcretail/raw/http/csv/footwear/', name='footwear/', size=0, modificationTime=1732824397000),\n",
       " FileInfo(path='dbfs:/mnt/dlsaabcretail/raw/http/csv/home_decor/', name='home_decor/', size=0, modificationTime=1732824492000)]"
      ]
     },
     "execution_count": 202,
     "metadata": {},
     "output_type": "execute_result"
    }
   ],
   "source": [
    "dbutils.fs.ls(f\"{mount_point_source}/http/csv\") # Checking the list of files in the \"http\" folder of the source container."
   ]
  },
  {
   "cell_type": "code",
   "execution_count": 0,
   "metadata": {
    "application/vnd.databricks.v1+cell": {
     "cellMetadata": {
      "byteLimit": 2048000,
      "rowLimit": 10000
     },
     "inputWidgets": {},
     "nuid": "e162e4cc-e108-4e78-8fc3-1d79534d03a1",
     "showTitle": false,
     "tableResultSettingsMap": {},
     "title": ""
    }
   },
   "outputs": [],
   "source": [
    "http_Accessories_files = [file.path for file in dbutils.fs.ls(f\"{mount_point_source}/http/csv/accessories\") if \".csv\" in file.name]\n",
    "http_Clothing_files = [file.path for file in dbutils.fs.ls(f\"{mount_point_source}/http/csv/clothing\") if \".csv\" in file.name]\n",
    "http_Footwear_files = [file.path for file in dbutils.fs.ls(f\"{mount_point_source}/http/csv/footwear\") if \".csv\" in file.name]\n",
    "http_HomeDecor_files = [file.path for file in dbutils.fs.ls(f\"{mount_point_source}/http/csv/home_decor\") if \".csv\" in file.name]"
   ]
  },
  {
   "cell_type": "code",
   "execution_count": 0,
   "metadata": {
    "application/vnd.databricks.v1+cell": {
     "cellMetadata": {
      "byteLimit": 2048000,
      "rowLimit": 10000
     },
     "inputWidgets": {},
     "nuid": "e4fad58b-f863-48a7-956d-bdd483d187b2",
     "showTitle": false,
     "tableResultSettingsMap": {},
     "title": ""
    }
   },
   "outputs": [
    {
     "output_type": "execute_result",
     "data": {
      "text/plain": [
       "[FileInfo(path='dbfs:/mnt/dlsaabcretail/raw/azsqldb/Address.parquet', name='Address.parquet', size=35923, modificationTime=1732824383000),\n",
       " FileInfo(path='dbfs:/mnt/dlsaabcretail/raw/azsqldb/Customer.parquet', name='Customer.parquet', size=100518, modificationTime=1732824372000),\n",
       " FileInfo(path='dbfs:/mnt/dlsaabcretail/raw/azsqldb/CustomerAddress.parquet', name='CustomerAddress.parquet', size=21289, modificationTime=1732824372000),\n",
       " FileInfo(path='dbfs:/mnt/dlsaabcretail/raw/azsqldb/Product.parquet', name='Product.parquet', size=196575, modificationTime=1732824380000),\n",
       " FileInfo(path='dbfs:/mnt/dlsaabcretail/raw/azsqldb/ProductCategory.parquet', name='ProductCategory.parquet', size=3421, modificationTime=1732824371000),\n",
       " FileInfo(path='dbfs:/mnt/dlsaabcretail/raw/azsqldb/ProductDescription.parquet', name='ProductDescription.parquet', size=77633, modificationTime=1732824378000),\n",
       " FileInfo(path='dbfs:/mnt/dlsaabcretail/raw/azsqldb/ProductModel.parquet', name='ProductModel.parquet', size=12117, modificationTime=1732824373000),\n",
       " FileInfo(path='dbfs:/mnt/dlsaabcretail/raw/azsqldb/ProductModelProductDescription.parquet', name='ProductModelProductDescription.parquet', size=33807, modificationTime=1732824381000),\n",
       " FileInfo(path='dbfs:/mnt/dlsaabcretail/raw/azsqldb/SalesOrderDetail.parquet', name='SalesOrderDetail.parquet', size=31283, modificationTime=1732824385000),\n",
       " FileInfo(path='dbfs:/mnt/dlsaabcretail/raw/azsqldb/SalesOrderHeader.parquet', name='SalesOrderHeader.parquet', size=7908, modificationTime=1732824380000)]"
      ]
     },
     "execution_count": 204,
     "metadata": {},
     "output_type": "execute_result"
    }
   ],
   "source": [
    "dbutils.fs.ls(f\"{mount_point_source}/azsqldb\")"
   ]
  },
  {
   "cell_type": "code",
   "execution_count": 0,
   "metadata": {
    "application/vnd.databricks.v1+cell": {
     "cellMetadata": {
      "byteLimit": 2048000,
      "rowLimit": 10000
     },
     "inputWidgets": {},
     "nuid": "0626c052-77df-488e-a4b0-0a11b6769980",
     "showTitle": false,
     "tableResultSettingsMap": {},
     "title": ""
    }
   },
   "outputs": [],
   "source": [
    "azsqldb_Address_files = [file.path for file in dbutils.fs.ls(f\"{mount_point_source}/azsqldb\") if \"Address\" in file.name and \"CustomerAddress\" not in file.name] # Creating a list of the hard dataset Address files\n",
    "azsqldb_Customer_files = [file.path for file in dbutils.fs.ls(f\"{mount_point_source}/azsqldb\") if \"Customer\" in file.name and \"CustomerAddress\" not in file.name]\n",
    "azsqldb_CustomerAddress_files = [file.path for file in dbutils.fs.ls(f\"{mount_point_source}/azsqldb\") if \"CustomerAddress\" in file.name]\n",
    "azsqldb_Product_files = [file.path for file in dbutils.fs.ls(f\"{mount_point_source}/azsqldb\") if \"Product\" in file.name and \"ProductCategory\" not in file.name and \"ProductDescription\" not in file.name and \"ProductModel\" not in file.name]\n",
    "azsqldb_ProductCategory_files = [file.path for file in dbutils.fs.ls(f\"{mount_point_source}/azsqldb\") if \"ProductCategory\" in file.name]\n",
    "azsqldb_ProductDescription_files = [file.path for file in dbutils.fs.ls(f\"{mount_point_source}/azsqldb\") if \"ProductDescription\" in file.name and \"ProductModel\" not in file.name]\n",
    "azsqldb_ProductModel_files = [file.path for file in dbutils.fs.ls(f\"{mount_point_source}/azsqldb\") if \"ProductModel\" in file.name and \"ProductDescription\" not in file.name]\n",
    "azsqldb_ProductModelProductDescription_files = [file.path for file in dbutils.fs.ls(f\"{mount_point_source}/azsqldb\") if \"ProductModelProductDescription\" in file.name]\n",
    "azsqldb_SalesOrderDetail_files = [file.path for file in dbutils.fs.ls(f\"{mount_point_source}/azsqldb\") if \"SalesOrderDetail\" in file.name]\n",
    "azsqldb_SalesOrderHeader_files = [file.path for file in dbutils.fs.ls(f\"{mount_point_source}/azsqldb\") if \"SalesOrderHeader\" in file.name]"
   ]
  },
  {
   "cell_type": "code",
   "execution_count": 0,
   "metadata": {
    "application/vnd.databricks.v1+cell": {
     "cellMetadata": {
      "byteLimit": 2048000,
      "rowLimit": 10000
     },
     "inputWidgets": {},
     "nuid": "023b9c06-7410-4755-962d-50cfeb4b57f5",
     "showTitle": false,
     "tableResultSettingsMap": {},
     "title": ""
    }
   },
   "outputs": [
    {
     "output_type": "execute_result",
     "data": {
      "text/plain": [
       "[FileInfo(path='dbfs:/mnt/dlsaabcretail/raw/onpremsqlserver/CountryRolling.parquet', name='CountryRolling.parquet', size=544, modificationTime=1732824376000),\n",
       " FileInfo(path='dbfs:/mnt/dlsaabcretail/raw/onpremsqlserver/Customer.parquet', name='Customer.parquet', size=2280, modificationTime=1732824379000),\n",
       " FileInfo(path='dbfs:/mnt/dlsaabcretail/raw/onpremsqlserver/CustomerProductReview.parquet', name='CustomerProductReview.parquet', size=1263, modificationTime=1732824488000),\n",
       " FileInfo(path='dbfs:/mnt/dlsaabcretail/raw/onpremsqlserver/CustomerSellerReview.parquet', name='CustomerSellerReview.parquet', size=1161, modificationTime=1732824521000),\n",
       " FileInfo(path='dbfs:/mnt/dlsaabcretail/raw/onpremsqlserver/Order.parquet', name='Order.parquet', size=869, modificationTime=1732824395000),\n",
       " FileInfo(path='dbfs:/mnt/dlsaabcretail/raw/onpremsqlserver/Product.parquet', name='Product.parquet', size=1694, modificationTime=1732824371000),\n",
       " FileInfo(path='dbfs:/mnt/dlsaabcretail/raw/onpremsqlserver/ProductCategories.parquet', name='ProductCategories.parquet', size=588, modificationTime=1732824380000),\n",
       " FileInfo(path='dbfs:/mnt/dlsaabcretail/raw/onpremsqlserver/ProductQuality.parquet', name='ProductQuality.parquet', size=598, modificationTime=1732824369000),\n",
       " FileInfo(path='dbfs:/mnt/dlsaabcretail/raw/onpremsqlserver/Promotion.parquet', name='Promotion.parquet', size=806, modificationTime=1732824571000),\n",
       " FileInfo(path='dbfs:/mnt/dlsaabcretail/raw/onpremsqlserver/Seller.parquet', name='Seller.parquet', size=2186, modificationTime=1732824602000),\n",
       " FileInfo(path='dbfs:/mnt/dlsaabcretail/raw/onpremsqlserver/SellerProductPromotion.parquet', name='SellerProductPromotion.parquet', size=1257, modificationTime=1732824412000),\n",
       " FileInfo(path='dbfs:/mnt/dlsaabcretail/raw/onpremsqlserver/StateProvinceRolling.parquet', name='StateProvinceRolling.parquet', size=770, modificationTime=1732824370000)]"
      ]
     },
     "execution_count": 206,
     "metadata": {},
     "output_type": "execute_result"
    }
   ],
   "source": [
    "dbutils.fs.ls(f\"{mount_point_source}/onpremsqlserver\")"
   ]
  },
  {
   "cell_type": "code",
   "execution_count": 0,
   "metadata": {
    "application/vnd.databricks.v1+cell": {
     "cellMetadata": {
      "byteLimit": 2048000,
      "rowLimit": 10000
     },
     "inputWidgets": {},
     "nuid": "c90786f4-bafd-44a3-89ec-380fd5df202e",
     "showTitle": false,
     "tableResultSettingsMap": {},
     "title": ""
    }
   },
   "outputs": [],
   "source": [
    "onprem_CountryRolling_files = [file.path for file in dbutils.fs.ls(f\"{mount_point_source}/onpremsqlserver\") if \"CountryRolling\" in file.name]\n",
    "onprem_Customer_files = [file.path for file in dbutils.fs.ls(f\"{mount_point_source}/onpremsqlserver\") if \"Customer\" in file.name and \"CustomerProductReview\" not in file.name and \"CustomerSellerReview\" not in file.name]\n",
    "onprem_CustomerProductReview_files = [file.path for file in dbutils.fs.ls(f\"{mount_point_source}/onpremsqlserver\") if \"CustomerProductReview\" in file.name]\n",
    "onprem_CustomerSellerReview_files = [file.path for file in dbutils.fs.ls(f\"{mount_point_source}/onpremsqlserver\") if \"CustomerSellerReview\" in file.name]\n",
    "onprem_Order_files = [file.path for file in dbutils.fs.ls(f\"{mount_point_source}/onpremsqlserver\") if \"Order\" in file.name]\n",
    "onprem_Product_files = [file.path for file in dbutils.fs.ls(f\"{mount_point_source}/onpremsqlserver\") if \"Product\" in file.name and \"CustomerProductReview\" not in file.name and \"ProductCategories\" not in file.name and \"ProductQuality\" not in file.name and \"SellerProductPromotion\" not in file.name]\n",
    "onprem_ProductCategories_files = [file.path for file in dbutils.fs.ls(f\"{mount_point_source}/onpremsqlserver\") if \"ProductCategories\" in file.name]\n",
    "onprem_ProductQuality_files = [file.path for file in dbutils.fs.ls(f\"{mount_point_source}/onpremsqlserver\") if \"ProductQuality\" in file.name]\n",
    "onprem_Promotion_files = [file.path for file in dbutils.fs.ls(f\"{mount_point_source}/onpremsqlserver\") if \"Promotion\" in file.name and \"SellerProductPromotion\" not in file.name]\n",
    "onprem_Seller_files = [file.path for file in dbutils.fs.ls(f\"{mount_point_source}/onpremsqlserver\") if \"Seller\" in file.name and \"CustomerSellerReview\" not in file.name and \"SellerProductPromotion\" not in file.name]\n",
    "onprem_SellerProductPromotion_files = [file.path for file in dbutils.fs.ls(f\"{mount_point_source}/onpremsqlserver\") if \"SellerProductPromotion\" in file.name]\n",
    "onprem_StateProvinceRolling_files = [file.path for file in dbutils.fs.ls(f\"{mount_point_source}/onpremsqlserver\") if \"StateProvinceRolling\" in file.name]"
   ]
  },
  {
   "cell_type": "markdown",
   "metadata": {
    "application/vnd.databricks.v1+cell": {
     "cellMetadata": {
      "byteLimit": 2048000,
      "rowLimit": 10000
     },
     "inputWidgets": {},
     "nuid": "7b2d5793-5048-4453-b761-74bc16968b81",
     "showTitle": false,
     "tableResultSettingsMap": {},
     "title": ""
    }
   },
   "source": [
    "# Reading and Cleaning Data"
   ]
  },
  {
   "cell_type": "markdown",
   "metadata": {
    "application/vnd.databricks.v1+cell": {
     "cellMetadata": {
      "byteLimit": 2048000,
      "rowLimit": 10000
     },
     "inputWidgets": {},
     "nuid": "e7c9dd45-8717-42de-aeb9-f0ab0a6ad8dd",
     "showTitle": false,
     "tableResultSettingsMap": {},
     "title": ""
    }
   },
   "source": [
    "## Reading and Cleaning Softline Data From HTTP API Source"
   ]
  },
  {
   "cell_type": "markdown",
   "metadata": {
    "application/vnd.databricks.v1+cell": {
     "cellMetadata": {
      "byteLimit": 2048000,
      "rowLimit": 10000
     },
     "inputWidgets": {},
     "nuid": "91b656c1-a8fc-46dd-8dbd-8b9fbebf86f1",
     "showTitle": false,
     "tableResultSettingsMap": {},
     "title": ""
    }
   },
   "source": [
    "### http_accessories Dataset"
   ]
  },
  {
   "cell_type": "code",
   "execution_count": 0,
   "metadata": {
    "application/vnd.databricks.v1+cell": {
     "cellMetadata": {
      "byteLimit": 2048000,
      "rowLimit": 10000
     },
     "inputWidgets": {},
     "nuid": "82e533f9-f682-4f24-a85c-8c984102ad4a",
     "showTitle": false,
     "tableResultSettingsMap": {},
     "title": ""
    }
   },
   "outputs": [
    {
     "output_type": "stream",
     "name": "stdout",
     "output_type": "stream",
     "text": [
      "+------+--------+-----------------+-----------+-----------------+--------------------+------+---------+--------------------+------------+-----------+\n|source|filename|            Brand|   Category|           Colors|         Description| Price|ProductID|         ProductName|       Sizes|SubCategory|\n+------+--------+-----------------+-----------+-----------------+--------------------+------+---------+--------------------+------------+-----------+\n|  NULL|    NULL|    Timepiece Co.|Accessories|[\"Brown\",\"Black\"]|A timeless leathe...|149.99|        4|Luxury Leather Watch|[\"One Size\"]|    Watches|\n|  NULL|    NULL|      ShinyThings|Accessories|       [\"Silver\"]|A delicate silver...| 39.99|        5|Silver Pendant Ne...|[\"One Size\"]|    Jewelry|\n|  NULL|    NULL|Traveler's Choice|Accessories|[\"Brown\",\"Black\"]|A durable leather...| 89.99|        6|    Leather Backpack|  [\"Medium\"]|       Bags|\n+------+--------+-----------------+-----------+-----------------+--------------------+------+---------+--------------------+------------+-----------+\n\n"
     ]
    }
   ],
   "source": [
    "df_http_accessories = spark.read.csv(*http_Accessories_files, header=True)\n",
    "df_http_accessories.show(3)"
   ]
  },
  {
   "cell_type": "code",
   "execution_count": 0,
   "metadata": {
    "application/vnd.databricks.v1+cell": {
     "cellMetadata": {
      "byteLimit": 2048000,
      "rowLimit": 10000
     },
     "inputWidgets": {},
     "nuid": "0698c3bd-9f5f-4d90-98eb-81e704cea035",
     "showTitle": false,
     "tableResultSettingsMap": {},
     "title": ""
    }
   },
   "outputs": [
    {
     "output_type": "stream",
     "name": "stdout",
     "output_type": "stream",
     "text": [
      "+---------+-----------+-----------+--------------------+-----------------+------------+-----------------+------+--------------------+--------------------+\n|ProductID|   Category|SubCategory|         ProductName|            Brand|       Sizes|           Colors| Price|         Description| ingestion_timestamp|\n+---------+-----------+-----------+--------------------+-----------------+------------+-----------------+------+--------------------+--------------------+\n|        4|Accessories|    Watches|Luxury Leather Watch|    Timepiece Co.|[\"One Size\"]|[\"Brown\",\"Black\"]|149.99|A timeless leathe...|2024-11-28 22:07:...|\n|        5|Accessories|    Jewelry|Silver Pendant Ne...|      ShinyThings|[\"One Size\"]|       [\"Silver\"]| 39.99|A delicate silver...|2024-11-28 22:07:...|\n|        6|Accessories|       Bags|    Leather Backpack|Traveler's Choice|  [\"Medium\"]|[\"Brown\",\"Black\"]| 89.99|A durable leather...|2024-11-28 22:07:...|\n+---------+-----------+-----------+--------------------+-----------------+------------+-----------------+------+--------------------+--------------------+\n\n"
     ]
    }
   ],
   "source": [
    "# Adding \"ingestion_timestamp\" column, dropping unnecessary columns, dropping any columns with NULL \"ProductID\" values, rearranging the columns and ordering by \"ProductID\"\n",
    "df_http_accessories = df_http_accessories.withColumn(\"ingestion_timestamp\", current_timestamp()) \\\n",
    "    .drop(\"source\", \"filename\") \\\n",
    "    .dropna(subset = [\"ProductID\"]) \\\n",
    "    .select(\"ProductID\", \"Category\", \"SubCategory\", \"ProductName\", \"Brand\", \"Sizes\", \"Colors\", \"Price\", \"Description\", \"ingestion_timestamp\") \\\n",
    "    .orderBy(\"ProductID\")\n",
    "\n",
    "# Defining a window partitioned by ProductID and ordered by ingestion_timestamp descending\n",
    "window_spec = Window.partitionBy(\"ProductID\").orderBy(col(\"ingestion_timestamp\").desc())\n",
    "\n",
    "# Adding a row number column to rank rows within each partition\n",
    "df_http_accessories = df_http_accessories.withColumn(\"row_num\", row_number().over(window_spec))\n",
    "\n",
    "# Filtering to keep only the first row in each partition (latest entry per \"ProductID\")\n",
    "df_http_accessories = df_http_accessories.filter(col(\"row_num\") == 1).drop(\"row_num\")\n",
    "\n",
    "df_http_accessories.show(3)"
   ]
  },
  {
   "cell_type": "code",
   "execution_count": 0,
   "metadata": {
    "application/vnd.databricks.v1+cell": {
     "cellMetadata": {
      "byteLimit": 2048000,
      "rowLimit": 10000
     },
     "inputWidgets": {},
     "nuid": "0c8c67ec-0164-4ff9-87df-89694b206257",
     "showTitle": false,
     "tableResultSettingsMap": {},
     "title": ""
    }
   },
   "outputs": [
    {
     "output_type": "stream",
     "name": "stdout",
     "output_type": "stream",
     "text": [
      "Total http_accessories records: 3\n"
     ]
    }
   ],
   "source": [
    "print(f\"Total http_accessories records: {df_http_accessories.count()}\")"
   ]
  },
  {
   "cell_type": "code",
   "execution_count": 0,
   "metadata": {
    "application/vnd.databricks.v1+cell": {
     "cellMetadata": {
      "byteLimit": 2048000,
      "rowLimit": 10000
     },
     "inputWidgets": {},
     "nuid": "a66fa23a-c48c-4856-9c44-d7e9b271f38d",
     "showTitle": false,
     "tableResultSettingsMap": {},
     "title": ""
    }
   },
   "outputs": [
    {
     "output_type": "execute_result",
     "data": {
      "text/plain": [
       "['ProductID',\n",
       " 'Category',\n",
       " 'SubCategory',\n",
       " 'ProductName',\n",
       " 'Brand',\n",
       " 'Sizes',\n",
       " 'Colors',\n",
       " 'Price',\n",
       " 'Description',\n",
       " 'ingestion_timestamp']"
      ]
     },
     "execution_count": 211,
     "metadata": {},
     "output_type": "execute_result"
    }
   ],
   "source": [
    "df_http_accessories.columns"
   ]
  },
  {
   "cell_type": "code",
   "execution_count": 0,
   "metadata": {
    "application/vnd.databricks.v1+cell": {
     "cellMetadata": {
      "byteLimit": 2048000,
      "rowLimit": 10000
     },
     "inputWidgets": {},
     "nuid": "4eb8389f-1ef9-49bf-964a-64fea9cb38fa",
     "showTitle": false,
     "tableResultSettingsMap": {},
     "title": ""
    }
   },
   "outputs": [
    {
     "output_type": "stream",
     "name": "stdout",
     "output_type": "stream",
     "text": [
      "root\n |-- ProductID: integer (nullable = true)\n |-- Category: string (nullable = true)\n |-- SubCategory: string (nullable = true)\n |-- ProductName: string (nullable = true)\n |-- Brand: string (nullable = true)\n |-- Sizes: string (nullable = true)\n |-- Colors: string (nullable = true)\n |-- Price: decimal(10,2) (nullable = true)\n |-- Description: string (nullable = true)\n |-- ingestion_timestamp: timestamp (nullable = false)\n\n"
     ]
    }
   ],
   "source": [
    "# Casting data types\n",
    "df_http_accessories = df_http_accessories \\\n",
    "    .withColumn(\"ProductID\", col(\"ProductID\").cast(IntegerType())) \\\n",
    "    .withColumn(\"Category\", col(\"Category\").cast(StringType())) \\\n",
    "    .withColumn(\"SubCategory\", col(\"SubCategory\").cast(StringType())) \\\n",
    "    .withColumn(\"ProductName\", col(\"ProductName\").cast(StringType())) \\\n",
    "    .withColumn(\"Brand\", col(\"Brand\").cast(StringType())) \\\n",
    "    .withColumn(\"Sizes\", col(\"Sizes\").cast(StringType())) \\\n",
    "    .withColumn(\"Colors\", col(\"Colors\").cast(StringType())) \\\n",
    "    .withColumn(\"Price\", col(\"Price\").cast(DecimalType(10,2))) \\\n",
    "    .withColumn(\"Description\", col(\"Description\").cast(StringType())) \\\n",
    "    .withColumn(\"ingestion_timestamp\", col(\"ingestion_timestamp\").cast(\"timestamp\"))\n",
    "\n",
    "df_http_accessories.printSchema()"
   ]
  },
  {
   "cell_type": "code",
   "execution_count": 0,
   "metadata": {
    "application/vnd.databricks.v1+cell": {
     "cellMetadata": {
      "byteLimit": 2048000,
      "rowLimit": 10000
     },
     "inputWidgets": {},
     "nuid": "5080db98-0661-4787-a647-e18e03fb7bfe",
     "showTitle": false,
     "tableResultSettingsMap": {},
     "title": ""
    }
   },
   "outputs": [
    {
     "output_type": "stream",
     "name": "stdout",
     "output_type": "stream",
     "text": [
      "+---------+-----------+-----------+--------------------+-----------------+------------+-----------------+------+--------------------+--------------------+\n|ProductID|   Category|SubCategory|         ProductName|            Brand|       Sizes|           Colors| Price|         Description| ingestion_timestamp|\n+---------+-----------+-----------+--------------------+-----------------+------------+-----------------+------+--------------------+--------------------+\n|        4|Accessories|    Watches|Luxury Leather Watch|    Timepiece Co.|[\"One Size\"]|[\"Brown\",\"Black\"]|149.99|A timeless leathe...|2024-11-28 22:07:...|\n|        5|Accessories|    Jewelry|Silver Pendant Ne...|      ShinyThings|[\"One Size\"]|       [\"Silver\"]| 39.99|A delicate silver...|2024-11-28 22:07:...|\n|        6|Accessories|       Bags|    Leather Backpack|Traveler's Choice|  [\"Medium\"]|[\"Brown\",\"Black\"]| 89.99|A durable leather...|2024-11-28 22:07:...|\n+---------+-----------+-----------+--------------------+-----------------+------------+-----------------+------+--------------------+--------------------+\n\n"
     ]
    }
   ],
   "source": [
    "df_http_accessories.show(3)"
   ]
  },
  {
   "cell_type": "markdown",
   "metadata": {
    "application/vnd.databricks.v1+cell": {
     "cellMetadata": {
      "byteLimit": 2048000,
      "rowLimit": 10000
     },
     "inputWidgets": {},
     "nuid": "d4c1076e-dd82-45b3-b084-ba7f5592d95e",
     "showTitle": false,
     "tableResultSettingsMap": {},
     "title": ""
    }
   },
   "source": [
    "### http_clothing Dataset"
   ]
  },
  {
   "cell_type": "code",
   "execution_count": 0,
   "metadata": {
    "application/vnd.databricks.v1+cell": {
     "cellMetadata": {
      "byteLimit": 2048000,
      "rowLimit": 10000
     },
     "inputWidgets": {},
     "nuid": "1f559581-0ffd-4340-9146-7bfdec5819c6",
     "showTitle": false,
     "tableResultSettingsMap": {},
     "title": ""
    }
   },
   "outputs": [
    {
     "output_type": "stream",
     "name": "stdout",
     "output_type": "stream",
     "text": [
      "+------+--------+------------+--------+--------------------+--------------------+-----+---------+--------------------+------------------+-----------+\n|source|filename|       Brand|Category|              Colors|         Description|Price|ProductID|         ProductName|             Sizes|SubCategory|\n+------+--------+------------+--------+--------------------+--------------------+-----+---------+--------------------+------------------+-----------+\n|  NULL|    NULL| FashionWear|Clothing|[\"Red\",\"Blue\",\"Bl...|A stylish slim-fi...|29.99|        1|    Slim Fit T-Shirt|[\"S\",\"M\",\"L\",\"XL\"]|   Menswear|\n|  NULL|    NULL|ElegantStyle|Clothing|[\"White\",\"Yellow\"...|A light and breez...|49.99|        2| Floral Summer Dress|     [\"S\",\"M\",\"L\"]| Womenswear|\n|  NULL|    NULL|   UrbanEdge|Clothing|    [\"Blue\",\"Black\"]|A classic denim j...|69.99|        3|Classic Denim Jacket|    [\"M\",\"L\",\"XL\"]|  Outerwear|\n+------+--------+------------+--------+--------------------+--------------------+-----+---------+--------------------+------------------+-----------+\n\n"
     ]
    }
   ],
   "source": [
    "df_http_clothing = spark.read.csv(*http_Clothing_files, header=True)\n",
    "df_http_clothing.show(3)"
   ]
  },
  {
   "cell_type": "code",
   "execution_count": 0,
   "metadata": {
    "application/vnd.databricks.v1+cell": {
     "cellMetadata": {
      "byteLimit": 2048000,
      "rowLimit": 10000
     },
     "inputWidgets": {},
     "nuid": "441f041e-b829-469c-bd8e-ce057f8ab670",
     "showTitle": false,
     "tableResultSettingsMap": {},
     "title": ""
    }
   },
   "outputs": [
    {
     "output_type": "stream",
     "name": "stdout",
     "output_type": "stream",
     "text": [
      "+---------+--------+-----------+--------------------+------------+------------------+--------------------+-----+--------------------+--------------------+\n|ProductID|Category|SubCategory|         ProductName|       Brand|             Sizes|              Colors|Price|         Description| ingestion_timestamp|\n+---------+--------+-----------+--------------------+------------+------------------+--------------------+-----+--------------------+--------------------+\n|        1|Clothing|   Menswear|    Slim Fit T-Shirt| FashionWear|[\"S\",\"M\",\"L\",\"XL\"]|[\"Red\",\"Blue\",\"Bl...|29.99|A stylish slim-fi...|2024-11-28 22:07:...|\n|        2|Clothing| Womenswear| Floral Summer Dress|ElegantStyle|     [\"S\",\"M\",\"L\"]|[\"White\",\"Yellow\"...|49.99|A light and breez...|2024-11-28 22:07:...|\n|        3|Clothing|  Outerwear|Classic Denim Jacket|   UrbanEdge|    [\"M\",\"L\",\"XL\"]|    [\"Blue\",\"Black\"]|69.99|A classic denim j...|2024-11-28 22:07:...|\n+---------+--------+-----------+--------------------+------------+------------------+--------------------+-----+--------------------+--------------------+\n\n"
     ]
    }
   ],
   "source": [
    "df_http_clothing = df_http_clothing.withColumn(\"ingestion_timestamp\", current_timestamp()) \\\n",
    "    .drop(\"source\", \"filename\") \\\n",
    "    .dropna(subset = [\"ProductID\"]) \\\n",
    "    .select(\"ProductID\", \"Category\", \"SubCategory\", \"ProductName\", \"Brand\", \"Sizes\", \"Colors\", \"Price\", \"Description\", \"ingestion_timestamp\") \\\n",
    "    .orderBy(\"ProductID\")\n",
    "\n",
    "window_spec = Window.partitionBy(\"ProductID\").orderBy(col(\"ingestion_timestamp\").desc())\n",
    "df_http_clothing = df_http_clothing.withColumn(\"row_num\", row_number().over(window_spec))\n",
    "df_http_clothing = df_http_clothing.filter(col(\"row_num\") == 1).drop(\"row_num\")\n",
    "\n",
    "df_http_clothing.show(3)"
   ]
  },
  {
   "cell_type": "code",
   "execution_count": 0,
   "metadata": {
    "application/vnd.databricks.v1+cell": {
     "cellMetadata": {
      "byteLimit": 2048000,
      "rowLimit": 10000
     },
     "inputWidgets": {},
     "nuid": "4bcda15c-8ff8-424b-9701-5e9ab4bb76cc",
     "showTitle": false,
     "tableResultSettingsMap": {},
     "title": ""
    }
   },
   "outputs": [
    {
     "output_type": "stream",
     "name": "stdout",
     "output_type": "stream",
     "text": [
      "Total http_clothing records: 3\n"
     ]
    }
   ],
   "source": [
    "print(f\"Total http_clothing records: {df_http_clothing.count()}\")"
   ]
  },
  {
   "cell_type": "code",
   "execution_count": 0,
   "metadata": {
    "application/vnd.databricks.v1+cell": {
     "cellMetadata": {
      "byteLimit": 2048000,
      "rowLimit": 10000
     },
     "inputWidgets": {},
     "nuid": "0343351a-48be-4870-bfb2-cef0aa908e68",
     "showTitle": false,
     "tableResultSettingsMap": {},
     "title": ""
    }
   },
   "outputs": [
    {
     "output_type": "execute_result",
     "data": {
      "text/plain": [
       "['ProductID',\n",
       " 'Category',\n",
       " 'SubCategory',\n",
       " 'ProductName',\n",
       " 'Brand',\n",
       " 'Sizes',\n",
       " 'Colors',\n",
       " 'Price',\n",
       " 'Description',\n",
       " 'ingestion_timestamp']"
      ]
     },
     "execution_count": 217,
     "metadata": {},
     "output_type": "execute_result"
    }
   ],
   "source": [
    "df_http_clothing.columns"
   ]
  },
  {
   "cell_type": "code",
   "execution_count": 0,
   "metadata": {
    "application/vnd.databricks.v1+cell": {
     "cellMetadata": {
      "byteLimit": 2048000,
      "rowLimit": 10000
     },
     "inputWidgets": {},
     "nuid": "f9f8cf49-e213-414e-8bd4-d2ba17a02030",
     "showTitle": false,
     "tableResultSettingsMap": {},
     "title": ""
    }
   },
   "outputs": [
    {
     "output_type": "stream",
     "name": "stdout",
     "output_type": "stream",
     "text": [
      "root\n |-- ProductID: integer (nullable = true)\n |-- Category: string (nullable = true)\n |-- SubCategory: string (nullable = true)\n |-- ProductName: string (nullable = true)\n |-- Brand: string (nullable = true)\n |-- Sizes: string (nullable = true)\n |-- Colors: string (nullable = true)\n |-- Price: decimal(10,2) (nullable = true)\n |-- Description: string (nullable = true)\n |-- ingestion_timestamp: timestamp (nullable = false)\n\n"
     ]
    }
   ],
   "source": [
    "df_http_clothing = df_http_clothing \\\n",
    "    .withColumn(\"ProductID\", col(\"ProductID\").cast(IntegerType())) \\\n",
    "    .withColumn(\"Category\", col(\"Category\").cast(StringType())) \\\n",
    "    .withColumn(\"SubCategory\", col(\"SubCategory\").cast(StringType())) \\\n",
    "    .withColumn(\"ProductName\", col(\"ProductName\").cast(StringType())) \\\n",
    "    .withColumn(\"Brand\", col(\"Brand\").cast(StringType())) \\\n",
    "    .withColumn(\"Sizes\", col(\"Sizes\").cast(StringType())) \\\n",
    "    .withColumn(\"Colors\", col(\"Colors\").cast(StringType())) \\\n",
    "    .withColumn(\"Price\", col(\"Price\").cast(DecimalType(10,2))) \\\n",
    "    .withColumn(\"Description\", col(\"Description\").cast(StringType())) \\\n",
    "    .withColumn(\"ingestion_timestamp\", col(\"ingestion_timestamp\").cast(\"timestamp\"))\n",
    "\n",
    "df_http_clothing.printSchema()"
   ]
  },
  {
   "cell_type": "code",
   "execution_count": 0,
   "metadata": {
    "application/vnd.databricks.v1+cell": {
     "cellMetadata": {
      "byteLimit": 2048000,
      "rowLimit": 10000
     },
     "inputWidgets": {},
     "nuid": "c7f4342a-ac5e-4c1a-a5d4-2d465b539699",
     "showTitle": false,
     "tableResultSettingsMap": {},
     "title": ""
    }
   },
   "outputs": [
    {
     "output_type": "stream",
     "name": "stdout",
     "output_type": "stream",
     "text": [
      "+---------+-----------+-----------+--------------------+-----------------+------------+-----------------+------+--------------------+--------------------+\n|ProductID|   Category|SubCategory|         ProductName|            Brand|       Sizes|           Colors| Price|         Description| ingestion_timestamp|\n+---------+-----------+-----------+--------------------+-----------------+------------+-----------------+------+--------------------+--------------------+\n|        4|Accessories|    Watches|Luxury Leather Watch|    Timepiece Co.|[\"One Size\"]|[\"Brown\",\"Black\"]|149.99|A timeless leathe...|2024-11-28 22:07:...|\n|        5|Accessories|    Jewelry|Silver Pendant Ne...|      ShinyThings|[\"One Size\"]|       [\"Silver\"]| 39.99|A delicate silver...|2024-11-28 22:07:...|\n|        6|Accessories|       Bags|    Leather Backpack|Traveler's Choice|  [\"Medium\"]|[\"Brown\",\"Black\"]| 89.99|A durable leather...|2024-11-28 22:07:...|\n+---------+-----------+-----------+--------------------+-----------------+------------+-----------------+------+--------------------+--------------------+\n\n"
     ]
    }
   ],
   "source": [
    "df_http_accessories.show(3)"
   ]
  },
  {
   "cell_type": "markdown",
   "metadata": {
    "application/vnd.databricks.v1+cell": {
     "cellMetadata": {
      "byteLimit": 2048000,
      "rowLimit": 10000
     },
     "inputWidgets": {},
     "nuid": "e95154af-af80-4ceb-b799-66828bf254fb",
     "showTitle": false,
     "tableResultSettingsMap": {},
     "title": ""
    }
   },
   "source": [
    "### http_footwear Dataset"
   ]
  },
  {
   "cell_type": "code",
   "execution_count": 0,
   "metadata": {
    "application/vnd.databricks.v1+cell": {
     "cellMetadata": {
      "byteLimit": 2048000,
      "rowLimit": 10000
     },
     "inputWidgets": {},
     "nuid": "def4013f-1eff-4961-80aa-3aa750118140",
     "showTitle": false,
     "tableResultSettingsMap": {},
     "title": ""
    }
   },
   "outputs": [
    {
     "output_type": "stream",
     "name": "stdout",
     "output_type": "stream",
     "text": [
      "+------+--------+-----------+--------+--------------------+--------------------+-----+---------+-----------------+--------------------+-----------+\n|source|filename|      Brand|Category|              Colors|         Description|Price|ProductID|      ProductName|               Sizes|SubCategory|\n+------+--------+-----------+--------+--------------------+--------------------+-----+---------+-----------------+--------------------+-----------+\n|  NULL|    NULL| SpeedTrack|Footwear|[\"White\",\"Blue\",\"...|Lightweight runni...|79.99|        7|    Running Shoes|[\"8\",\"9\",\"10\",\"11...|   Menswear|\n|  NULL|    NULL|  StyleStep|Footwear|[\"Black\",\"Red\",\"G...|Elegant high-heel...|59.99|        8|High Heel Sandals|[\"5\",\"6\",\"7\",\"8\",...| Womenswear|\n|  NULL|    NULL|ComfortWalk|Footwear|[\"Gray\",\"Black\",\"...|Comfortable sneak...|49.99|        9|  Casual Sneakers|[\"6\",\"7\",\"8\",\"9\",...|     Unisex|\n+------+--------+-----------+--------+--------------------+--------------------+-----+---------+-----------------+--------------------+-----------+\n\n"
     ]
    }
   ],
   "source": [
    "df_http_footwear = spark.read.csv(*http_Footwear_files, header=True)\n",
    "df_http_footwear.show(3)"
   ]
  },
  {
   "cell_type": "code",
   "execution_count": 0,
   "metadata": {
    "application/vnd.databricks.v1+cell": {
     "cellMetadata": {
      "byteLimit": 2048000,
      "rowLimit": 10000
     },
     "inputWidgets": {},
     "nuid": "37aa275d-4dd4-4b2b-a882-ef0a816d9405",
     "showTitle": false,
     "tableResultSettingsMap": {},
     "title": ""
    }
   },
   "outputs": [
    {
     "output_type": "stream",
     "name": "stdout",
     "output_type": "stream",
     "text": [
      "+---------+--------+-----------+-----------------+-----------+--------------------+--------------------+-----+--------------------+--------------------+\n|ProductID|Category|SubCategory|      ProductName|      Brand|               Sizes|              Colors|Price|         Description| ingestion_timestamp|\n+---------+--------+-----------+-----------------+-----------+--------------------+--------------------+-----+--------------------+--------------------+\n|        7|Footwear|   Menswear|    Running Shoes| SpeedTrack|[\"8\",\"9\",\"10\",\"11...|[\"White\",\"Blue\",\"...|79.99|Lightweight runni...|2024-11-28 22:07:...|\n|        8|Footwear| Womenswear|High Heel Sandals|  StyleStep|[\"5\",\"6\",\"7\",\"8\",...|[\"Black\",\"Red\",\"G...|59.99|Elegant high-heel...|2024-11-28 22:07:...|\n|        9|Footwear|     Unisex|  Casual Sneakers|ComfortWalk|[\"6\",\"7\",\"8\",\"9\",...|[\"Gray\",\"Black\",\"...|49.99|Comfortable sneak...|2024-11-28 22:07:...|\n+---------+--------+-----------+-----------------+-----------+--------------------+--------------------+-----+--------------------+--------------------+\n\n"
     ]
    }
   ],
   "source": [
    "df_http_footwear = df_http_footwear.withColumn(\"ingestion_timestamp\", current_timestamp()) \\\n",
    "    .drop(\"source\", \"filename\") \\\n",
    "    .dropna(subset = [\"ProductID\"]) \\\n",
    "    .select(\"ProductID\", \"Category\", \"SubCategory\", \"ProductName\", \"Brand\", \"Sizes\", \"Colors\", \"Price\", \"Description\", \"ingestion_timestamp\") \\\n",
    "    .orderBy(\"ProductID\")\n",
    "\n",
    "window_spec = Window.partitionBy(\"ProductID\").orderBy(col(\"ingestion_timestamp\").desc())\n",
    "df_http_footwear = df_http_footwear.withColumn(\"row_num\", row_number().over(window_spec))\n",
    "df_http_footwear = df_http_footwear.filter(col(\"row_num\") == 1).drop(\"row_num\")\n",
    "\n",
    "df_http_footwear.show(3)"
   ]
  },
  {
   "cell_type": "code",
   "execution_count": 0,
   "metadata": {
    "application/vnd.databricks.v1+cell": {
     "cellMetadata": {
      "byteLimit": 2048000,
      "rowLimit": 10000
     },
     "inputWidgets": {},
     "nuid": "cf83a287-199b-4b5f-babc-3d260dca0c2c",
     "showTitle": false,
     "tableResultSettingsMap": {},
     "title": ""
    }
   },
   "outputs": [
    {
     "output_type": "stream",
     "name": "stdout",
     "output_type": "stream",
     "text": [
      "Total http_footwear records: 3\n"
     ]
    }
   ],
   "source": [
    "print(f\"Total http_footwear records: {df_http_footwear.count()}\")"
   ]
  },
  {
   "cell_type": "code",
   "execution_count": 0,
   "metadata": {
    "application/vnd.databricks.v1+cell": {
     "cellMetadata": {
      "byteLimit": 2048000,
      "rowLimit": 10000
     },
     "inputWidgets": {},
     "nuid": "0d282d8a-a4b1-4d85-94a6-fe6a153e33e6",
     "showTitle": false,
     "tableResultSettingsMap": {},
     "title": ""
    }
   },
   "outputs": [
    {
     "output_type": "execute_result",
     "data": {
      "text/plain": [
       "['ProductID',\n",
       " 'Category',\n",
       " 'SubCategory',\n",
       " 'ProductName',\n",
       " 'Brand',\n",
       " 'Sizes',\n",
       " 'Colors',\n",
       " 'Price',\n",
       " 'Description',\n",
       " 'ingestion_timestamp']"
      ]
     },
     "execution_count": 223,
     "metadata": {},
     "output_type": "execute_result"
    }
   ],
   "source": [
    "df_http_footwear.columns"
   ]
  },
  {
   "cell_type": "code",
   "execution_count": 0,
   "metadata": {
    "application/vnd.databricks.v1+cell": {
     "cellMetadata": {
      "byteLimit": 2048000,
      "rowLimit": 10000
     },
     "inputWidgets": {},
     "nuid": "0a313c92-12f4-42ae-beee-c4c49bc8e029",
     "showTitle": false,
     "tableResultSettingsMap": {},
     "title": ""
    }
   },
   "outputs": [
    {
     "output_type": "stream",
     "name": "stdout",
     "output_type": "stream",
     "text": [
      "root\n |-- ProductID: integer (nullable = true)\n |-- Category: string (nullable = true)\n |-- SubCategory: string (nullable = true)\n |-- ProductName: string (nullable = true)\n |-- Brand: string (nullable = true)\n |-- Sizes: string (nullable = true)\n |-- Colors: string (nullable = true)\n |-- Price: decimal(10,2) (nullable = true)\n |-- Description: string (nullable = true)\n |-- ingestion_timestamp: timestamp (nullable = false)\n\n"
     ]
    }
   ],
   "source": [
    "df_http_footwear = df_http_footwear \\\n",
    "    .withColumn(\"ProductID\", col(\"ProductID\").cast(IntegerType())) \\\n",
    "    .withColumn(\"Category\", col(\"Category\").cast(StringType())) \\\n",
    "    .withColumn(\"SubCategory\", col(\"SubCategory\").cast(StringType())) \\\n",
    "    .withColumn(\"ProductName\", col(\"ProductName\").cast(StringType())) \\\n",
    "    .withColumn(\"Brand\", col(\"Brand\").cast(StringType())) \\\n",
    "    .withColumn(\"Sizes\", col(\"Sizes\").cast(StringType())) \\\n",
    "    .withColumn(\"Colors\", col(\"Colors\").cast(StringType())) \\\n",
    "    .withColumn(\"Price\", col(\"Price\").cast(DecimalType(10,2))) \\\n",
    "    .withColumn(\"Description\", col(\"Description\").cast(StringType())) \\\n",
    "    .withColumn(\"ingestion_timestamp\", col(\"ingestion_timestamp\").cast(\"timestamp\"))\n",
    "\n",
    "df_http_footwear.printSchema()"
   ]
  },
  {
   "cell_type": "code",
   "execution_count": 0,
   "metadata": {
    "application/vnd.databricks.v1+cell": {
     "cellMetadata": {
      "byteLimit": 2048000,
      "rowLimit": 10000
     },
     "inputWidgets": {},
     "nuid": "482cdd65-3bb0-4806-a658-d3d7c449cee4",
     "showTitle": false,
     "tableResultSettingsMap": {},
     "title": ""
    }
   },
   "outputs": [
    {
     "output_type": "stream",
     "name": "stdout",
     "output_type": "stream",
     "text": [
      "+---------+--------+-----------+-----------------+-----------+--------------------+--------------------+-----+--------------------+--------------------+\n|ProductID|Category|SubCategory|      ProductName|      Brand|               Sizes|              Colors|Price|         Description| ingestion_timestamp|\n+---------+--------+-----------+-----------------+-----------+--------------------+--------------------+-----+--------------------+--------------------+\n|        7|Footwear|   Menswear|    Running Shoes| SpeedTrack|[\"8\",\"9\",\"10\",\"11...|[\"White\",\"Blue\",\"...|79.99|Lightweight runni...|2024-11-28 22:07:...|\n|        8|Footwear| Womenswear|High Heel Sandals|  StyleStep|[\"5\",\"6\",\"7\",\"8\",...|[\"Black\",\"Red\",\"G...|59.99|Elegant high-heel...|2024-11-28 22:07:...|\n|        9|Footwear|     Unisex|  Casual Sneakers|ComfortWalk|[\"6\",\"7\",\"8\",\"9\",...|[\"Gray\",\"Black\",\"...|49.99|Comfortable sneak...|2024-11-28 22:07:...|\n+---------+--------+-----------+-----------------+-----------+--------------------+--------------------+-----+--------------------+--------------------+\n\n"
     ]
    }
   ],
   "source": [
    "df_http_footwear.show(3)"
   ]
  },
  {
   "cell_type": "markdown",
   "metadata": {
    "application/vnd.databricks.v1+cell": {
     "cellMetadata": {
      "byteLimit": 2048000,
      "rowLimit": 10000
     },
     "inputWidgets": {},
     "nuid": "45f0f21b-0839-4c43-bafb-ff0a89ef667a",
     "showTitle": false,
     "tableResultSettingsMap": {},
     "title": ""
    }
   },
   "source": [
    "### http_home_decor Dataset"
   ]
  },
  {
   "cell_type": "code",
   "execution_count": 0,
   "metadata": {
    "application/vnd.databricks.v1+cell": {
     "cellMetadata": {
      "byteLimit": 2048000,
      "rowLimit": 10000
     },
     "inputWidgets": {},
     "nuid": "27473bdd-29f1-4874-b46b-d5d6cefc35db",
     "showTitle": false,
     "tableResultSettingsMap": {},
     "title": ""
    }
   },
   "outputs": [
    {
     "output_type": "stream",
     "name": "stdout",
     "output_type": "stream",
     "text": [
      "+------+--------+--------------+----------+-----------------+--------------------+------+---------+--------------------+------------------+-----------+\n|source|filename|         Brand|  Category|           Colors|         Description| Price|ProductID|         ProductName|             Sizes|SubCategory|\n+------+--------+--------------+----------+-----------------+--------------------+------+---------+--------------------+------------------+-----------+\n|  NULL|    NULL|   BrightHomes|Home Decor|[\"White\",\"Black\"]|A sleek and moder...| 39.99|       10|   Modern Table Lamp|      [\"One Size\"]|   Lighting|\n|  NULL|    NULL|Artistic Vibes|Home Decor|   [\"Multicolor\"]|A vibrant abstrac...| 99.99|       11|Abstract Canvas P...|[\"Medium\",\"Large\"]|   Wall Art|\n|  NULL|    NULL|  Rustic Charm|Home Decor|[\"Brown\",\"Black\"]|A stylish wooden ...|129.99|       12| Wooden Coffee Table|      [\"One Size\"]|  Furniture|\n+------+--------+--------------+----------+-----------------+--------------------+------+---------+--------------------+------------------+-----------+\n\n"
     ]
    }
   ],
   "source": [
    "df_http_home_decor = spark.read.csv(*http_HomeDecor_files, header=True)\n",
    "df_http_home_decor.show(3)"
   ]
  },
  {
   "cell_type": "code",
   "execution_count": 0,
   "metadata": {
    "application/vnd.databricks.v1+cell": {
     "cellMetadata": {
      "byteLimit": 2048000,
      "rowLimit": 10000
     },
     "inputWidgets": {},
     "nuid": "af3d3750-a9b2-4982-8b4c-2326f2d6ca01",
     "showTitle": false,
     "tableResultSettingsMap": {},
     "title": ""
    }
   },
   "outputs": [
    {
     "output_type": "stream",
     "name": "stdout",
     "output_type": "stream",
     "text": [
      "+---------+----------+-----------+--------------------+--------------+------------------+-----------------+------+--------------------+--------------------+\n|ProductID|  Category|SubCategory|         ProductName|         Brand|             Sizes|           Colors| Price|         Description| ingestion_timestamp|\n+---------+----------+-----------+--------------------+--------------+------------------+-----------------+------+--------------------+--------------------+\n|       10|Home Decor|   Lighting|   Modern Table Lamp|   BrightHomes|      [\"One Size\"]|[\"White\",\"Black\"]| 39.99|A sleek and moder...|2024-11-28 22:07:...|\n|       11|Home Decor|   Wall Art|Abstract Canvas P...|Artistic Vibes|[\"Medium\",\"Large\"]|   [\"Multicolor\"]| 99.99|A vibrant abstrac...|2024-11-28 22:07:...|\n|       12|Home Decor|  Furniture| Wooden Coffee Table|  Rustic Charm|      [\"One Size\"]|[\"Brown\",\"Black\"]|129.99|A stylish wooden ...|2024-11-28 22:07:...|\n+---------+----------+-----------+--------------------+--------------+------------------+-----------------+------+--------------------+--------------------+\n\n"
     ]
    }
   ],
   "source": [
    "df_http_home_decor = df_http_home_decor.withColumn(\"ingestion_timestamp\", current_timestamp()) \\\n",
    "    .drop(\"source\", \"filename\") \\\n",
    "    .dropna(subset = [\"ProductID\"]) \\\n",
    "    .select(\"ProductID\", \"Category\", \"SubCategory\", \"ProductName\", \"Brand\", \"Sizes\", \"Colors\", \"Price\", \"Description\", \"ingestion_timestamp\") \\\n",
    "    .orderBy(\"ProductID\")\n",
    "\n",
    "window_spec = Window.partitionBy(\"ProductID\").orderBy(col(\"ingestion_timestamp\").desc())\n",
    "df_http_home_decor = df_http_home_decor.withColumn(\"row_num\", row_number().over(window_spec))\n",
    "df_http_home_decor = df_http_home_decor.filter(col(\"row_num\") == 1).drop(\"row_num\")\n",
    "\n",
    "df_http_home_decor.show(3)"
   ]
  },
  {
   "cell_type": "code",
   "execution_count": 0,
   "metadata": {
    "application/vnd.databricks.v1+cell": {
     "cellMetadata": {
      "byteLimit": 2048000,
      "rowLimit": 10000
     },
     "inputWidgets": {},
     "nuid": "e62ea51c-a0aa-4707-8a7f-3100eb9963e1",
     "showTitle": false,
     "tableResultSettingsMap": {},
     "title": ""
    }
   },
   "outputs": [
    {
     "output_type": "stream",
     "name": "stdout",
     "output_type": "stream",
     "text": [
      "Total http_home_decor records: 3\n"
     ]
    }
   ],
   "source": [
    "print(f\"Total http_home_decor records: {df_http_home_decor.count()}\")"
   ]
  },
  {
   "cell_type": "code",
   "execution_count": 0,
   "metadata": {
    "application/vnd.databricks.v1+cell": {
     "cellMetadata": {
      "byteLimit": 2048000,
      "rowLimit": 10000
     },
     "inputWidgets": {},
     "nuid": "03aed293-6e0d-45a6-9bbe-f3bb1ccadacc",
     "showTitle": false,
     "tableResultSettingsMap": {},
     "title": ""
    }
   },
   "outputs": [
    {
     "output_type": "execute_result",
     "data": {
      "text/plain": [
       "['ProductID',\n",
       " 'Category',\n",
       " 'SubCategory',\n",
       " 'ProductName',\n",
       " 'Brand',\n",
       " 'Sizes',\n",
       " 'Colors',\n",
       " 'Price',\n",
       " 'Description',\n",
       " 'ingestion_timestamp']"
      ]
     },
     "execution_count": 229,
     "metadata": {},
     "output_type": "execute_result"
    }
   ],
   "source": [
    "df_http_home_decor.columns"
   ]
  },
  {
   "cell_type": "code",
   "execution_count": 0,
   "metadata": {
    "application/vnd.databricks.v1+cell": {
     "cellMetadata": {
      "byteLimit": 2048000,
      "rowLimit": 10000
     },
     "inputWidgets": {},
     "nuid": "0c63ac2c-fc95-40c6-97e4-b6a89f625839",
     "showTitle": false,
     "tableResultSettingsMap": {},
     "title": ""
    }
   },
   "outputs": [
    {
     "output_type": "stream",
     "name": "stdout",
     "output_type": "stream",
     "text": [
      "root\n |-- ProductID: integer (nullable = true)\n |-- Category: string (nullable = true)\n |-- SubCategory: string (nullable = true)\n |-- ProductName: string (nullable = true)\n |-- Brand: string (nullable = true)\n |-- Sizes: string (nullable = true)\n |-- Colors: string (nullable = true)\n |-- Price: decimal(10,2) (nullable = true)\n |-- Description: string (nullable = true)\n |-- ingestion_timestamp: timestamp (nullable = false)\n\n"
     ]
    }
   ],
   "source": [
    "df_http_home_decor = df_http_home_decor \\\n",
    "    .withColumn(\"ProductID\", col(\"ProductID\").cast(IntegerType())) \\\n",
    "    .withColumn(\"Category\", col(\"Category\").cast(StringType())) \\\n",
    "    .withColumn(\"SubCategory\", col(\"SubCategory\").cast(StringType())) \\\n",
    "    .withColumn(\"ProductName\", col(\"ProductName\").cast(StringType())) \\\n",
    "    .withColumn(\"Brand\", col(\"Brand\").cast(StringType())) \\\n",
    "    .withColumn(\"Sizes\", col(\"Sizes\").cast(StringType())) \\\n",
    "    .withColumn(\"Colors\", col(\"Colors\").cast(StringType())) \\\n",
    "    .withColumn(\"Price\", col(\"Price\").cast(DecimalType(10,2))) \\\n",
    "    .withColumn(\"Description\", col(\"Description\").cast(StringType())) \\\n",
    "    .withColumn(\"ingestion_timestamp\", col(\"ingestion_timestamp\").cast(\"timestamp\"))\n",
    "\n",
    "df_http_home_decor.printSchema()"
   ]
  },
  {
   "cell_type": "code",
   "execution_count": 0,
   "metadata": {
    "application/vnd.databricks.v1+cell": {
     "cellMetadata": {
      "byteLimit": 2048000,
      "rowLimit": 10000
     },
     "inputWidgets": {},
     "nuid": "e2e797f4-6d40-478f-a59c-a186d601fa63",
     "showTitle": false,
     "tableResultSettingsMap": {},
     "title": ""
    }
   },
   "outputs": [
    {
     "output_type": "stream",
     "name": "stdout",
     "output_type": "stream",
     "text": [
      "+---------+----------+-----------+--------------------+--------------+------------------+-----------------+------+--------------------+--------------------+\n|ProductID|  Category|SubCategory|         ProductName|         Brand|             Sizes|           Colors| Price|         Description| ingestion_timestamp|\n+---------+----------+-----------+--------------------+--------------+------------------+-----------------+------+--------------------+--------------------+\n|       10|Home Decor|   Lighting|   Modern Table Lamp|   BrightHomes|      [\"One Size\"]|[\"White\",\"Black\"]| 39.99|A sleek and moder...|2024-11-28 22:07:...|\n|       11|Home Decor|   Wall Art|Abstract Canvas P...|Artistic Vibes|[\"Medium\",\"Large\"]|   [\"Multicolor\"]| 99.99|A vibrant abstrac...|2024-11-28 22:07:...|\n|       12|Home Decor|  Furniture| Wooden Coffee Table|  Rustic Charm|      [\"One Size\"]|[\"Brown\",\"Black\"]|129.99|A stylish wooden ...|2024-11-28 22:07:...|\n+---------+----------+-----------+--------------------+--------------+------------------+-----------------+------+--------------------+--------------------+\n\n"
     ]
    }
   ],
   "source": [
    "df_http_home_decor.show(3)"
   ]
  },
  {
   "cell_type": "markdown",
   "metadata": {
    "application/vnd.databricks.v1+cell": {
     "cellMetadata": {
      "byteLimit": 2048000,
      "rowLimit": 10000
     },
     "inputWidgets": {},
     "nuid": "64c34e3c-4b0e-4e49-a5ea-e001600c6739",
     "showTitle": false,
     "tableResultSettingsMap": {},
     "title": ""
    }
   },
   "source": [
    "## Reading and Cleaning Data From the Azure SQL Database Source"
   ]
  },
  {
   "cell_type": "markdown",
   "metadata": {
    "application/vnd.databricks.v1+cell": {
     "cellMetadata": {
      "byteLimit": 2048000,
      "rowLimit": 10000
     },
     "inputWidgets": {},
     "nuid": "2f56be33-7277-4782-a76f-4b721d95b3bd",
     "showTitle": false,
     "tableResultSettingsMap": {},
     "title": ""
    }
   },
   "source": [
    "### azsqldb_address Dataset"
   ]
  },
  {
   "cell_type": "code",
   "execution_count": 0,
   "metadata": {
    "application/vnd.databricks.v1+cell": {
     "cellMetadata": {
      "byteLimit": 2048000,
      "rowLimit": 10000
     },
     "inputWidgets": {},
     "nuid": "528d6105-956e-41fe-abf7-7a076bad25f7",
     "showTitle": false,
     "tableResultSettingsMap": {},
     "title": ""
    }
   },
   "outputs": [
    {
     "output_type": "stream",
     "name": "stdout",
     "output_type": "stream",
     "text": [
      "+---------+-------------------+------------+-------+-------------+-------------+----------+--------------------+-------------------+\n|AddressID|       AddressLine1|AddressLine2|   City|StateProvince|CountryRegion|PostalCode|             rowguid|       ModifiedDate|\n+---------+-------------------+------------+-------+-------------+-------------+----------+--------------------+-------------------+\n|        9|  8713 Yosemite Ct.|        NULL|Bothell|   Washington|United States|     98011|268af621-76d7-4c7...|2006-07-01 00:00:00|\n|       11|1318 Lasalle Street|        NULL|Bothell|   Washington|United States|     98011|981b3303-aca2-49c...|2007-04-01 00:00:00|\n|       25|   9178 Jumping St.|        NULL| Dallas|        Texas|United States|     75201|c8df3bd9-48f0-465...|2006-09-01 00:00:00|\n+---------+-------------------+------------+-------+-------------+-------------+----------+--------------------+-------------------+\nonly showing top 3 rows\n\n"
     ]
    }
   ],
   "source": [
    "df_azsqldb_address = spark.read.parquet(*azsqldb_Address_files, header=True) \n",
    "df_azsqldb_address.show(3)"
   ]
  },
  {
   "cell_type": "code",
   "execution_count": 0,
   "metadata": {
    "application/vnd.databricks.v1+cell": {
     "cellMetadata": {
      "byteLimit": 2048000,
      "rowLimit": 10000
     },
     "inputWidgets": {},
     "nuid": "d9cf7537-5214-42e0-9ddd-0b40acb2e2e6",
     "showTitle": false,
     "tableResultSettingsMap": {},
     "title": ""
    }
   },
   "outputs": [
    {
     "output_type": "stream",
     "name": "stdout",
     "output_type": "stream",
     "text": [
      "+---------+-------------------+------------+-------+-------------+-------------+----------+--------------------+-------------------+--------------------+\n|AddressID|       AddressLine1|AddressLine2|   City|StateProvince|CountryRegion|PostalCode|             rowguid|       ModifiedDate| ingestion_timestamp|\n+---------+-------------------+------------+-------+-------------+-------------+----------+--------------------+-------------------+--------------------+\n|        9|  8713 Yosemite Ct.|        NULL|Bothell|   Washington|United States|     98011|268af621-76d7-4c7...|2006-07-01 00:00:00|2024-11-28 22:07:...|\n|       11|1318 Lasalle Street|        NULL|Bothell|   Washington|United States|     98011|981b3303-aca2-49c...|2007-04-01 00:00:00|2024-11-28 22:07:...|\n|       25|   9178 Jumping St.|        NULL| Dallas|        Texas|United States|     75201|c8df3bd9-48f0-465...|2006-09-01 00:00:00|2024-11-28 22:07:...|\n+---------+-------------------+------------+-------+-------------+-------------+----------+--------------------+-------------------+--------------------+\nonly showing top 3 rows\n\n"
     ]
    }
   ],
   "source": [
    "df_azsqldb_address = df_azsqldb_address.withColumn(\"ingestion_timestamp\", current_timestamp()) \\\n",
    "    .dropna(subset = [\"AddressID\"]) \\\n",
    "    .select(\"AddressID\", \"AddressLine1\", \"AddressLine2\", \"City\", \"StateProvince\", \"CountryRegion\", \"PostalCode\", \"rowguid\", \"ModifiedDate\", \"ingestion_timestamp\") \\\n",
    "    .orderBy(\"AddressID\")\n",
    "\n",
    "window_spec = Window.partitionBy(\"AddressID\").orderBy(col(\"ingestion_timestamp\").desc())\n",
    "df_azsqldb_address = df_azsqldb_address.withColumn(\"row_num\", row_number().over(window_spec))\n",
    "df_azsqldb_address = df_azsqldb_address.filter(col(\"row_num\") == 1).drop(\"row_num\")\n",
    "\n",
    "df_azsqldb_address.show(3)"
   ]
  },
  {
   "cell_type": "code",
   "execution_count": 0,
   "metadata": {
    "application/vnd.databricks.v1+cell": {
     "cellMetadata": {
      "byteLimit": 2048000,
      "rowLimit": 10000
     },
     "inputWidgets": {},
     "nuid": "24b2ad74-cb23-4697-9ec9-4b8af05054d5",
     "showTitle": false,
     "tableResultSettingsMap": {},
     "title": ""
    }
   },
   "outputs": [
    {
     "output_type": "stream",
     "name": "stdout",
     "output_type": "stream",
     "text": [
      "Total azsqldb_address records: 450\n"
     ]
    }
   ],
   "source": [
    "print(f\"Total azsqldb_address records: {df_azsqldb_address.count()}\")"
   ]
  },
  {
   "cell_type": "code",
   "execution_count": 0,
   "metadata": {
    "application/vnd.databricks.v1+cell": {
     "cellMetadata": {
      "byteLimit": 2048000,
      "rowLimit": 10000
     },
     "inputWidgets": {},
     "nuid": "906fcb4f-743a-4831-94f4-1fec565de55a",
     "showTitle": false,
     "tableResultSettingsMap": {},
     "title": ""
    }
   },
   "outputs": [
    {
     "output_type": "execute_result",
     "data": {
      "text/plain": [
       "['AddressID',\n",
       " 'AddressLine1',\n",
       " 'AddressLine2',\n",
       " 'City',\n",
       " 'StateProvince',\n",
       " 'CountryRegion',\n",
       " 'PostalCode',\n",
       " 'rowguid',\n",
       " 'ModifiedDate',\n",
       " 'ingestion_timestamp']"
      ]
     },
     "execution_count": 235,
     "metadata": {},
     "output_type": "execute_result"
    }
   ],
   "source": [
    "df_azsqldb_address.columns"
   ]
  },
  {
   "cell_type": "code",
   "execution_count": 0,
   "metadata": {
    "application/vnd.databricks.v1+cell": {
     "cellMetadata": {
      "byteLimit": 2048000,
      "rowLimit": 10000
     },
     "inputWidgets": {},
     "nuid": "1c8c377a-752b-43f2-a959-78b8cfb5ed9b",
     "showTitle": false,
     "tableResultSettingsMap": {},
     "title": ""
    }
   },
   "outputs": [
    {
     "output_type": "stream",
     "name": "stdout",
     "output_type": "stream",
     "text": [
      "root\n |-- AddressID: integer (nullable = true)\n |-- AddressLine1: string (nullable = true)\n |-- AddressLine2: string (nullable = true)\n |-- City: string (nullable = true)\n |-- StateProvince: string (nullable = true)\n |-- CountryRegion: string (nullable = true)\n |-- PostalCode: string (nullable = true)\n |-- rowguid: string (nullable = true)\n |-- ModifiedDate: timestamp (nullable = true)\n |-- ingestion_timestamp: timestamp (nullable = false)\n\n"
     ]
    }
   ],
   "source": [
    "df_azsqldb_address = df_azsqldb_address \\\n",
    "    .withColumn(\"AddressID\", col(\"AddressID\").cast(IntegerType())) \\\n",
    "    .withColumn(\"AddressLine1\", col(\"AddressLine1\").cast(StringType())) \\\n",
    "    .withColumn(\"AddressLine2\", col(\"AddressLine2\").cast(StringType())) \\\n",
    "    .withColumn(\"City\", col(\"City\").cast(StringType())) \\\n",
    "    .withColumn(\"StateProvince\", col(\"StateProvince\").cast(StringType())) \\\n",
    "    .withColumn(\"CountryRegion\", col(\"CountryRegion\").cast(StringType())) \\\n",
    "    .withColumn(\"PostalCode\", col(\"PostalCode\").cast(StringType())) \\\n",
    "    .withColumn(\"rowguid\", col(\"rowguid\").cast(StringType())) \\\n",
    "    .withColumn(\"ModifiedDate\", col(\"ModifiedDate\").cast(\"timestamp\")) \\\n",
    "    .withColumn(\"ingestion_timestamp\", col(\"ingestion_timestamp\").cast(\"timestamp\"))\n",
    "\n",
    "df_azsqldb_address.printSchema()"
   ]
  },
  {
   "cell_type": "code",
   "execution_count": 0,
   "metadata": {
    "application/vnd.databricks.v1+cell": {
     "cellMetadata": {
      "byteLimit": 2048000,
      "rowLimit": 10000
     },
     "inputWidgets": {},
     "nuid": "057b9ac1-5b4b-4e60-998b-ef2f1c198204",
     "showTitle": false,
     "tableResultSettingsMap": {},
     "title": ""
    }
   },
   "outputs": [
    {
     "output_type": "stream",
     "name": "stdout",
     "output_type": "stream",
     "text": [
      "+---------+-------------------+------------+-------+-------------+-------------+----------+--------------------+-------------------+--------------------+\n|AddressID|       AddressLine1|AddressLine2|   City|StateProvince|CountryRegion|PostalCode|             rowguid|       ModifiedDate| ingestion_timestamp|\n+---------+-------------------+------------+-------+-------------+-------------+----------+--------------------+-------------------+--------------------+\n|        9|  8713 Yosemite Ct.|        NULL|Bothell|   Washington|United States|     98011|268af621-76d7-4c7...|2006-07-01 00:00:00|2024-11-28 22:07:...|\n|       11|1318 Lasalle Street|        NULL|Bothell|   Washington|United States|     98011|981b3303-aca2-49c...|2007-04-01 00:00:00|2024-11-28 22:07:...|\n|       25|   9178 Jumping St.|        NULL| Dallas|        Texas|United States|     75201|c8df3bd9-48f0-465...|2006-09-01 00:00:00|2024-11-28 22:07:...|\n+---------+-------------------+------------+-------+-------------+-------------+----------+--------------------+-------------------+--------------------+\nonly showing top 3 rows\n\n"
     ]
    }
   ],
   "source": [
    "df_azsqldb_address.show(3)"
   ]
  },
  {
   "cell_type": "markdown",
   "metadata": {
    "application/vnd.databricks.v1+cell": {
     "cellMetadata": {
      "byteLimit": 2048000,
      "rowLimit": 10000
     },
     "inputWidgets": {},
     "nuid": "dbe73c2b-bc53-4151-8563-a739fa97e1aa",
     "showTitle": false,
     "tableResultSettingsMap": {},
     "title": ""
    }
   },
   "source": [
    "### azsqldb_customer Dataset"
   ]
  },
  {
   "cell_type": "code",
   "execution_count": 0,
   "metadata": {
    "application/vnd.databricks.v1+cell": {
     "cellMetadata": {
      "byteLimit": 2048000,
      "rowLimit": 10000
     },
     "inputWidgets": {},
     "nuid": "52d5a9d9-e34a-409f-8f5e-99398885ae03",
     "showTitle": false,
     "tableResultSettingsMap": {},
     "title": ""
    }
   },
   "outputs": [
    {
     "output_type": "stream",
     "name": "stdout",
     "output_type": "stream",
     "text": [
      "+----------+---------+-----+---------+----------+--------+------+--------------------+--------------------+--------------------+------------+--------------------+------------+--------------------+-------------------+\n|CustomerID|NameStyle|Title|FirstName|MiddleName|LastName|Suffix|         CompanyName|         SalesPerson|        EmailAddress|       Phone|        PasswordHash|PasswordSalt|             rowguid|       ModifiedDate|\n+----------+---------+-----+---------+----------+--------+------+--------------------+--------------------+--------------------+------------+--------------------+------------+--------------------+-------------------+\n|         1|    false|  Mr.|  Orlando|        N.|     Gee|  NULL|        A Bike Store|adventure-works\\p...|orlando0@adventur...|245-555-0173|L/Rlwxzp4w7RWmEgX...|    1KjXYs4=|3f5ae95e-b87d-4ae...|2005-08-01 00:00:00|\n|         2|    false|  Mr.|    Keith|      NULL|  Harris|  NULL|  Progressive Sports|adventure-works\\d...|keith0@adventure-...|170-555-0127|YPdtRdvqeAhj6wyxE...|    fs1ZGhY=|e552f657-a9af-4a7...|2006-08-01 00:00:00|\n|         3|    false|  Ms.|    Donna|        F.|Carreras|  NULL|Advanced Bike Com...|adventure-works\\j...|donna0@adventure-...|279-555-0130|LNoK27abGQo48gGue...|    YTNH5Rw=|130774b1-db21-4ef...|2005-09-01 00:00:00|\n+----------+---------+-----+---------+----------+--------+------+--------------------+--------------------+--------------------+------------+--------------------+------------+--------------------+-------------------+\nonly showing top 3 rows\n\n"
     ]
    }
   ],
   "source": [
    "df_azsqldb_customer = spark.read.parquet(*azsqldb_Customer_files, header=True) \n",
    "df_azsqldb_customer.show(3)"
   ]
  },
  {
   "cell_type": "code",
   "execution_count": 0,
   "metadata": {
    "application/vnd.databricks.v1+cell": {
     "cellMetadata": {
      "byteLimit": 2048000,
      "rowLimit": 10000
     },
     "inputWidgets": {},
     "nuid": "c4efe928-6f9e-4c52-96aa-140cb5dcea84",
     "showTitle": false,
     "tableResultSettingsMap": {},
     "title": ""
    }
   },
   "outputs": [
    {
     "output_type": "stream",
     "name": "stdout",
     "output_type": "stream",
     "text": [
      "+----------+---------+-----+---------+----------+--------+------+--------------------+--------------------+--------------------+------------+--------------------+------------+--------------------+-------------------+--------------------+\n|CustomerID|NameStyle|Title|FirstName|MiddleName|LastName|Suffix|         CompanyName|         SalesPerson|        EmailAddress|       Phone|        PasswordHash|PasswordSalt|             rowguid|       ModifiedDate| ingestion_timestamp|\n+----------+---------+-----+---------+----------+--------+------+--------------------+--------------------+--------------------+------------+--------------------+------------+--------------------+-------------------+--------------------+\n|         1|    false|  Mr.|  Orlando|        N.|     Gee|  NULL|        A Bike Store|adventure-works\\p...|orlando0@adventur...|245-555-0173|L/Rlwxzp4w7RWmEgX...|    1KjXYs4=|3f5ae95e-b87d-4ae...|2005-08-01 00:00:00|2024-11-28 22:07:...|\n|         2|    false|  Mr.|    Keith|      NULL|  Harris|  NULL|  Progressive Sports|adventure-works\\d...|keith0@adventure-...|170-555-0127|YPdtRdvqeAhj6wyxE...|    fs1ZGhY=|e552f657-a9af-4a7...|2006-08-01 00:00:00|2024-11-28 22:07:...|\n|         3|    false|  Ms.|    Donna|        F.|Carreras|  NULL|Advanced Bike Com...|adventure-works\\j...|donna0@adventure-...|279-555-0130|LNoK27abGQo48gGue...|    YTNH5Rw=|130774b1-db21-4ef...|2005-09-01 00:00:00|2024-11-28 22:07:...|\n+----------+---------+-----+---------+----------+--------+------+--------------------+--------------------+--------------------+------------+--------------------+------------+--------------------+-------------------+--------------------+\nonly showing top 3 rows\n\n"
     ]
    }
   ],
   "source": [
    "df_azsqldb_customer = df_azsqldb_customer.withColumn(\"ingestion_timestamp\", current_timestamp()) \\\n",
    "    .dropna(subset = [\"CustomerID\"]) \\\n",
    "    .select(\"CustomerID\", \"NameStyle\", \"Title\", \"FirstName\", \"MiddleName\", \"LastName\", \"Suffix\", \"CompanyName\", \"SalesPerson\", \"EmailAddress\", \"Phone\", \"PasswordHash\", \"PasswordSalt\", \"rowguid\", \"ModifiedDate\", \"ingestion_timestamp\") \\\n",
    "    .orderBy(\"CustomerID\")\n",
    "\n",
    "window_spec = Window.partitionBy(\"CustomerID\").orderBy(col(\"ingestion_timestamp\").desc())\n",
    "df_azsqldb_customer = df_azsqldb_customer.withColumn(\"row_num\", row_number().over(window_spec))\n",
    "df_azsqldb_customer = df_azsqldb_customer.filter(col(\"row_num\") == 1).drop(\"row_num\")\n",
    "\n",
    "df_azsqldb_customer.show(3)"
   ]
  },
  {
   "cell_type": "code",
   "execution_count": 0,
   "metadata": {
    "application/vnd.databricks.v1+cell": {
     "cellMetadata": {
      "byteLimit": 2048000,
      "rowLimit": 10000
     },
     "inputWidgets": {},
     "nuid": "c5286853-d876-42e7-8605-25a91cdef4c1",
     "showTitle": false,
     "tableResultSettingsMap": {},
     "title": ""
    }
   },
   "outputs": [
    {
     "output_type": "stream",
     "name": "stdout",
     "output_type": "stream",
     "text": [
      "Total azsqldb_customer records: 847\n"
     ]
    }
   ],
   "source": [
    "print(f\"Total azsqldb_customer records: {df_azsqldb_customer.count()}\")"
   ]
  },
  {
   "cell_type": "code",
   "execution_count": 0,
   "metadata": {
    "application/vnd.databricks.v1+cell": {
     "cellMetadata": {
      "byteLimit": 2048000,
      "rowLimit": 10000
     },
     "inputWidgets": {},
     "nuid": "6a6c89f5-928f-42ba-88d1-f7adfb23e931",
     "showTitle": false,
     "tableResultSettingsMap": {},
     "title": ""
    }
   },
   "outputs": [
    {
     "output_type": "execute_result",
     "data": {
      "text/plain": [
       "['CustomerID',\n",
       " 'NameStyle',\n",
       " 'Title',\n",
       " 'FirstName',\n",
       " 'MiddleName',\n",
       " 'LastName',\n",
       " 'Suffix',\n",
       " 'CompanyName',\n",
       " 'SalesPerson',\n",
       " 'EmailAddress',\n",
       " 'Phone',\n",
       " 'PasswordHash',\n",
       " 'PasswordSalt',\n",
       " 'rowguid',\n",
       " 'ModifiedDate',\n",
       " 'ingestion_timestamp']"
      ]
     },
     "execution_count": 241,
     "metadata": {},
     "output_type": "execute_result"
    }
   ],
   "source": [
    "df_azsqldb_customer.columns"
   ]
  },
  {
   "cell_type": "code",
   "execution_count": 0,
   "metadata": {
    "application/vnd.databricks.v1+cell": {
     "cellMetadata": {
      "byteLimit": 2048000,
      "rowLimit": 10000
     },
     "inputWidgets": {},
     "nuid": "6dc11831-740f-4fed-b7c6-a331dfb8196f",
     "showTitle": false,
     "tableResultSettingsMap": {},
     "title": ""
    }
   },
   "outputs": [
    {
     "output_type": "stream",
     "name": "stdout",
     "output_type": "stream",
     "text": [
      "root\n |-- CustomerID: integer (nullable = true)\n |-- NameStyle: boolean (nullable = true)\n |-- Title: string (nullable = true)\n |-- FirstName: string (nullable = true)\n |-- MiddleName: string (nullable = true)\n |-- LastName: string (nullable = true)\n |-- Suffix: string (nullable = true)\n |-- CompanyName: string (nullable = true)\n |-- SalesPerson: string (nullable = true)\n |-- EmailAddress: string (nullable = true)\n |-- Phone: string (nullable = true)\n |-- PasswordHash: string (nullable = true)\n |-- PasswordSalt: string (nullable = true)\n |-- rowguid: string (nullable = true)\n |-- ModifiedDate: timestamp (nullable = true)\n |-- ingestion_timestamp: timestamp (nullable = false)\n\n"
     ]
    }
   ],
   "source": [
    "df_azsqldb_customer = df_azsqldb_customer \\\n",
    "    .withColumn(\"CustomerID\", col(\"CustomerID\").cast(IntegerType())) \\\n",
    "    .withColumn(\"NameStyle\", col(\"NameStyle\").cast(BooleanType())) \\\n",
    "    .withColumn(\"Title\", col(\"Title\").cast(StringType())) \\\n",
    "    .withColumn(\"FirstName\", col(\"FirstName\").cast(StringType())) \\\n",
    "    .withColumn(\"MiddleName\", col(\"MiddleName\").cast(StringType())) \\\n",
    "    .withColumn(\"LastName\", col(\"LastName\").cast(StringType())) \\\n",
    "    .withColumn(\"Suffix\", col(\"Suffix\").cast(StringType())) \\\n",
    "    .withColumn(\"CompanyName\", col(\"CompanyName\").cast(StringType())) \\\n",
    "    .withColumn(\"SalesPerson\", col(\"SalesPerson\").cast(StringType())) \\\n",
    "    .withColumn(\"EmailAddress\", col(\"EmailAddress\").cast(StringType())) \\\n",
    "    .withColumn(\"Phone\", col(\"Phone\").cast(StringType())) \\\n",
    "    .withColumn(\"PasswordHash\", col(\"PasswordHash\").cast(StringType())) \\\n",
    "    .withColumn(\"PasswordSalt\", col(\"PasswordSalt\").cast(StringType())) \\\n",
    "    .withColumn(\"rowguid\", col(\"rowguid\").cast(StringType())) \\\n",
    "    .withColumn(\"ModifiedDate\", col(\"ModifiedDate\").cast(\"timestamp\")) \\\n",
    "    .withColumn(\"ingestion_timestamp\", col(\"ingestion_timestamp\").cast(\"timestamp\"))\n",
    "\n",
    "df_azsqldb_customer.printSchema()"
   ]
  },
  {
   "cell_type": "code",
   "execution_count": 0,
   "metadata": {
    "application/vnd.databricks.v1+cell": {
     "cellMetadata": {
      "byteLimit": 2048000,
      "rowLimit": 10000
     },
     "inputWidgets": {},
     "nuid": "a1adaa02-b192-4d54-b24f-72208e4ff9e3",
     "showTitle": false,
     "tableResultSettingsMap": {},
     "title": ""
    }
   },
   "outputs": [
    {
     "output_type": "stream",
     "name": "stdout",
     "output_type": "stream",
     "text": [
      "+----------+---------+-----+---------+----------+--------+------+--------------------+--------------------+--------------------+------------+--------------------+------------+--------------------+-------------------+--------------------+\n|CustomerID|NameStyle|Title|FirstName|MiddleName|LastName|Suffix|         CompanyName|         SalesPerson|        EmailAddress|       Phone|        PasswordHash|PasswordSalt|             rowguid|       ModifiedDate| ingestion_timestamp|\n+----------+---------+-----+---------+----------+--------+------+--------------------+--------------------+--------------------+------------+--------------------+------------+--------------------+-------------------+--------------------+\n|         1|    false|  Mr.|  Orlando|        N.|     Gee|  NULL|        A Bike Store|adventure-works\\p...|orlando0@adventur...|245-555-0173|L/Rlwxzp4w7RWmEgX...|    1KjXYs4=|3f5ae95e-b87d-4ae...|2005-08-01 00:00:00|2024-11-28 22:07:...|\n|         2|    false|  Mr.|    Keith|      NULL|  Harris|  NULL|  Progressive Sports|adventure-works\\d...|keith0@adventure-...|170-555-0127|YPdtRdvqeAhj6wyxE...|    fs1ZGhY=|e552f657-a9af-4a7...|2006-08-01 00:00:00|2024-11-28 22:07:...|\n|         3|    false|  Ms.|    Donna|        F.|Carreras|  NULL|Advanced Bike Com...|adventure-works\\j...|donna0@adventure-...|279-555-0130|LNoK27abGQo48gGue...|    YTNH5Rw=|130774b1-db21-4ef...|2005-09-01 00:00:00|2024-11-28 22:07:...|\n+----------+---------+-----+---------+----------+--------+------+--------------------+--------------------+--------------------+------------+--------------------+------------+--------------------+-------------------+--------------------+\nonly showing top 3 rows\n\n"
     ]
    }
   ],
   "source": [
    "df_azsqldb_customer.show(3)"
   ]
  },
  {
   "cell_type": "markdown",
   "metadata": {
    "application/vnd.databricks.v1+cell": {
     "cellMetadata": {
      "byteLimit": 2048000,
      "rowLimit": 10000
     },
     "inputWidgets": {},
     "nuid": "3863f929-1710-4495-bf2d-e793847eba54",
     "showTitle": false,
     "tableResultSettingsMap": {},
     "title": ""
    }
   },
   "source": [
    "### azsqldb_customer_address Dataset"
   ]
  },
  {
   "cell_type": "code",
   "execution_count": 0,
   "metadata": {
    "application/vnd.databricks.v1+cell": {
     "cellMetadata": {
      "byteLimit": 2048000,
      "rowLimit": 10000
     },
     "inputWidgets": {},
     "nuid": "766d3275-4f72-492c-8529-a03a643f8e00",
     "showTitle": false,
     "tableResultSettingsMap": {},
     "title": ""
    }
   },
   "outputs": [
    {
     "output_type": "stream",
     "name": "stdout",
     "output_type": "stream",
     "text": [
      "+----------+---------+-----------+--------------------+-------------------+\n|CustomerID|AddressID|AddressType|             rowguid|       ModifiedDate|\n+----------+---------+-----------+--------------------+-------------------+\n|     29485|     1086|Main Office|16765338-dbe4-442...|2007-09-01 00:00:00|\n|     29486|      621|Main Office|22b3e910-14af-4ed...|2005-09-01 00:00:00|\n|     29489|     1069|Main Office|a095c88b-d7e6-417...|2005-07-01 00:00:00|\n+----------+---------+-----------+--------------------+-------------------+\nonly showing top 3 rows\n\n"
     ]
    }
   ],
   "source": [
    "df_azsqldb_customer_address = spark.read.parquet(*azsqldb_CustomerAddress_files, header=True) \n",
    "df_azsqldb_customer_address.show(3)"
   ]
  },
  {
   "cell_type": "code",
   "execution_count": 0,
   "metadata": {
    "application/vnd.databricks.v1+cell": {
     "cellMetadata": {
      "byteLimit": 2048000,
      "rowLimit": 10000
     },
     "inputWidgets": {},
     "nuid": "17eed8f6-6aeb-4d43-9df2-75055e526fed",
     "showTitle": false,
     "tableResultSettingsMap": {},
     "title": ""
    }
   },
   "outputs": [
    {
     "output_type": "stream",
     "name": "stdout",
     "output_type": "stream",
     "text": [
      "+----------+---------+-----------+--------------------+-------------------+--------------------+\n|CustomerID|AddressID|AddressType|             rowguid|       ModifiedDate| ingestion_timestamp|\n+----------+---------+-----------+--------------------+-------------------+--------------------+\n|     29485|     1086|Main Office|16765338-dbe4-442...|2007-09-01 00:00:00|2024-11-28 22:07:...|\n|     29486|      621|Main Office|22b3e910-14af-4ed...|2005-09-01 00:00:00|2024-11-28 22:07:...|\n|     29489|     1069|Main Office|a095c88b-d7e6-417...|2005-07-01 00:00:00|2024-11-28 22:07:...|\n+----------+---------+-----------+--------------------+-------------------+--------------------+\nonly showing top 3 rows\n\n"
     ]
    }
   ],
   "source": [
    "df_azsqldb_customer_address = df_azsqldb_customer_address.withColumn(\"ingestion_timestamp\", current_timestamp()) \\\n",
    "    .dropna(subset = [\"CustomerID\", \"AddressID\"]) \\\n",
    "    .select(\"CustomerID\", \"AddressID\", \"AddressType\", \"rowguid\", \"ModifiedDate\", \"ingestion_timestamp\") \\\n",
    "    .orderBy(\"CustomerID\", \"AddressID\")\n",
    "\n",
    "window_spec = Window.partitionBy(\"CustomerID\", \"AddressID\").orderBy(col(\"ingestion_timestamp\").desc())\n",
    "df_azsqldb_customer_address = df_azsqldb_customer_address.withColumn(\"row_num\", row_number().over(window_spec))\n",
    "df_azsqldb_customer_address = df_azsqldb_customer_address.filter(col(\"row_num\") == 1).drop(\"row_num\")\n",
    "\n",
    "df_azsqldb_customer_address.show(3)"
   ]
  },
  {
   "cell_type": "code",
   "execution_count": 0,
   "metadata": {
    "application/vnd.databricks.v1+cell": {
     "cellMetadata": {
      "byteLimit": 2048000,
      "rowLimit": 10000
     },
     "inputWidgets": {},
     "nuid": "a9f2a5f9-f060-40fe-81b8-760efbe05e16",
     "showTitle": false,
     "tableResultSettingsMap": {},
     "title": ""
    }
   },
   "outputs": [
    {
     "output_type": "stream",
     "name": "stdout",
     "output_type": "stream",
     "text": [
      "Total azsqldb_customer_address records: 417\n"
     ]
    }
   ],
   "source": [
    "print(f\"Total azsqldb_customer_address records: {df_azsqldb_customer_address.count()}\")"
   ]
  },
  {
   "cell_type": "code",
   "execution_count": 0,
   "metadata": {
    "application/vnd.databricks.v1+cell": {
     "cellMetadata": {
      "byteLimit": 2048000,
      "rowLimit": 10000
     },
     "inputWidgets": {},
     "nuid": "1cb94d56-363a-41ad-b49d-220e3c384df2",
     "showTitle": false,
     "tableResultSettingsMap": {},
     "title": ""
    }
   },
   "outputs": [
    {
     "output_type": "execute_result",
     "data": {
      "text/plain": [
       "['CustomerID',\n",
       " 'AddressID',\n",
       " 'AddressType',\n",
       " 'rowguid',\n",
       " 'ModifiedDate',\n",
       " 'ingestion_timestamp']"
      ]
     },
     "execution_count": 247,
     "metadata": {},
     "output_type": "execute_result"
    }
   ],
   "source": [
    "df_azsqldb_customer_address.columns"
   ]
  },
  {
   "cell_type": "code",
   "execution_count": 0,
   "metadata": {
    "application/vnd.databricks.v1+cell": {
     "cellMetadata": {
      "byteLimit": 2048000,
      "rowLimit": 10000
     },
     "inputWidgets": {},
     "nuid": "3aa976ef-0c8f-4ba7-a711-88a38e16eacd",
     "showTitle": false,
     "tableResultSettingsMap": {},
     "title": ""
    }
   },
   "outputs": [
    {
     "output_type": "stream",
     "name": "stdout",
     "output_type": "stream",
     "text": [
      "root\n |-- CustomerID: integer (nullable = true)\n |-- AddressID: integer (nullable = true)\n |-- AddressType: string (nullable = true)\n |-- rowguid: string (nullable = true)\n |-- ModifiedDate: timestamp (nullable = true)\n |-- ingestion_timestamp: timestamp (nullable = false)\n\n"
     ]
    }
   ],
   "source": [
    "df_azsqldb_customer_address = df_azsqldb_customer_address \\\n",
    "    .withColumn(\"CustomerID\", col(\"CustomerID\").cast(IntegerType())) \\\n",
    "    .withColumn(\"AddressID\", col(\"AddressID\").cast(IntegerType())) \\\n",
    "    .withColumn(\"AddressType\", col(\"AddressType\").cast(StringType())) \\\n",
    "    .withColumn(\"rowguid\", col(\"rowguid\").cast(StringType())) \\\n",
    "    .withColumn(\"ModifiedDate\", col(\"ModifiedDate\").cast(\"timestamp\")) \\\n",
    "    .withColumn(\"ingestion_timestamp\", col(\"ingestion_timestamp\").cast(\"timestamp\"))\n",
    "\n",
    "df_azsqldb_customer_address.printSchema()"
   ]
  },
  {
   "cell_type": "code",
   "execution_count": 0,
   "metadata": {
    "application/vnd.databricks.v1+cell": {
     "cellMetadata": {
      "byteLimit": 2048000,
      "rowLimit": 10000
     },
     "inputWidgets": {},
     "nuid": "24c132be-1fb2-4461-92cd-18bd9ee6c80d",
     "showTitle": false,
     "tableResultSettingsMap": {},
     "title": ""
    }
   },
   "outputs": [
    {
     "output_type": "stream",
     "name": "stdout",
     "output_type": "stream",
     "text": [
      "+----------+---------+-----------+--------------------+-------------------+--------------------+\n|CustomerID|AddressID|AddressType|             rowguid|       ModifiedDate| ingestion_timestamp|\n+----------+---------+-----------+--------------------+-------------------+--------------------+\n|     29485|     1086|Main Office|16765338-dbe4-442...|2007-09-01 00:00:00|2024-11-28 22:07:...|\n|     29486|      621|Main Office|22b3e910-14af-4ed...|2005-09-01 00:00:00|2024-11-28 22:07:...|\n|     29489|     1069|Main Office|a095c88b-d7e6-417...|2005-07-01 00:00:00|2024-11-28 22:07:...|\n+----------+---------+-----------+--------------------+-------------------+--------------------+\nonly showing top 3 rows\n\n"
     ]
    }
   ],
   "source": [
    "df_azsqldb_customer_address.show(3)"
   ]
  },
  {
   "cell_type": "markdown",
   "metadata": {
    "application/vnd.databricks.v1+cell": {
     "cellMetadata": {
      "byteLimit": 2048000,
      "rowLimit": 10000
     },
     "inputWidgets": {},
     "nuid": "91858e02-3774-41d4-b38b-923c53ba1bf2",
     "showTitle": false,
     "tableResultSettingsMap": {},
     "title": ""
    }
   },
   "source": [
    "### azsqldb_product Dataset"
   ]
  },
  {
   "cell_type": "code",
   "execution_count": 0,
   "metadata": {
    "application/vnd.databricks.v1+cell": {
     "cellMetadata": {
      "byteLimit": 2048000,
      "rowLimit": 10000
     },
     "inputWidgets": {},
     "nuid": "ffacacfc-f201-4796-9cd0-eefb748b372d",
     "showTitle": false,
     "tableResultSettingsMap": {},
     "title": ""
    }
   },
   "outputs": [
    {
     "output_type": "stream",
     "name": "stdout",
     "output_type": "stream",
     "text": [
      "+---------+--------------------+-------------+-----+------------+---------+----+-------+-----------------+--------------+-------------------+-----------+----------------+--------------------+----------------------+--------------------+--------------------+\n|ProductID|                Name|ProductNumber|Color|StandardCost|ListPrice|Size| Weight|ProductCategoryID|ProductModelID|      SellStartDate|SellEndDate|DiscontinuedDate|      ThumbNailPhoto|ThumbnailPhotoFileName|             rowguid|        ModifiedDate|\n+---------+--------------------+-------------+-----+------------+---------+----+-------+-----------------+--------------+-------------------+-----------+----------------+--------------------+----------------------+--------------------+--------------------+\n|      680|HL Road Frame - B...|   FR-R92B-58|Black|   1059.3100|1431.5000|  58|1016.04|               18|             6|2002-06-01 00:00:00|       NULL|            NULL|[47 49 46 38 39 6...|  no_image_availabl...|43dd68d6-14a4-461...|2008-03-11 10:01:...|\n|      706|HL Road Frame - R...|   FR-R92R-58|  Red|   1059.3100|1431.5000|  58|1016.04|               18|             6|2002-06-01 00:00:00|       NULL|            NULL|[47 49 46 38 39 6...|  no_image_availabl...|9540ff17-2712-4c9...|2008-03-11 10:01:...|\n|      707|Sport-100 Helmet,...|    HL-U509-R|  Red|     13.0863|  34.9900|NULL|   NULL|               35|            33|2005-07-01 00:00:00|       NULL|            NULL|[47 49 46 38 39 6...|  no_image_availabl...|2e1ef41a-c08a-4ff...|2008-03-11 10:01:...|\n+---------+--------------------+-------------+-----+------------+---------+----+-------+-----------------+--------------+-------------------+-----------+----------------+--------------------+----------------------+--------------------+--------------------+\nonly showing top 3 rows\n\n"
     ]
    }
   ],
   "source": [
    "df_azsqldb_product = spark.read.parquet(*azsqldb_Product_files, header=True) \n",
    "df_azsqldb_product.show(3)"
   ]
  },
  {
   "cell_type": "code",
   "execution_count": 0,
   "metadata": {
    "application/vnd.databricks.v1+cell": {
     "cellMetadata": {
      "byteLimit": 2048000,
      "rowLimit": 10000
     },
     "inputWidgets": {},
     "nuid": "90d3605b-f419-4041-8905-c016ac359804",
     "showTitle": false,
     "tableResultSettingsMap": {},
     "title": ""
    }
   },
   "outputs": [
    {
     "output_type": "stream",
     "name": "stdout",
     "output_type": "stream",
     "text": [
      "+---------+--------------------+-------------+-----+------------+---------+----+-------+-----------------+--------------+-------------------+-----------+----------------+--------------------+----------------------+--------------------+--------------------+--------------------+\n|ProductID|                Name|ProductNumber|Color|StandardCost|ListPrice|Size| Weight|ProductCategoryID|ProductModelID|      SellStartDate|SellEndDate|DiscontinuedDate|      ThumbNailPhoto|ThumbnailPhotoFileName|             rowguid|        ModifiedDate| ingestion_timestamp|\n+---------+--------------------+-------------+-----+------------+---------+----+-------+-----------------+--------------+-------------------+-----------+----------------+--------------------+----------------------+--------------------+--------------------+--------------------+\n|      680|HL Road Frame - B...|   FR-R92B-58|Black|   1059.3100|1431.5000|  58|1016.04|               18|             6|2002-06-01 00:00:00|       NULL|            NULL|[47 49 46 38 39 6...|  no_image_availabl...|43dd68d6-14a4-461...|2008-03-11 10:01:...|2024-11-28 22:08:...|\n|      706|HL Road Frame - R...|   FR-R92R-58|  Red|   1059.3100|1431.5000|  58|1016.04|               18|             6|2002-06-01 00:00:00|       NULL|            NULL|[47 49 46 38 39 6...|  no_image_availabl...|9540ff17-2712-4c9...|2008-03-11 10:01:...|2024-11-28 22:08:...|\n|      707|Sport-100 Helmet,...|    HL-U509-R|  Red|     13.0863|  34.9900|NULL|   NULL|               35|            33|2005-07-01 00:00:00|       NULL|            NULL|[47 49 46 38 39 6...|  no_image_availabl...|2e1ef41a-c08a-4ff...|2008-03-11 10:01:...|2024-11-28 22:08:...|\n+---------+--------------------+-------------+-----+------------+---------+----+-------+-----------------+--------------+-------------------+-----------+----------------+--------------------+----------------------+--------------------+--------------------+--------------------+\nonly showing top 3 rows\n\n"
     ]
    }
   ],
   "source": [
    "df_azsqldb_product = df_azsqldb_product.withColumn(\"ingestion_timestamp\", current_timestamp()) \\\n",
    "    .dropna(subset = [\"ProductID\"]) \\\n",
    "    .select(\"ProductID\", \"Name\", \"ProductNumber\", \"Color\", \"StandardCost\", \"ListPrice\", \"Size\", \"Weight\", \"ProductCategoryID\", \"ProductModelID\", \"SellStartDate\", \"SellEndDate\", \"DiscontinuedDate\", \"ThumbNailPhoto\", \"ThumbnailPhotoFileName\", \"rowguid\", \"ModifiedDate\", \"ingestion_timestamp\") \\\n",
    "    .orderBy(\"ProductID\")\n",
    "\n",
    "window_spec = Window.partitionBy(\"ProductID\").orderBy(col(\"ingestion_timestamp\").desc())\n",
    "df_azsqldb_product = df_azsqldb_product.withColumn(\"row_num\", row_number().over(window_spec))\n",
    "df_azsqldb_product = df_azsqldb_product.filter(col(\"row_num\") == 1).drop(\"row_num\")\n",
    "\n",
    "df_azsqldb_product.show(3)"
   ]
  },
  {
   "cell_type": "code",
   "execution_count": 0,
   "metadata": {
    "application/vnd.databricks.v1+cell": {
     "cellMetadata": {
      "byteLimit": 2048000,
      "rowLimit": 10000
     },
     "inputWidgets": {},
     "nuid": "f7b3fde6-ad99-4ba4-909b-06202e4161e6",
     "showTitle": false,
     "tableResultSettingsMap": {},
     "title": ""
    }
   },
   "outputs": [
    {
     "output_type": "stream",
     "name": "stdout",
     "output_type": "stream",
     "text": [
      "Total azsqldb_product records: 295\n"
     ]
    }
   ],
   "source": [
    "print(f\"Total azsqldb_product records: {df_azsqldb_product.count()}\")"
   ]
  },
  {
   "cell_type": "code",
   "execution_count": 0,
   "metadata": {
    "application/vnd.databricks.v1+cell": {
     "cellMetadata": {
      "byteLimit": 2048000,
      "rowLimit": 10000
     },
     "inputWidgets": {},
     "nuid": "7719e6cf-bfd5-4205-9276-c644547401ec",
     "showTitle": false,
     "tableResultSettingsMap": {},
     "title": ""
    }
   },
   "outputs": [
    {
     "output_type": "execute_result",
     "data": {
      "text/plain": [
       "['ProductID',\n",
       " 'Name',\n",
       " 'ProductNumber',\n",
       " 'Color',\n",
       " 'StandardCost',\n",
       " 'ListPrice',\n",
       " 'Size',\n",
       " 'Weight',\n",
       " 'ProductCategoryID',\n",
       " 'ProductModelID',\n",
       " 'SellStartDate',\n",
       " 'SellEndDate',\n",
       " 'DiscontinuedDate',\n",
       " 'ThumbNailPhoto',\n",
       " 'ThumbnailPhotoFileName',\n",
       " 'rowguid',\n",
       " 'ModifiedDate',\n",
       " 'ingestion_timestamp']"
      ]
     },
     "execution_count": 253,
     "metadata": {},
     "output_type": "execute_result"
    }
   ],
   "source": [
    "df_azsqldb_product.columns"
   ]
  },
  {
   "cell_type": "code",
   "execution_count": 0,
   "metadata": {
    "application/vnd.databricks.v1+cell": {
     "cellMetadata": {
      "byteLimit": 2048000,
      "rowLimit": 10000
     },
     "inputWidgets": {},
     "nuid": "46664708-ac5d-494e-ba42-9fe9ba942777",
     "showTitle": false,
     "tableResultSettingsMap": {},
     "title": ""
    }
   },
   "outputs": [
    {
     "output_type": "stream",
     "name": "stdout",
     "output_type": "stream",
     "text": [
      "root\n |-- ProductID: integer (nullable = true)\n |-- Name: string (nullable = true)\n |-- ProductNumber: string (nullable = true)\n |-- Color: string (nullable = true)\n |-- StandardCost: double (nullable = true)\n |-- ListPrice: double (nullable = true)\n |-- Size: string (nullable = true)\n |-- Weight: double (nullable = true)\n |-- ProductCategoryID: integer (nullable = true)\n |-- ProductModelID: integer (nullable = true)\n |-- SellStartDate: timestamp (nullable = true)\n |-- SellEndDate: timestamp (nullable = true)\n |-- DiscontinuedDate: timestamp (nullable = true)\n |-- ThumbNailPhoto: binary (nullable = true)\n |-- ThumbnailPhotoFileName: string (nullable = true)\n |-- rowguid: string (nullable = true)\n |-- ModifiedDate: timestamp (nullable = true)\n |-- ingestion_timestamp: timestamp (nullable = false)\n\n"
     ]
    }
   ],
   "source": [
    "df_azsqldb_product = df_azsqldb_product \\\n",
    "    .withColumn(\"ProductID\", col(\"ProductID\").cast(IntegerType())) \\\n",
    "    .withColumn(\"Name\", col(\"Name\").cast(StringType())) \\\n",
    "    .withColumn(\"ProductNumber\", col(\"ProductNumber\").cast(StringType())) \\\n",
    "    .withColumn(\"Color\", col(\"Color\").cast(StringType())) \\\n",
    "    .withColumn(\"StandardCost\", col(\"StandardCost\").cast(DoubleType())) \\\n",
    "    .withColumn(\"ListPrice\", col(\"ListPrice\").cast(DoubleType())) \\\n",
    "    .withColumn(\"Size\", col(\"Size\").cast(StringType())) \\\n",
    "    .withColumn(\"Weight\", col(\"Weight\").cast(DoubleType())) \\\n",
    "    .withColumn(\"ProductCategoryID\", col(\"ProductCategoryID\").cast(IntegerType())) \\\n",
    "    .withColumn(\"ProductModelID\", col(\"ProductModelID\").cast(IntegerType())) \\\n",
    "    .withColumn(\"SellStartDate\", col(\"SellStartDate\").cast(\"timestamp\")) \\\n",
    "    .withColumn(\"SellEndDate\", col(\"SellEndDate\").cast(\"timestamp\")) \\\n",
    "    .withColumn(\"DiscontinuedDate\", col(\"DiscontinuedDate\").cast(\"timestamp\")) \\\n",
    "    .withColumn(\"ThumbNailPhoto\", col(\"ThumbNailPhoto\").cast(BinaryType())) \\\n",
    "    .withColumn(\"ThumbnailPhotoFileName\", col(\"ThumbnailPhotoFileName\").cast(StringType())) \\\n",
    "    .withColumn(\"rowguid\", col(\"rowguid\").cast(StringType())) \\\n",
    "    .withColumn(\"ModifiedDate\", col(\"ModifiedDate\").cast(\"timestamp\")) \\\n",
    "    .withColumn(\"ingestion_timestamp\", col(\"ingestion_timestamp\").cast(\"timestamp\"))\n",
    "\n",
    "df_azsqldb_product.printSchema()"
   ]
  },
  {
   "cell_type": "code",
   "execution_count": 0,
   "metadata": {
    "application/vnd.databricks.v1+cell": {
     "cellMetadata": {
      "byteLimit": 2048000,
      "rowLimit": 10000
     },
     "inputWidgets": {},
     "nuid": "aebea6a2-aea6-460a-a2f9-4f4d2af1e130",
     "showTitle": false,
     "tableResultSettingsMap": {},
     "title": ""
    }
   },
   "outputs": [
    {
     "output_type": "stream",
     "name": "stdout",
     "output_type": "stream",
     "text": [
      "+---------+--------------------+-------------+-----+------------+---------+----+-------+-----------------+--------------+-------------------+-----------+----------------+--------------------+----------------------+--------------------+--------------------+--------------------+\n|ProductID|                Name|ProductNumber|Color|StandardCost|ListPrice|Size| Weight|ProductCategoryID|ProductModelID|      SellStartDate|SellEndDate|DiscontinuedDate|      ThumbNailPhoto|ThumbnailPhotoFileName|             rowguid|        ModifiedDate| ingestion_timestamp|\n+---------+--------------------+-------------+-----+------------+---------+----+-------+-----------------+--------------+-------------------+-----------+----------------+--------------------+----------------------+--------------------+--------------------+--------------------+\n|      680|HL Road Frame - B...|   FR-R92B-58|Black|     1059.31|   1431.5|  58|1016.04|               18|             6|2002-06-01 00:00:00|       NULL|            NULL|[47 49 46 38 39 6...|  no_image_availabl...|43dd68d6-14a4-461...|2008-03-11 10:01:...|2024-11-28 22:09:...|\n|      706|HL Road Frame - R...|   FR-R92R-58|  Red|     1059.31|   1431.5|  58|1016.04|               18|             6|2002-06-01 00:00:00|       NULL|            NULL|[47 49 46 38 39 6...|  no_image_availabl...|9540ff17-2712-4c9...|2008-03-11 10:01:...|2024-11-28 22:09:...|\n|      707|Sport-100 Helmet,...|    HL-U509-R|  Red|     13.0863|    34.99|NULL|   NULL|               35|            33|2005-07-01 00:00:00|       NULL|            NULL|[47 49 46 38 39 6...|  no_image_availabl...|2e1ef41a-c08a-4ff...|2008-03-11 10:01:...|2024-11-28 22:09:...|\n+---------+--------------------+-------------+-----+------------+---------+----+-------+-----------------+--------------+-------------------+-----------+----------------+--------------------+----------------------+--------------------+--------------------+--------------------+\nonly showing top 3 rows\n\n"
     ]
    }
   ],
   "source": [
    "df_azsqldb_product.show(3)"
   ]
  },
  {
   "cell_type": "markdown",
   "metadata": {
    "application/vnd.databricks.v1+cell": {
     "cellMetadata": {},
     "inputWidgets": {},
     "nuid": "3e193446-88a1-4565-a9b2-9870f8635953",
     "showTitle": false,
     "tableResultSettingsMap": {},
     "title": ""
    }
   },
   "source": [
    "### azsqldb_product_category Dataset"
   ]
  },
  {
   "cell_type": "code",
   "execution_count": 0,
   "metadata": {
    "application/vnd.databricks.v1+cell": {
     "cellMetadata": {
      "byteLimit": 2048000,
      "rowLimit": 10000
     },
     "inputWidgets": {},
     "nuid": "ee02b8b4-db65-4dc3-9867-fc8700728e79",
     "showTitle": false,
     "tableResultSettingsMap": {},
     "title": ""
    }
   },
   "outputs": [
    {
     "output_type": "stream",
     "name": "stdout",
     "output_type": "stream",
     "text": [
      "+-----------------+-----------------------+----------+--------------------+-------------------+\n|ProductCategoryID|ParentProductCategoryID|      Name|             rowguid|       ModifiedDate|\n+-----------------+-----------------------+----------+--------------------+-------------------+\n|                1|                   NULL|     Bikes|cfbda25c-df71-47a...|2002-06-01 00:00:00|\n|                2|                   NULL|Components|c657828d-d808-4ab...|2002-06-01 00:00:00|\n|                3|                   NULL|  Clothing|10a7c342-ca82-48d...|2002-06-01 00:00:00|\n+-----------------+-----------------------+----------+--------------------+-------------------+\nonly showing top 3 rows\n\n"
     ]
    }
   ],
   "source": [
    "df_azsqldb_product_category = spark.read.parquet(*azsqldb_ProductCategory_files, header=True) \n",
    "df_azsqldb_product_category.show(3)"
   ]
  },
  {
   "cell_type": "code",
   "execution_count": 0,
   "metadata": {
    "application/vnd.databricks.v1+cell": {
     "cellMetadata": {
      "byteLimit": 2048000,
      "rowLimit": 10000
     },
     "inputWidgets": {},
     "nuid": "73a530f1-3f52-4088-b80e-e25a2bc75759",
     "showTitle": false,
     "tableResultSettingsMap": {},
     "title": ""
    }
   },
   "outputs": [
    {
     "output_type": "stream",
     "name": "stdout",
     "output_type": "stream",
     "text": [
      "+-----------------+-----------------------+----------+--------------------+-------------------+--------------------+\n|ProductCategoryID|ParentProductCategoryID|      Name|             rowguid|       ModifiedDate| ingestion_timestamp|\n+-----------------+-----------------------+----------+--------------------+-------------------+--------------------+\n|                1|                   NULL|     Bikes|cfbda25c-df71-47a...|2002-06-01 00:00:00|2024-11-28 22:21:...|\n|                2|                   NULL|Components|c657828d-d808-4ab...|2002-06-01 00:00:00|2024-11-28 22:21:...|\n|                3|                   NULL|  Clothing|10a7c342-ca82-48d...|2002-06-01 00:00:00|2024-11-28 22:21:...|\n+-----------------+-----------------------+----------+--------------------+-------------------+--------------------+\nonly showing top 3 rows\n\n"
     ]
    }
   ],
   "source": [
    "df_azsqldb_product_category = df_azsqldb_product_category.withColumn(\"ingestion_timestamp\", current_timestamp()) \\\n",
    "    .dropna(subset = [\"ProductCategoryID\"]) \\\n",
    "    .select(\"ProductCategoryID\", \"ParentProductCategoryID\", \"Name\", \"rowguid\", \"ModifiedDate\", \"ingestion_timestamp\") \\\n",
    "    .orderBy(\"ProductCategoryID\")\n",
    "\n",
    "window_spec = Window.partitionBy(\"ProductCategoryID\").orderBy(col(\"ingestion_timestamp\").desc())\n",
    "df_azsqldb_product_category = df_azsqldb_product_category.withColumn(\"row_num\", row_number().over(window_spec))\n",
    "df_azsqldb_product_category = df_azsqldb_product_category.filter(col(\"row_num\") == 1).drop(\"row_num\")\n",
    "\n",
    "df_azsqldb_product_category.show(3)"
   ]
  },
  {
   "cell_type": "code",
   "execution_count": 0,
   "metadata": {
    "application/vnd.databricks.v1+cell": {
     "cellMetadata": {
      "byteLimit": 2048000,
      "rowLimit": 10000
     },
     "inputWidgets": {},
     "nuid": "2115fe26-47bd-482b-954f-7a985ad9828d",
     "showTitle": false,
     "tableResultSettingsMap": {},
     "title": ""
    }
   },
   "outputs": [
    {
     "output_type": "stream",
     "name": "stdout",
     "output_type": "stream",
     "text": [
      "Total azsqldb_product_category records: 41\n"
     ]
    }
   ],
   "source": [
    "print(f\"Total azsqldb_product_category records: {df_azsqldb_product_category.count()}\")"
   ]
  },
  {
   "cell_type": "code",
   "execution_count": 0,
   "metadata": {
    "application/vnd.databricks.v1+cell": {
     "cellMetadata": {
      "byteLimit": 2048000,
      "rowLimit": 10000
     },
     "inputWidgets": {},
     "nuid": "0170ee8b-1db6-49a6-a15f-8be7f91e5bbb",
     "showTitle": false,
     "tableResultSettingsMap": {},
     "title": ""
    }
   },
   "outputs": [
    {
     "output_type": "execute_result",
     "data": {
      "text/plain": [
       "['ProductCategoryID',\n",
       " 'ParentProductCategoryID',\n",
       " 'Name',\n",
       " 'rowguid',\n",
       " 'ModifiedDate',\n",
       " 'ingestion_timestamp']"
      ]
     },
     "execution_count": 261,
     "metadata": {},
     "output_type": "execute_result"
    }
   ],
   "source": [
    "df_azsqldb_product_category.columns"
   ]
  },
  {
   "cell_type": "code",
   "execution_count": 0,
   "metadata": {
    "application/vnd.databricks.v1+cell": {
     "cellMetadata": {
      "byteLimit": 2048000,
      "rowLimit": 10000
     },
     "inputWidgets": {},
     "nuid": "061cdb46-71e0-4f4c-9ecd-ada42995b748",
     "showTitle": false,
     "tableResultSettingsMap": {},
     "title": ""
    }
   },
   "outputs": [
    {
     "output_type": "stream",
     "name": "stdout",
     "output_type": "stream",
     "text": [
      "root\n |-- ProductCategoryID: integer (nullable = true)\n |-- ParentProductCategoryID: integer (nullable = true)\n |-- Name: string (nullable = true)\n |-- rowguid: string (nullable = true)\n |-- ModifiedDate: timestamp (nullable = true)\n |-- ingestion_timestamp: timestamp (nullable = false)\n\n"
     ]
    }
   ],
   "source": [
    "df_azsqldb_product_category = df_azsqldb_product_category \\\n",
    "    .withColumn(\"ProductCategoryID\", col(\"ProductCategoryID\").cast(IntegerType())) \\\n",
    "    .withColumn(\"ParentProductCategoryID\", col(\"ParentProductCategoryID\").cast(IntegerType())) \\\n",
    "    .withColumn(\"Name\", col(\"Name\").cast(StringType())) \\\n",
    "    .withColumn(\"rowguid\", col(\"rowguid\").cast(StringType())) \\\n",
    "    .withColumn(\"ModifiedDate\", col(\"ModifiedDate\").cast(\"timestamp\")) \\\n",
    "    .withColumn(\"ingestion_timestamp\", col(\"ingestion_timestamp\").cast(\"timestamp\"))\n",
    "\n",
    "df_azsqldb_product_category.printSchema()"
   ]
  },
  {
   "cell_type": "code",
   "execution_count": 0,
   "metadata": {
    "application/vnd.databricks.v1+cell": {
     "cellMetadata": {
      "byteLimit": 2048000,
      "rowLimit": 10000
     },
     "inputWidgets": {},
     "nuid": "00bbad08-bd82-47b6-84dd-4cafae945cab",
     "showTitle": false,
     "tableResultSettingsMap": {},
     "title": ""
    }
   },
   "outputs": [
    {
     "output_type": "stream",
     "name": "stdout",
     "output_type": "stream",
     "text": [
      "+-----------------+-----------------------+----------+--------------------+-------------------+--------------------+\n|ProductCategoryID|ParentProductCategoryID|      Name|             rowguid|       ModifiedDate| ingestion_timestamp|\n+-----------------+-----------------------+----------+--------------------+-------------------+--------------------+\n|                1|                   NULL|     Bikes|cfbda25c-df71-47a...|2002-06-01 00:00:00|2024-11-28 22:23:...|\n|                2|                   NULL|Components|c657828d-d808-4ab...|2002-06-01 00:00:00|2024-11-28 22:23:...|\n|                3|                   NULL|  Clothing|10a7c342-ca82-48d...|2002-06-01 00:00:00|2024-11-28 22:23:...|\n+-----------------+-----------------------+----------+--------------------+-------------------+--------------------+\nonly showing top 3 rows\n\n"
     ]
    }
   ],
   "source": [
    "df_azsqldb_product_category.show(3)"
   ]
  },
  {
   "cell_type": "markdown",
   "metadata": {
    "application/vnd.databricks.v1+cell": {
     "cellMetadata": {},
     "inputWidgets": {},
     "nuid": "2971487f-ca74-400e-93d5-f0d70f533eb9",
     "showTitle": false,
     "tableResultSettingsMap": {},
     "title": ""
    }
   },
   "source": [
    "### azsqldb_product_description Dataset"
   ]
  },
  {
   "cell_type": "code",
   "execution_count": 0,
   "metadata": {
    "application/vnd.databricks.v1+cell": {
     "cellMetadata": {
      "byteLimit": 2048000,
      "rowLimit": 10000
     },
     "inputWidgets": {},
     "nuid": "f9bff944-bc6d-48e6-a0db-88b1d2569f9b",
     "showTitle": false,
     "tableResultSettingsMap": {},
     "title": ""
    }
   },
   "outputs": [
    {
     "output_type": "stream",
     "name": "stdout",
     "output_type": "stream",
     "text": [
      "+--------------------+--------------------+--------------------+-------------------+\n|ProductDescriptionID|         Description|             rowguid|       ModifiedDate|\n+--------------------+--------------------+--------------------+-------------------+\n|                   3|     Chromoly steel.|301eed3a-1a82-485...|2007-06-01 00:00:00|\n|                   4|Aluminum alloy cu...|dfeba528-da11-465...|2007-06-01 00:00:00|\n|                   5|Aluminum alloy cu...|f7178da7-1a7e-499...|2007-06-01 00:00:00|\n+--------------------+--------------------+--------------------+-------------------+\nonly showing top 3 rows\n\n"
     ]
    }
   ],
   "source": [
    "df_azsqldb_product_description = spark.read.parquet(*azsqldb_ProductDescription_files, header=True) \n",
    "df_azsqldb_product_description.show(3)"
   ]
  },
  {
   "cell_type": "code",
   "execution_count": 0,
   "metadata": {
    "application/vnd.databricks.v1+cell": {
     "cellMetadata": {
      "byteLimit": 2048000,
      "rowLimit": 10000
     },
     "inputWidgets": {},
     "nuid": "962c1ded-dd31-4f71-8f8b-20e8eb79b9e3",
     "showTitle": false,
     "tableResultSettingsMap": {},
     "title": ""
    }
   },
   "outputs": [
    {
     "output_type": "stream",
     "name": "stdout",
     "output_type": "stream",
     "text": [
      "+--------------------+--------------------+--------------------+-------------------+--------------------+\n|ProductDescriptionID|         Description|             rowguid|       ModifiedDate| ingestion_timestamp|\n+--------------------+--------------------+--------------------+-------------------+--------------------+\n|                   3|     Chromoly steel.|301eed3a-1a82-485...|2007-06-01 00:00:00|2024-11-28 22:27:...|\n|                   4|Aluminum alloy cu...|dfeba528-da11-465...|2007-06-01 00:00:00|2024-11-28 22:27:...|\n|                   5|Aluminum alloy cu...|f7178da7-1a7e-499...|2007-06-01 00:00:00|2024-11-28 22:27:...|\n+--------------------+--------------------+--------------------+-------------------+--------------------+\nonly showing top 3 rows\n\n"
     ]
    }
   ],
   "source": [
    "df_azsqldb_product_description = df_azsqldb_product_description.withColumn(\"ingestion_timestamp\", current_timestamp()) \\\n",
    "    .dropna(subset = [\"ProductDescriptionID\"]) \\\n",
    "    .select(\"ProductDescriptionID\", \"Description\", \"rowguid\", \"ModifiedDate\", \"ingestion_timestamp\") \\\n",
    "    .orderBy(\"ProductDescriptionID\")\n",
    "\n",
    "window_spec = Window.partitionBy(\"ProductDescriptionID\").orderBy(col(\"ingestion_timestamp\").desc())\n",
    "df_azsqldb_product_description = df_azsqldb_product_description.withColumn(\"row_num\", row_number().over(window_spec))\n",
    "df_azsqldb_product_description = df_azsqldb_product_description.filter(col(\"row_num\") == 1).drop(\"row_num\")\n",
    "\n",
    "df_azsqldb_product_description.show(3)"
   ]
  },
  {
   "cell_type": "code",
   "execution_count": 0,
   "metadata": {
    "application/vnd.databricks.v1+cell": {
     "cellMetadata": {
      "byteLimit": 2048000,
      "rowLimit": 10000
     },
     "inputWidgets": {},
     "nuid": "4e3e9032-57f6-4e6b-99e1-d53bbb951e42",
     "showTitle": false,
     "tableResultSettingsMap": {},
     "title": ""
    }
   },
   "outputs": [
    {
     "output_type": "stream",
     "name": "stdout",
     "output_type": "stream",
     "text": [
      "Total azsqldb_product_description records: 762\n"
     ]
    }
   ],
   "source": [
    "print(f\"Total azsqldb_product_description records: {df_azsqldb_product_description.count()}\")"
   ]
  },
  {
   "cell_type": "code",
   "execution_count": 0,
   "metadata": {
    "application/vnd.databricks.v1+cell": {
     "cellMetadata": {
      "byteLimit": 2048000,
      "rowLimit": 10000
     },
     "inputWidgets": {},
     "nuid": "6e2867e2-668b-4f6b-85db-71c1e10f896f",
     "showTitle": false,
     "tableResultSettingsMap": {},
     "title": ""
    }
   },
   "outputs": [
    {
     "output_type": "execute_result",
     "data": {
      "text/plain": [
       "['ProductDescriptionID',\n",
       " 'Description',\n",
       " 'rowguid',\n",
       " 'ModifiedDate',\n",
       " 'ingestion_timestamp']"
      ]
     },
     "execution_count": 267,
     "metadata": {},
     "output_type": "execute_result"
    }
   ],
   "source": [
    "df_azsqldb_product_description.columns"
   ]
  },
  {
   "cell_type": "code",
   "execution_count": 0,
   "metadata": {
    "application/vnd.databricks.v1+cell": {
     "cellMetadata": {
      "byteLimit": 2048000,
      "rowLimit": 10000
     },
     "inputWidgets": {},
     "nuid": "3119a929-8f73-4bee-beb5-f82978a146ad",
     "showTitle": false,
     "tableResultSettingsMap": {},
     "title": ""
    }
   },
   "outputs": [
    {
     "output_type": "stream",
     "name": "stdout",
     "output_type": "stream",
     "text": [
      "root\n |-- ProductDescriptionID: integer (nullable = true)\n |-- Description: string (nullable = true)\n |-- rowguid: string (nullable = true)\n |-- ModifiedDate: timestamp (nullable = true)\n |-- ingestion_timestamp: timestamp (nullable = false)\n\n"
     ]
    }
   ],
   "source": [
    "df_azsqldb_product_description = df_azsqldb_product_description \\\n",
    "    .withColumn(\"ProductDescriptionID\", col(\"ProductDescriptionID\").cast(IntegerType())) \\\n",
    "    .withColumn(\"Description\", col(\"Description\").cast(StringType())) \\\n",
    "    .withColumn(\"rowguid\", col(\"rowguid\").cast(StringType())) \\\n",
    "    .withColumn(\"ModifiedDate\", col(\"ModifiedDate\").cast(\"timestamp\")) \\\n",
    "    .withColumn(\"ingestion_timestamp\", col(\"ingestion_timestamp\").cast(\"timestamp\"))\n",
    "\n",
    "df_azsqldb_product_description.printSchema()"
   ]
  },
  {
   "cell_type": "code",
   "execution_count": 0,
   "metadata": {
    "application/vnd.databricks.v1+cell": {
     "cellMetadata": {
      "byteLimit": 2048000,
      "rowLimit": 10000
     },
     "inputWidgets": {},
     "nuid": "474db874-1b76-427a-a602-ab4a2c25cd1c",
     "showTitle": false,
     "tableResultSettingsMap": {},
     "title": ""
    }
   },
   "outputs": [
    {
     "output_type": "stream",
     "name": "stdout",
     "output_type": "stream",
     "text": [
      "+--------------------+--------------------+--------------------+-------------------+--------------------+\n|ProductDescriptionID|         Description|             rowguid|       ModifiedDate| ingestion_timestamp|\n+--------------------+--------------------+--------------------+-------------------+--------------------+\n|                   3|     Chromoly steel.|301eed3a-1a82-485...|2007-06-01 00:00:00|2024-11-28 22:33:...|\n|                   4|Aluminum alloy cu...|dfeba528-da11-465...|2007-06-01 00:00:00|2024-11-28 22:33:...|\n|                   5|Aluminum alloy cu...|f7178da7-1a7e-499...|2007-06-01 00:00:00|2024-11-28 22:33:...|\n+--------------------+--------------------+--------------------+-------------------+--------------------+\nonly showing top 3 rows\n\n"
     ]
    }
   ],
   "source": [
    "df_azsqldb_product_description.show(3)"
   ]
  },
  {
   "cell_type": "markdown",
   "metadata": {
    "application/vnd.databricks.v1+cell": {
     "cellMetadata": {},
     "inputWidgets": {},
     "nuid": "597cc4c6-1df4-44da-b8fb-e6f5d4291088",
     "showTitle": false,
     "tableResultSettingsMap": {},
     "title": ""
    }
   },
   "source": [
    "### azsqldb_product_model Dataset"
   ]
  },
  {
   "cell_type": "code",
   "execution_count": 0,
   "metadata": {
    "application/vnd.databricks.v1+cell": {
     "cellMetadata": {
      "byteLimit": 2048000,
      "rowLimit": 10000
     },
     "inputWidgets": {},
     "nuid": "33732ee6-7fc5-48f7-bfaa-d7d954a9959d",
     "showTitle": false,
     "tableResultSettingsMap": {},
     "title": ""
    }
   },
   "outputs": [
    {
     "output_type": "stream",
     "name": "stdout",
     "output_type": "stream",
     "text": [
      "+--------------+------------------+------------------+--------------------+-------------------+\n|ProductModelID|              Name|CatalogDescription|             rowguid|       ModifiedDate|\n+--------------+------------------+------------------+--------------------+-------------------+\n|             1|      Classic Vest|              NULL|29321d47-1e4c-4aa...|2007-06-01 00:00:00|\n|             2|       Cycling Cap|              NULL|474fb654-3c96-4cb...|2005-06-01 00:00:00|\n|             3|Full-Finger Gloves|              NULL|a75483fe-3c47-4aa...|2006-06-01 00:00:00|\n+--------------+------------------+------------------+--------------------+-------------------+\nonly showing top 3 rows\n\n"
     ]
    }
   ],
   "source": [
    "df_azsqldb_product_model = spark.read.parquet(*azsqldb_ProductModel_files, header=True) \n",
    "df_azsqldb_product_model.show(3)"
   ]
  },
  {
   "cell_type": "code",
   "execution_count": 0,
   "metadata": {
    "application/vnd.databricks.v1+cell": {
     "cellMetadata": {
      "byteLimit": 2048000,
      "rowLimit": 10000
     },
     "inputWidgets": {},
     "nuid": "973ac463-4b00-41ff-a8d7-5c1d85e58820",
     "showTitle": false,
     "tableResultSettingsMap": {},
     "title": ""
    }
   },
   "outputs": [
    {
     "output_type": "stream",
     "name": "stdout",
     "output_type": "stream",
     "text": [
      "+--------------+------------------+------------------+--------------------+-------------------+--------------------+\n|ProductModelID|              Name|CatalogDescription|             rowguid|       ModifiedDate| ingestion_timestamp|\n+--------------+------------------+------------------+--------------------+-------------------+--------------------+\n|             1|      Classic Vest|              NULL|29321d47-1e4c-4aa...|2007-06-01 00:00:00|2024-11-28 22:36:...|\n|             2|       Cycling Cap|              NULL|474fb654-3c96-4cb...|2005-06-01 00:00:00|2024-11-28 22:36:...|\n|             3|Full-Finger Gloves|              NULL|a75483fe-3c47-4aa...|2006-06-01 00:00:00|2024-11-28 22:36:...|\n+--------------+------------------+------------------+--------------------+-------------------+--------------------+\nonly showing top 3 rows\n\n"
     ]
    }
   ],
   "source": [
    "df_azsqldb_product_model = df_azsqldb_product_model.withColumn(\"ingestion_timestamp\", current_timestamp()) \\\n",
    "    .dropna(subset = [\"ProductModelID\"]) \\\n",
    "    .select(\"ProductModelID\", \"Name\", \"CatalogDescription\", \"rowguid\", \"ModifiedDate\", \"ingestion_timestamp\") \\\n",
    "    .orderBy(\"ProductModelID\")\n",
    "\n",
    "window_spec = Window.partitionBy(\"ProductModelID\").orderBy(col(\"ingestion_timestamp\").desc())\n",
    "df_azsqldb_product_model = df_azsqldb_product_model.withColumn(\"row_num\", row_number().over(window_spec))\n",
    "df_azsqldb_product_model = df_azsqldb_product_model.filter(col(\"row_num\") == 1).drop(\"row_num\")\n",
    "\n",
    "df_azsqldb_product_model.show(3)"
   ]
  },
  {
   "cell_type": "code",
   "execution_count": 0,
   "metadata": {
    "application/vnd.databricks.v1+cell": {
     "cellMetadata": {
      "byteLimit": 2048000,
      "rowLimit": 10000
     },
     "inputWidgets": {},
     "nuid": "93d849ee-c1a0-4c4d-a079-1606c371649d",
     "showTitle": false,
     "tableResultSettingsMap": {},
     "title": ""
    }
   },
   "outputs": [
    {
     "output_type": "stream",
     "name": "stdout",
     "output_type": "stream",
     "text": [
      "Total azsqldb_product_model records: 128\n"
     ]
    }
   ],
   "source": [
    "print(f\"Total azsqldb_product_model records: {df_azsqldb_product_model.count()}\")"
   ]
  },
  {
   "cell_type": "code",
   "execution_count": 0,
   "metadata": {
    "application/vnd.databricks.v1+cell": {
     "cellMetadata": {
      "byteLimit": 2048000,
      "rowLimit": 10000
     },
     "inputWidgets": {},
     "nuid": "48c2b63f-288c-4e6a-bbac-e354bbad84a1",
     "showTitle": false,
     "tableResultSettingsMap": {},
     "title": ""
    }
   },
   "outputs": [
    {
     "output_type": "execute_result",
     "data": {
      "text/plain": [
       "['ProductModelID',\n",
       " 'Name',\n",
       " 'CatalogDescription',\n",
       " 'rowguid',\n",
       " 'ModifiedDate',\n",
       " 'ingestion_timestamp']"
      ]
     },
     "execution_count": 273,
     "metadata": {},
     "output_type": "execute_result"
    }
   ],
   "source": [
    "df_azsqldb_product_model.columns"
   ]
  },
  {
   "cell_type": "code",
   "execution_count": 0,
   "metadata": {
    "application/vnd.databricks.v1+cell": {
     "cellMetadata": {
      "byteLimit": 2048000,
      "rowLimit": 10000
     },
     "inputWidgets": {},
     "nuid": "ce97eeb2-5d37-47f0-8364-96d8d36b9954",
     "showTitle": false,
     "tableResultSettingsMap": {},
     "title": ""
    }
   },
   "outputs": [
    {
     "output_type": "stream",
     "name": "stdout",
     "output_type": "stream",
     "text": [
      "root\n |-- ProductModelID: integer (nullable = true)\n |-- Name: string (nullable = true)\n |-- CatalogDescription: string (nullable = true)\n |-- rowguid: string (nullable = true)\n |-- ModifiedDate: timestamp (nullable = true)\n |-- ingestion_timestamp: timestamp (nullable = false)\n\n"
     ]
    }
   ],
   "source": [
    "df_azsqldb_product_model = df_azsqldb_product_model \\\n",
    "    .withColumn(\"ProductModelID\", col(\"ProductModelID\").cast(IntegerType())) \\\n",
    "    .withColumn(\"Name\", col(\"Name\").cast(StringType())) \\\n",
    "    .withColumn(\"CatalogDescription\", col(\"CatalogDescription\").cast(StringType())) \\\n",
    "    .withColumn(\"rowguid\", col(\"rowguid\").cast(StringType())) \\\n",
    "    .withColumn(\"ModifiedDate\", col(\"ModifiedDate\").cast(\"timestamp\")) \\\n",
    "    .withColumn(\"ingestion_timestamp\", col(\"ingestion_timestamp\").cast(\"timestamp\"))\n",
    "\n",
    "df_azsqldb_product_model.printSchema()"
   ]
  },
  {
   "cell_type": "code",
   "execution_count": 0,
   "metadata": {
    "application/vnd.databricks.v1+cell": {
     "cellMetadata": {
      "byteLimit": 2048000,
      "rowLimit": 10000
     },
     "inputWidgets": {},
     "nuid": "bcd9ae9f-4fcb-45a1-8d1d-9bde721f3ff7",
     "showTitle": false,
     "tableResultSettingsMap": {},
     "title": ""
    }
   },
   "outputs": [
    {
     "output_type": "stream",
     "name": "stdout",
     "output_type": "stream",
     "text": [
      "+--------------+------------------+------------------+--------------------+-------------------+--------------------+\n|ProductModelID|              Name|CatalogDescription|             rowguid|       ModifiedDate| ingestion_timestamp|\n+--------------+------------------+------------------+--------------------+-------------------+--------------------+\n|             1|      Classic Vest|              NULL|29321d47-1e4c-4aa...|2007-06-01 00:00:00|2024-11-28 22:38:...|\n|             2|       Cycling Cap|              NULL|474fb654-3c96-4cb...|2005-06-01 00:00:00|2024-11-28 22:38:...|\n|             3|Full-Finger Gloves|              NULL|a75483fe-3c47-4aa...|2006-06-01 00:00:00|2024-11-28 22:38:...|\n+--------------+------------------+------------------+--------------------+-------------------+--------------------+\nonly showing top 3 rows\n\n"
     ]
    }
   ],
   "source": [
    "df_azsqldb_product_model.show(3)"
   ]
  },
  {
   "cell_type": "markdown",
   "metadata": {
    "application/vnd.databricks.v1+cell": {
     "cellMetadata": {},
     "inputWidgets": {},
     "nuid": "d9eeae76-ffe9-4848-91a3-c91a9f6d3ecf",
     "showTitle": false,
     "tableResultSettingsMap": {},
     "title": ""
    }
   },
   "source": [
    "### azsqldb_productmodel_productdescription Dataset"
   ]
  },
  {
   "cell_type": "code",
   "execution_count": 0,
   "metadata": {
    "application/vnd.databricks.v1+cell": {
     "cellMetadata": {
      "byteLimit": 2048000,
      "rowLimit": 10000
     },
     "inputWidgets": {},
     "nuid": "78057537-dddc-47d5-9886-33b47166e7b4",
     "showTitle": false,
     "tableResultSettingsMap": {},
     "title": ""
    }
   },
   "outputs": [
    {
     "output_type": "stream",
     "name": "stdout",
     "output_type": "stream",
     "text": [
      "+--------------+--------------------+-------+--------------------+-------------------+\n|ProductModelID|ProductDescriptionID|Culture|             rowguid|       ModifiedDate|\n+--------------+--------------------+-------+--------------------+-------------------+\n|             1|                1199| en    |4d00b649-027a-4f9...|2007-06-01 00:00:00|\n|             1|                1467| ar    |7de7204e-4efc-40f...|2007-06-01 00:00:00|\n|             1|                1589| fr    |20bffcf4-bfa6-400...|2007-06-01 00:00:00|\n+--------------+--------------------+-------+--------------------+-------------------+\nonly showing top 3 rows\n\n"
     ]
    }
   ],
   "source": [
    "df_azsqldb_productmodel_productdescription = spark.read.parquet(*azsqldb_ProductModelProductDescription_files, header=True) \n",
    "df_azsqldb_productmodel_productdescription.show(3)"
   ]
  },
  {
   "cell_type": "code",
   "execution_count": 0,
   "metadata": {
    "application/vnd.databricks.v1+cell": {
     "cellMetadata": {
      "byteLimit": 2048000,
      "rowLimit": 10000
     },
     "inputWidgets": {},
     "nuid": "c00b6701-d65d-422a-80f1-449f53e368b2",
     "showTitle": false,
     "tableResultSettingsMap": {},
     "title": ""
    }
   },
   "outputs": [
    {
     "output_type": "stream",
     "name": "stdout",
     "output_type": "stream",
     "text": [
      "+--------------+--------------------+-------+--------------------+-------------------+--------------------+\n|ProductModelID|ProductDescriptionID|Culture|             rowguid|       ModifiedDate| ingestion_timestamp|\n+--------------+--------------------+-------+--------------------+-------------------+--------------------+\n|             1|                1199| en    |4d00b649-027a-4f9...|2007-06-01 00:00:00|2024-11-28 22:43:...|\n|             1|                1467| ar    |7de7204e-4efc-40f...|2007-06-01 00:00:00|2024-11-28 22:43:...|\n|             1|                1589| fr    |20bffcf4-bfa6-400...|2007-06-01 00:00:00|2024-11-28 22:43:...|\n+--------------+--------------------+-------+--------------------+-------------------+--------------------+\nonly showing top 3 rows\n\n"
     ]
    }
   ],
   "source": [
    "df_azsqldb_productmodel_productdescription = df_azsqldb_productmodel_productdescription.withColumn(\"ingestion_timestamp\", current_timestamp()) \\\n",
    "    .dropna(subset = [\"ProductModelID\", \"ProductDescriptionID\"]) \\\n",
    "    .select(\"ProductModelID\", \"ProductDescriptionID\", \"Culture\", \"rowguid\", \"ModifiedDate\", \"ingestion_timestamp\") \\\n",
    "    .orderBy(\"ProductModelID\", \"ProductDescriptionID\")\n",
    "\n",
    "window_spec = Window.partitionBy(\"ProductModelID\", \"ProductDescriptionID\").orderBy(col(\"ingestion_timestamp\").desc())\n",
    "df_azsqldb_productmodel_productdescription = df_azsqldb_productmodel_productdescription.withColumn(\"row_num\", row_number().over(window_spec))\n",
    "df_azsqldb_productmodel_productdescription = df_azsqldb_productmodel_productdescription.filter(col(\"row_num\") == 1).drop(\"row_num\")\n",
    "\n",
    "df_azsqldb_productmodel_productdescription.show(3)"
   ]
  },
  {
   "cell_type": "code",
   "execution_count": 0,
   "metadata": {
    "application/vnd.databricks.v1+cell": {
     "cellMetadata": {
      "byteLimit": 2048000,
      "rowLimit": 10000
     },
     "inputWidgets": {},
     "nuid": "e94d3213-1d2d-4d80-be34-0a285eb73b6b",
     "showTitle": false,
     "tableResultSettingsMap": {},
     "title": ""
    }
   },
   "outputs": [
    {
     "output_type": "stream",
     "name": "stdout",
     "output_type": "stream",
     "text": [
      "Total azsqldb_productmodel_productdescription records: 762\n"
     ]
    }
   ],
   "source": [
    "print(f\"Total azsqldb_productmodel_productdescription records: {df_azsqldb_productmodel_productdescription.count()}\")"
   ]
  },
  {
   "cell_type": "code",
   "execution_count": 0,
   "metadata": {
    "application/vnd.databricks.v1+cell": {
     "cellMetadata": {
      "byteLimit": 2048000,
      "rowLimit": 10000
     },
     "inputWidgets": {},
     "nuid": "b3cf1dd1-fa51-41a7-9374-6ee5f1360019",
     "showTitle": false,
     "tableResultSettingsMap": {},
     "title": ""
    }
   },
   "outputs": [
    {
     "output_type": "execute_result",
     "data": {
      "text/plain": [
       "['ProductModelID',\n",
       " 'ProductDescriptionID',\n",
       " 'Culture',\n",
       " 'rowguid',\n",
       " 'ModifiedDate',\n",
       " 'ingestion_timestamp']"
      ]
     },
     "execution_count": 280,
     "metadata": {},
     "output_type": "execute_result"
    }
   ],
   "source": [
    "df_azsqldb_productmodel_productdescription.columns"
   ]
  },
  {
   "cell_type": "code",
   "execution_count": 0,
   "metadata": {
    "application/vnd.databricks.v1+cell": {
     "cellMetadata": {
      "byteLimit": 2048000,
      "rowLimit": 10000
     },
     "inputWidgets": {},
     "nuid": "ae6e66cf-609e-4202-87f4-e213683e0c23",
     "showTitle": false,
     "tableResultSettingsMap": {},
     "title": ""
    }
   },
   "outputs": [
    {
     "output_type": "stream",
     "name": "stdout",
     "output_type": "stream",
     "text": [
      "root\n |-- ProductModelID: integer (nullable = true)\n |-- ProductDescriptionID: integer (nullable = true)\n |-- Culture: string (nullable = true)\n |-- rowguid: string (nullable = true)\n |-- ModifiedDate: timestamp (nullable = true)\n |-- ingestion_timestamp: timestamp (nullable = false)\n\n"
     ]
    }
   ],
   "source": [
    "df_azsqldb_productmodel_productdescription = df_azsqldb_productmodel_productdescription \\\n",
    "    .withColumn(\"ProductModelID\", col(\"ProductModelID\").cast(IntegerType())) \\\n",
    "    .withColumn(\"ProductDescriptionID\", col(\"ProductDescriptionID\").cast(IntegerType())) \\\n",
    "    .withColumn(\"Culture\", col(\"Culture\").cast(StringType())) \\\n",
    "    .withColumn(\"rowguid\", col(\"rowguid\").cast(StringType())) \\\n",
    "    .withColumn(\"ModifiedDate\", col(\"ModifiedDate\").cast(\"timestamp\")) \\\n",
    "    .withColumn(\"ingestion_timestamp\", col(\"ingestion_timestamp\").cast(\"timestamp\"))\n",
    "\n",
    "df_azsqldb_productmodel_productdescription.printSchema()"
   ]
  },
  {
   "cell_type": "code",
   "execution_count": 0,
   "metadata": {
    "application/vnd.databricks.v1+cell": {
     "cellMetadata": {
      "byteLimit": 2048000,
      "rowLimit": 10000
     },
     "inputWidgets": {},
     "nuid": "72c19ea0-2599-4f60-8110-31296735ea51",
     "showTitle": false,
     "tableResultSettingsMap": {},
     "title": ""
    }
   },
   "outputs": [
    {
     "output_type": "stream",
     "name": "stdout",
     "output_type": "stream",
     "text": [
      "+--------------+--------------------+-------+--------------------+-------------------+--------------------+\n|ProductModelID|ProductDescriptionID|Culture|             rowguid|       ModifiedDate| ingestion_timestamp|\n+--------------+--------------------+-------+--------------------+-------------------+--------------------+\n|             1|                1199| en    |4d00b649-027a-4f9...|2007-06-01 00:00:00|2024-11-28 22:45:...|\n|             1|                1467| ar    |7de7204e-4efc-40f...|2007-06-01 00:00:00|2024-11-28 22:45:...|\n|             1|                1589| fr    |20bffcf4-bfa6-400...|2007-06-01 00:00:00|2024-11-28 22:45:...|\n+--------------+--------------------+-------+--------------------+-------------------+--------------------+\nonly showing top 3 rows\n\n"
     ]
    }
   ],
   "source": [
    "df_azsqldb_productmodel_productdescription.show(3)"
   ]
  },
  {
   "cell_type": "markdown",
   "metadata": {
    "application/vnd.databricks.v1+cell": {
     "cellMetadata": {},
     "inputWidgets": {},
     "nuid": "99fe37a5-5caf-420b-8c6e-17fc14e4e46b",
     "showTitle": false,
     "tableResultSettingsMap": {},
     "title": ""
    }
   },
   "source": [
    "### azsqldb_salesorder_detail Dataset"
   ]
  },
  {
   "cell_type": "code",
   "execution_count": 0,
   "metadata": {
    "application/vnd.databricks.v1+cell": {
     "cellMetadata": {
      "byteLimit": 2048000,
      "rowLimit": 10000
     },
     "inputWidgets": {},
     "nuid": "a3da56ad-962a-445d-aaee-93d744d75d18",
     "showTitle": false,
     "tableResultSettingsMap": {},
     "title": ""
    }
   },
   "outputs": [
    {
     "output_type": "stream",
     "name": "stdout",
     "output_type": "stream",
     "text": [
      "+------------+------------------+--------+---------+---------+-----------------+----------+--------------------+-------------------+\n|SalesOrderID|SalesOrderDetailID|OrderQty|ProductID|UnitPrice|UnitPriceDiscount| LineTotal|             rowguid|       ModifiedDate|\n+------------+------------------+--------+---------+---------+-----------------+----------+--------------------+-------------------+\n|       71774|            110562|       1|      836| 356.8980|           0.0000|356.898000|e3a1994c-7a68-4ce...|2008-06-01 00:00:00|\n|       71774|            110563|       1|      822| 356.8980|           0.0000|356.898000|5c77f557-fdb6-43b...|2008-06-01 00:00:00|\n|       71776|            110567|       1|      907|  63.9000|           0.0000| 63.900000|6dbfe398-d15d-425...|2008-06-01 00:00:00|\n+------------+------------------+--------+---------+---------+-----------------+----------+--------------------+-------------------+\nonly showing top 3 rows\n\n"
     ]
    }
   ],
   "source": [
    "df_azsqldb_salesorder_detail = spark.read.parquet(*azsqldb_SalesOrderDetail_files, header=True) \n",
    "df_azsqldb_salesorder_detail.show(3)"
   ]
  },
  {
   "cell_type": "code",
   "execution_count": 0,
   "metadata": {
    "application/vnd.databricks.v1+cell": {
     "cellMetadata": {
      "byteLimit": 2048000,
      "rowLimit": 10000
     },
     "inputWidgets": {},
     "nuid": "eba68335-9aff-4f0d-ace8-66915e68460f",
     "showTitle": false,
     "tableResultSettingsMap": {},
     "title": ""
    }
   },
   "outputs": [
    {
     "output_type": "stream",
     "name": "stdout",
     "output_type": "stream",
     "text": [
      "+------------+------------------+--------+---------+---------+-----------------+----------+--------------------+-------------------+--------------------+\n|SalesOrderID|SalesOrderDetailID|OrderQty|ProductID|UnitPrice|UnitPriceDiscount| LineTotal|             rowguid|       ModifiedDate| ingestion_timestamp|\n+------------+------------------+--------+---------+---------+-----------------+----------+--------------------+-------------------+--------------------+\n|       71774|            110562|       1|      836| 356.8980|           0.0000|356.898000|e3a1994c-7a68-4ce...|2008-06-01 00:00:00|2024-11-28 22:53:...|\n|       71774|            110563|       1|      822| 356.8980|           0.0000|356.898000|5c77f557-fdb6-43b...|2008-06-01 00:00:00|2024-11-28 22:53:...|\n|       71776|            110567|       1|      907|  63.9000|           0.0000| 63.900000|6dbfe398-d15d-425...|2008-06-01 00:00:00|2024-11-28 22:53:...|\n+------------+------------------+--------+---------+---------+-----------------+----------+--------------------+-------------------+--------------------+\nonly showing top 3 rows\n\n"
     ]
    }
   ],
   "source": [
    "df_azsqldb_salesorder_detail = df_azsqldb_salesorder_detail.withColumn(\"ingestion_timestamp\", current_timestamp()) \\\n",
    "    .dropna(subset = [\"SalesOrderID\", \"SalesOrderDetailID\", \"ProductID\"]) \\\n",
    "    .select(\"SalesOrderID\", \"SalesOrderDetailID\", \"OrderQty\", \"ProductID\", \"UnitPrice\", \"UnitPriceDiscount\", \"LineTotal\", \"rowguid\", \"ModifiedDate\", \"ingestion_timestamp\") \\\n",
    "    .orderBy(\"SalesOrderID\", \"SalesOrderDetailID\", \"ProductID\")\n",
    "\n",
    "window_spec = Window.partitionBy(\"SalesOrderID\", \"SalesOrderDetailID\", \"ProductID\").orderBy(col(\"ingestion_timestamp\").desc())\n",
    "df_azsqldb_salesorder_detail = df_azsqldb_salesorder_detail.withColumn(\"row_num\", row_number().over(window_spec))\n",
    "df_azsqldb_salesorder_detail = df_azsqldb_salesorder_detail.filter(col(\"row_num\") == 1).drop(\"row_num\")\n",
    "\n",
    "df_azsqldb_salesorder_detail.show(3)"
   ]
  },
  {
   "cell_type": "code",
   "execution_count": 0,
   "metadata": {
    "application/vnd.databricks.v1+cell": {
     "cellMetadata": {
      "byteLimit": 2048000,
      "rowLimit": 10000
     },
     "inputWidgets": {},
     "nuid": "51ca1ce4-2adc-4032-8d69-a31e11af9655",
     "showTitle": false,
     "tableResultSettingsMap": {},
     "title": ""
    }
   },
   "outputs": [
    {
     "output_type": "stream",
     "name": "stdout",
     "output_type": "stream",
     "text": [
      "Total azsqldb_salesorder_detail records: 542\n"
     ]
    }
   ],
   "source": [
    "print(f\"Total azsqldb_salesorder_detail records: {df_azsqldb_salesorder_detail.count()}\")"
   ]
  },
  {
   "cell_type": "code",
   "execution_count": 0,
   "metadata": {
    "application/vnd.databricks.v1+cell": {
     "cellMetadata": {
      "byteLimit": 2048000,
      "rowLimit": 10000
     },
     "inputWidgets": {},
     "nuid": "94d27c37-5f8e-4102-b518-1732fd5b74df",
     "showTitle": false,
     "tableResultSettingsMap": {},
     "title": ""
    }
   },
   "outputs": [
    {
     "output_type": "execute_result",
     "data": {
      "text/plain": [
       "['SalesOrderID',\n",
       " 'SalesOrderDetailID',\n",
       " 'OrderQty',\n",
       " 'ProductID',\n",
       " 'UnitPrice',\n",
       " 'UnitPriceDiscount',\n",
       " 'LineTotal',\n",
       " 'rowguid',\n",
       " 'ModifiedDate',\n",
       " 'ingestion_timestamp']"
      ]
     },
     "execution_count": 286,
     "metadata": {},
     "output_type": "execute_result"
    }
   ],
   "source": [
    "df_azsqldb_salesorder_detail.columns"
   ]
  },
  {
   "cell_type": "code",
   "execution_count": 0,
   "metadata": {
    "application/vnd.databricks.v1+cell": {
     "cellMetadata": {
      "byteLimit": 2048000,
      "rowLimit": 10000
     },
     "inputWidgets": {},
     "nuid": "d5a580a0-940c-4710-82fd-badbf49399c5",
     "showTitle": false,
     "tableResultSettingsMap": {},
     "title": ""
    }
   },
   "outputs": [
    {
     "output_type": "stream",
     "name": "stdout",
     "output_type": "stream",
     "text": [
      "root\n |-- SalesOrderID: integer (nullable = true)\n |-- SalesOrderDetailID: integer (nullable = true)\n |-- OrderQty: integer (nullable = true)\n |-- ProductID: integer (nullable = true)\n |-- UnitPrice: double (nullable = true)\n |-- UnitPriceDiscount: double (nullable = true)\n |-- LineTotal: double (nullable = true)\n |-- rowguid: string (nullable = true)\n |-- ModifiedDate: timestamp (nullable = true)\n |-- ingestion_timestamp: timestamp (nullable = false)\n\n"
     ]
    }
   ],
   "source": [
    "df_azsqldb_salesorder_detail = df_azsqldb_salesorder_detail \\\n",
    "    .withColumn(\"SalesOrderID\", col(\"SalesOrderID\").cast(IntegerType())) \\\n",
    "    .withColumn(\"SalesOrderDetailID\", col(\"SalesOrderDetailID\").cast(IntegerType())) \\\n",
    "    .withColumn(\"OrderQty\", col(\"OrderQty\").cast(IntegerType())) \\\n",
    "    .withColumn(\"ProductID\", col(\"ProductID\").cast(IntegerType())) \\\n",
    "    .withColumn(\"UnitPrice\", col(\"UnitPrice\").cast(DoubleType())) \\\n",
    "    .withColumn(\"UnitPriceDiscount\", col(\"UnitPriceDiscount\").cast(DoubleType())) \\\n",
    "    .withColumn(\"LineTotal\", col(\"LineTotal\").cast(DoubleType())) \\\n",
    "    .withColumn(\"rowguid\", col(\"rowguid\").cast(StringType())) \\\n",
    "    .withColumn(\"ModifiedDate\", col(\"ModifiedDate\").cast(\"timestamp\")) \\\n",
    "    .withColumn(\"ingestion_timestamp\", col(\"ingestion_timestamp\").cast(\"timestamp\"))\n",
    "\n",
    "df_azsqldb_salesorder_detail.printSchema()"
   ]
  },
  {
   "cell_type": "code",
   "execution_count": 0,
   "metadata": {
    "application/vnd.databricks.v1+cell": {
     "cellMetadata": {
      "byteLimit": 2048000,
      "rowLimit": 10000
     },
     "inputWidgets": {},
     "nuid": "de772da6-1d86-4ae1-9523-3c050906ec3b",
     "showTitle": false,
     "tableResultSettingsMap": {},
     "title": ""
    }
   },
   "outputs": [
    {
     "output_type": "stream",
     "name": "stdout",
     "output_type": "stream",
     "text": [
      "+------------+------------------+--------+---------+---------+-----------------+---------+--------------------+-------------------+--------------------+\n|SalesOrderID|SalesOrderDetailID|OrderQty|ProductID|UnitPrice|UnitPriceDiscount|LineTotal|             rowguid|       ModifiedDate| ingestion_timestamp|\n+------------+------------------+--------+---------+---------+-----------------+---------+--------------------+-------------------+--------------------+\n|       71774|            110562|       1|      836|  356.898|              0.0|  356.898|e3a1994c-7a68-4ce...|2008-06-01 00:00:00|2024-11-28 22:56:...|\n|       71774|            110563|       1|      822|  356.898|              0.0|  356.898|5c77f557-fdb6-43b...|2008-06-01 00:00:00|2024-11-28 22:56:...|\n|       71776|            110567|       1|      907|     63.9|              0.0|     63.9|6dbfe398-d15d-425...|2008-06-01 00:00:00|2024-11-28 22:56:...|\n+------------+------------------+--------+---------+---------+-----------------+---------+--------------------+-------------------+--------------------+\nonly showing top 3 rows\n\n"
     ]
    }
   ],
   "source": [
    "df_azsqldb_salesorder_detail.show(3)"
   ]
  },
  {
   "cell_type": "markdown",
   "metadata": {
    "application/vnd.databricks.v1+cell": {
     "cellMetadata": {},
     "inputWidgets": {},
     "nuid": "23527d4e-277a-4eae-a061-1a18d71ada60",
     "showTitle": false,
     "tableResultSettingsMap": {},
     "title": ""
    }
   },
   "source": [
    "### azsqldb_salesorder_header Dataset"
   ]
  },
  {
   "cell_type": "code",
   "execution_count": 0,
   "metadata": {
    "application/vnd.databricks.v1+cell": {
     "cellMetadata": {
      "byteLimit": 2048000,
      "rowLimit": 10000
     },
     "inputWidgets": {},
     "nuid": "4101a7cd-6500-4fb3-b26b-6879c57c72d8",
     "showTitle": false,
     "tableResultSettingsMap": {},
     "title": ""
    }
   },
   "outputs": [
    {
     "output_type": "stream",
     "name": "stdout",
     "output_type": "stream",
     "text": [
      "+------------+--------------+-------------------+-------------------+-------------------+------+---------------+----------------+-------------------+--------------+----------+---------------+---------------+-----------------+----------------------+----------+---------+--------+----------+-------+--------------------+-------------------+\n|SalesOrderID|RevisionNumber|          OrderDate|            DueDate|           ShipDate|Status|OnlineOrderFlag|SalesOrderNumber|PurchaseOrderNumber| AccountNumber|CustomerID|ShipToAddressID|BillToAddressID|       ShipMethod|CreditCardApprovalCode|  SubTotal|   TaxAmt| Freight|  TotalDue|Comment|             rowguid|       ModifiedDate|\n+------------+--------------+-------------------+-------------------+-------------------+------+---------------+----------------+-------------------+--------------+----------+---------------+---------------+-----------------+----------------------+----------+---------+--------+----------+-------+--------------------+-------------------+\n|       71774|             2|2008-06-01 00:00:00|2008-06-13 00:00:00|2008-06-08 00:00:00|     5|          false|         SO71774|        PO348186287|10-4020-000609|     29847|           1092|           1092|CARGO TRANSPORT 5|                  NULL|  880.3484|  70.4279| 22.0087|  972.7850|   NULL|89e42cdc-8506-48a...|2008-06-08 00:00:00|\n|       71776|             2|2008-06-01 00:00:00|2008-06-13 00:00:00|2008-06-08 00:00:00|     5|          false|         SO71776|      PO19952192051|10-4020-000106|     30072|            640|            640|CARGO TRANSPORT 5|                  NULL|   78.8100|   6.3048|  1.9703|   87.0851|   NULL|8a3448c5-e677-415...|2008-06-08 00:00:00|\n|       71780|             2|2008-06-01 00:00:00|2008-06-13 00:00:00|2008-06-08 00:00:00|     5|          false|         SO71780|      PO19604173239|10-4020-000340|     30113|            653|            653|CARGO TRANSPORT 5|                  NULL|38418.6895|3073.4952|960.4672|42452.6519|   NULL|a47665d2-7ac9-4cf...|2008-06-08 00:00:00|\n+------------+--------------+-------------------+-------------------+-------------------+------+---------------+----------------+-------------------+--------------+----------+---------------+---------------+-----------------+----------------------+----------+---------+--------+----------+-------+--------------------+-------------------+\nonly showing top 3 rows\n\n"
     ]
    }
   ],
   "source": [
    "df_azsqldb_salesorder_header = spark.read.parquet(*azsqldb_SalesOrderHeader_files, header=True) \n",
    "df_azsqldb_salesorder_header.show(3)"
   ]
  },
  {
   "cell_type": "code",
   "execution_count": 0,
   "metadata": {
    "application/vnd.databricks.v1+cell": {
     "cellMetadata": {
      "byteLimit": 2048000,
      "rowLimit": 10000
     },
     "inputWidgets": {},
     "nuid": "74bc4e7f-69b5-49f3-a42f-c0d60dd1d84c",
     "showTitle": false,
     "tableResultSettingsMap": {},
     "title": ""
    }
   },
   "outputs": [
    {
     "output_type": "stream",
     "name": "stdout",
     "output_type": "stream",
     "text": [
      "+------------+--------------+-------------------+-------------------+-------------------+------+---------------+----------------+-------------------+--------------+----------+---------------+---------------+-----------------+----------------------+----------+---------+--------+----------+-------+--------------------+-------------------+--------------------+\n|SalesOrderID|RevisionNumber|          OrderDate|            DueDate|           ShipDate|Status|OnlineOrderFlag|SalesOrderNumber|PurchaseOrderNumber| AccountNumber|CustomerID|ShipToAddressID|BillToAddressID|       ShipMethod|CreditCardApprovalCode|  SubTotal|   TaxAmt| Freight|  TotalDue|Comment|             rowguid|       ModifiedDate| ingestion_timestamp|\n+------------+--------------+-------------------+-------------------+-------------------+------+---------------+----------------+-------------------+--------------+----------+---------------+---------------+-----------------+----------------------+----------+---------+--------+----------+-------+--------------------+-------------------+--------------------+\n|       71774|             2|2008-06-01 00:00:00|2008-06-13 00:00:00|2008-06-08 00:00:00|     5|          false|         SO71774|        PO348186287|10-4020-000609|     29847|           1092|           1092|CARGO TRANSPORT 5|                  NULL|  880.3484|  70.4279| 22.0087|  972.7850|   NULL|89e42cdc-8506-48a...|2008-06-08 00:00:00|2024-11-28 23:05:...|\n|       71776|             2|2008-06-01 00:00:00|2008-06-13 00:00:00|2008-06-08 00:00:00|     5|          false|         SO71776|      PO19952192051|10-4020-000106|     30072|            640|            640|CARGO TRANSPORT 5|                  NULL|   78.8100|   6.3048|  1.9703|   87.0851|   NULL|8a3448c5-e677-415...|2008-06-08 00:00:00|2024-11-28 23:05:...|\n|       71780|             2|2008-06-01 00:00:00|2008-06-13 00:00:00|2008-06-08 00:00:00|     5|          false|         SO71780|      PO19604173239|10-4020-000340|     30113|            653|            653|CARGO TRANSPORT 5|                  NULL|38418.6895|3073.4952|960.4672|42452.6519|   NULL|a47665d2-7ac9-4cf...|2008-06-08 00:00:00|2024-11-28 23:05:...|\n+------------+--------------+-------------------+-------------------+-------------------+------+---------------+----------------+-------------------+--------------+----------+---------------+---------------+-----------------+----------------------+----------+---------+--------+----------+-------+--------------------+-------------------+--------------------+\nonly showing top 3 rows\n\n"
     ]
    }
   ],
   "source": [
    "df_azsqldb_salesorder_header = df_azsqldb_salesorder_header.withColumn(\"ingestion_timestamp\", current_timestamp()) \\\n",
    "    .dropna(subset = [\"SalesOrderID\"]) \\\n",
    "    .select(\"SalesOrderID\", \"RevisionNumber\", \"OrderDate\", \"DueDate\", \"ShipDate\", \"Status\", \"OnlineOrderFlag\", \"SalesOrderNumber\", \"PurchaseOrderNumber\", \"AccountNumber\", \"CustomerID\", \"ShipToAddressID\", \"BillToAddressID\", \"ShipMethod\", \"CreditCardApprovalCode\", \"SubTotal\", \"TaxAmt\", \"Freight\", \"TotalDue\", \"Comment\", \"rowguid\", \"ModifiedDate\", \"ingestion_timestamp\") \\\n",
    "    .orderBy(\"SalesOrderID\")\n",
    "\n",
    "window_spec = Window.partitionBy(\"SalesOrderID\").orderBy(col(\"ingestion_timestamp\").desc())\n",
    "df_azsqldb_salesorder_header = df_azsqldb_salesorder_header.withColumn(\"row_num\", row_number().over(window_spec))\n",
    "df_azsqldb_salesorder_header = df_azsqldb_salesorder_header.filter(col(\"row_num\") == 1).drop(\"row_num\")\n",
    "\n",
    "df_azsqldb_salesorder_header.show(3)"
   ]
  },
  {
   "cell_type": "code",
   "execution_count": 0,
   "metadata": {
    "application/vnd.databricks.v1+cell": {
     "cellMetadata": {
      "byteLimit": 2048000,
      "rowLimit": 10000
     },
     "inputWidgets": {},
     "nuid": "20009f10-4c69-43b2-9493-8165ef599142",
     "showTitle": false,
     "tableResultSettingsMap": {},
     "title": ""
    }
   },
   "outputs": [
    {
     "output_type": "stream",
     "name": "stdout",
     "output_type": "stream",
     "text": [
      "Total azsqldb_salesorder_header records: 32\n"
     ]
    }
   ],
   "source": [
    "print(f\"Total azsqldb_salesorder_header records: {df_azsqldb_salesorder_header.count()}\")"
   ]
  },
  {
   "cell_type": "code",
   "execution_count": 0,
   "metadata": {
    "application/vnd.databricks.v1+cell": {
     "cellMetadata": {
      "byteLimit": 2048000,
      "rowLimit": 10000
     },
     "inputWidgets": {},
     "nuid": "9579cdee-bd55-4ed9-91d9-c40f9ad5ce02",
     "showTitle": false,
     "tableResultSettingsMap": {},
     "title": ""
    }
   },
   "outputs": [
    {
     "output_type": "execute_result",
     "data": {
      "text/plain": [
       "['SalesOrderID',\n",
       " 'RevisionNumber',\n",
       " 'OrderDate',\n",
       " 'DueDate',\n",
       " 'ShipDate',\n",
       " 'Status',\n",
       " 'OnlineOrderFlag',\n",
       " 'SalesOrderNumber',\n",
       " 'PurchaseOrderNumber',\n",
       " 'AccountNumber',\n",
       " 'CustomerID',\n",
       " 'ShipToAddressID',\n",
       " 'BillToAddressID',\n",
       " 'ShipMethod',\n",
       " 'CreditCardApprovalCode',\n",
       " 'SubTotal',\n",
       " 'TaxAmt',\n",
       " 'Freight',\n",
       " 'TotalDue',\n",
       " 'Comment',\n",
       " 'rowguid',\n",
       " 'ModifiedDate',\n",
       " 'ingestion_timestamp']"
      ]
     },
     "execution_count": 296,
     "metadata": {},
     "output_type": "execute_result"
    }
   ],
   "source": [
    "df_azsqldb_salesorder_header.columns"
   ]
  },
  {
   "cell_type": "code",
   "execution_count": 0,
   "metadata": {
    "application/vnd.databricks.v1+cell": {
     "cellMetadata": {
      "byteLimit": 2048000,
      "rowLimit": 10000
     },
     "inputWidgets": {},
     "nuid": "c4704e4f-ff90-4833-a9c2-80270b9677ba",
     "showTitle": false,
     "tableResultSettingsMap": {},
     "title": ""
    }
   },
   "outputs": [
    {
     "output_type": "stream",
     "name": "stdout",
     "output_type": "stream",
     "text": [
      "root\n |-- SalesOrderID: integer (nullable = true)\n |-- RevisionNumber: integer (nullable = true)\n |-- OrderDate: timestamp (nullable = true)\n |-- DueDate: timestamp (nullable = true)\n |-- ShipDate: timestamp (nullable = true)\n |-- Status: integer (nullable = true)\n |-- OnlineOrderFlag: boolean (nullable = true)\n |-- SalesOrderNumber: string (nullable = true)\n |-- PurchaseOrderNumber: string (nullable = true)\n |-- AccountNumber: string (nullable = true)\n |-- CustomerID: integer (nullable = true)\n |-- ShipToAddressID: integer (nullable = true)\n |-- BillToAddressID: integer (nullable = true)\n |-- ShipMethod: string (nullable = true)\n |-- CreditCardApprovalCode: string (nullable = true)\n |-- SubTotal: double (nullable = true)\n |-- TaxAmt: double (nullable = true)\n |-- Freight: double (nullable = true)\n |-- TotalDue: double (nullable = true)\n |-- Comment: string (nullable = true)\n |-- rowguid: string (nullable = true)\n |-- ModifiedDate: timestamp (nullable = true)\n |-- ingestion_timestamp: timestamp (nullable = false)\n\n"
     ]
    }
   ],
   "source": [
    "df_azsqldb_salesorder_header = df_azsqldb_salesorder_header \\\n",
    "    .withColumn(\"SalesOrderID\", col(\"SalesOrderID\").cast(IntegerType())) \\\n",
    "    .withColumn(\"RevisionNumber\", col(\"RevisionNumber\").cast(IntegerType())) \\\n",
    "    .withColumn(\"OrderDate\", col(\"OrderDate\").cast(\"timestamp\")) \\\n",
    "    .withColumn(\"DueDate\", col(\"DueDate\").cast(\"timestamp\")) \\\n",
    "    .withColumn(\"ShipDate\", col(\"ShipDate\").cast(\"timestamp\")) \\\n",
    "    .withColumn(\"Status\", col(\"Status\").cast(IntegerType())) \\\n",
    "    .withColumn(\"OnlineOrderFlag\", col(\"OnlineOrderFlag\").cast(BooleanType())) \\\n",
    "    .withColumn(\"SalesOrderNumber\", col(\"SalesOrderNumber\").cast(StringType())) \\\n",
    "    .withColumn(\"PurchaseOrderNumber\", col(\"PurchaseOrderNumber\").cast(StringType())) \\\n",
    "    .withColumn(\"AccountNumber\", col(\"AccountNumber\").cast(StringType())) \\\n",
    "    .withColumn(\"CustomerID\", col(\"CustomerID\").cast(IntegerType())) \\\n",
    "    .withColumn(\"ShipToAddressID\", col(\"ShipToAddressID\").cast(IntegerType())) \\\n",
    "    .withColumn(\"BillToAddressID\", col(\"BillToAddressID\").cast(IntegerType())) \\\n",
    "    .withColumn(\"ShipMethod\", col(\"ShipMethod\").cast(StringType())) \\\n",
    "    .withColumn(\"CreditCardApprovalCode\", col(\"CreditCardApprovalCode\").cast(StringType())) \\\n",
    "    .withColumn(\"SubTotal\", col(\"SubTotal\").cast(DoubleType())) \\\n",
    "    .withColumn(\"TaxAmt\", col(\"TaxAmt\").cast(DoubleType())) \\\n",
    "    .withColumn(\"Freight\", col(\"Freight\").cast(DoubleType())) \\\n",
    "    .withColumn(\"TotalDue\", col(\"TotalDue\").cast(DoubleType())) \\\n",
    "    .withColumn(\"Comment\", col(\"Comment\").cast(StringType())) \\\n",
    "    .withColumn(\"rowguid\", col(\"rowguid\").cast(StringType())) \\\n",
    "    .withColumn(\"ModifiedDate\", col(\"ModifiedDate\").cast(\"timestamp\")) \\\n",
    "    .withColumn(\"ingestion_timestamp\", col(\"ingestion_timestamp\").cast(\"timestamp\"))\n",
    "\n",
    "df_azsqldb_salesorder_header.printSchema()"
   ]
  },
  {
   "cell_type": "code",
   "execution_count": 0,
   "metadata": {
    "application/vnd.databricks.v1+cell": {
     "cellMetadata": {
      "byteLimit": 2048000,
      "rowLimit": 10000
     },
     "inputWidgets": {},
     "nuid": "61967caf-3346-4416-aed8-a5e28deec155",
     "showTitle": false,
     "tableResultSettingsMap": {},
     "title": ""
    }
   },
   "outputs": [
    {
     "output_type": "stream",
     "name": "stdout",
     "output_type": "stream",
     "text": [
      "+------------+--------------+-------------------+-------------------+-------------------+------+---------------+----------------+-------------------+--------------+----------+---------------+---------------+-----------------+----------------------+----------+---------+--------+----------+-------+--------------------+-------------------+--------------------+\n|SalesOrderID|RevisionNumber|          OrderDate|            DueDate|           ShipDate|Status|OnlineOrderFlag|SalesOrderNumber|PurchaseOrderNumber| AccountNumber|CustomerID|ShipToAddressID|BillToAddressID|       ShipMethod|CreditCardApprovalCode|  SubTotal|   TaxAmt| Freight|  TotalDue|Comment|             rowguid|       ModifiedDate| ingestion_timestamp|\n+------------+--------------+-------------------+-------------------+-------------------+------+---------------+----------------+-------------------+--------------+----------+---------------+---------------+-----------------+----------------------+----------+---------+--------+----------+-------+--------------------+-------------------+--------------------+\n|       71774|             2|2008-06-01 00:00:00|2008-06-13 00:00:00|2008-06-08 00:00:00|     5|          false|         SO71774|        PO348186287|10-4020-000609|     29847|           1092|           1092|CARGO TRANSPORT 5|                  NULL|  880.3484|  70.4279| 22.0087|   972.785|   NULL|89e42cdc-8506-48a...|2008-06-08 00:00:00|2024-11-28 23:15:...|\n|       71776|             2|2008-06-01 00:00:00|2008-06-13 00:00:00|2008-06-08 00:00:00|     5|          false|         SO71776|      PO19952192051|10-4020-000106|     30072|            640|            640|CARGO TRANSPORT 5|                  NULL|     78.81|   6.3048|  1.9703|   87.0851|   NULL|8a3448c5-e677-415...|2008-06-08 00:00:00|2024-11-28 23:15:...|\n|       71780|             2|2008-06-01 00:00:00|2008-06-13 00:00:00|2008-06-08 00:00:00|     5|          false|         SO71780|      PO19604173239|10-4020-000340|     30113|            653|            653|CARGO TRANSPORT 5|                  NULL|38418.6895|3073.4952|960.4672|42452.6519|   NULL|a47665d2-7ac9-4cf...|2008-06-08 00:00:00|2024-11-28 23:15:...|\n+------------+--------------+-------------------+-------------------+-------------------+------+---------------+----------------+-------------------+--------------+----------+---------------+---------------+-----------------+----------------------+----------+---------+--------+----------+-------+--------------------+-------------------+--------------------+\nonly showing top 3 rows\n\n"
     ]
    }
   ],
   "source": [
    "df_azsqldb_salesorder_header.show(3)"
   ]
  },
  {
   "cell_type": "markdown",
   "metadata": {
    "application/vnd.databricks.v1+cell": {
     "cellMetadata": {},
     "inputWidgets": {},
     "nuid": "26158df2-ecc4-44ba-ab36-b7dc0953a4c4",
     "showTitle": false,
     "tableResultSettingsMap": {},
     "title": ""
    }
   },
   "source": [
    "## Reading and Cleaning Data From On-Premise Microsoft SQL Server"
   ]
  },
  {
   "cell_type": "markdown",
   "metadata": {
    "application/vnd.databricks.v1+cell": {
     "cellMetadata": {
      "byteLimit": 2048000,
      "rowLimit": 10000
     },
     "inputWidgets": {},
     "nuid": "80af4127-6fa0-4b17-99b0-161b2fec9fc5",
     "showTitle": false,
     "tableResultSettingsMap": {},
     "title": ""
    }
   },
   "source": [
    "### onprem_country_rolling Dataset"
   ]
  },
  {
   "cell_type": "code",
   "execution_count": 0,
   "metadata": {
    "application/vnd.databricks.v1+cell": {
     "cellMetadata": {
      "byteLimit": 2048000,
      "rowLimit": 10000
     },
     "inputWidgets": {},
     "nuid": "67bfc009-b701-40c4-8447-d8e61b8fa7e6",
     "showTitle": false,
     "tableResultSettingsMap": {},
     "title": ""
    }
   },
   "outputs": [
    {
     "output_type": "stream",
     "name": "stdout",
     "output_type": "stream",
     "text": [
      "+---------+-------------+\n|CountryID|  CountryName|\n+---------+-------------+\n|        1|       Canada|\n|        2|United States|\n+---------+-------------+\n\n"
     ]
    }
   ],
   "source": [
    "df_onprem_country_rolling = spark.read.parquet(*onprem_CountryRolling_files, header=True) \n",
    "df_onprem_country_rolling.show(3)"
   ]
  },
  {
   "cell_type": "code",
   "execution_count": 0,
   "metadata": {
    "application/vnd.databricks.v1+cell": {
     "cellMetadata": {
      "byteLimit": 2048000,
      "rowLimit": 10000
     },
     "inputWidgets": {},
     "nuid": "bcd95637-f10b-4c6d-b541-265ac38c749e",
     "showTitle": false,
     "tableResultSettingsMap": {},
     "title": ""
    }
   },
   "outputs": [
    {
     "output_type": "stream",
     "name": "stdout",
     "output_type": "stream",
     "text": [
      "+---------+-------------+--------------------+\n|CountryID|  CountryName| ingestion_timestamp|\n+---------+-------------+--------------------+\n|        1|       Canada|2024-11-28 23:25:...|\n|        2|United States|2024-11-28 23:25:...|\n+---------+-------------+--------------------+\n\n"
     ]
    }
   ],
   "source": [
    "df_onprem_country_rolling = df_onprem_country_rolling.withColumn(\"ingestion_timestamp\", current_timestamp()) \\\n",
    "    .dropna(subset = [\"CountryID\"]) \\\n",
    "    .select(\"CountryID\", \"CountryName\", \"ingestion_timestamp\") \\\n",
    "    .orderBy(\"CountryID\")\n",
    "\n",
    "window_spec = Window.partitionBy(\"CountryID\").orderBy(col(\"ingestion_timestamp\").desc())\n",
    "df_onprem_country_rolling = df_onprem_country_rolling.withColumn(\"row_num\", row_number().over(window_spec))\n",
    "df_onprem_country_rolling = df_onprem_country_rolling.filter(col(\"row_num\") == 1).drop(\"row_num\")\n",
    "\n",
    "df_onprem_country_rolling.show(3)"
   ]
  },
  {
   "cell_type": "code",
   "execution_count": 0,
   "metadata": {
    "application/vnd.databricks.v1+cell": {
     "cellMetadata": {
      "byteLimit": 2048000,
      "rowLimit": 10000
     },
     "inputWidgets": {},
     "nuid": "a1a413f5-11d9-423e-a020-be9570a83f53",
     "showTitle": false,
     "tableResultSettingsMap": {},
     "title": ""
    }
   },
   "outputs": [
    {
     "output_type": "stream",
     "name": "stdout",
     "output_type": "stream",
     "text": [
      "Total onprem_country_rolling records: 2\n"
     ]
    }
   ],
   "source": [
    "print(f\"Total onprem_country_rolling records: {df_onprem_country_rolling.count()}\")"
   ]
  },
  {
   "cell_type": "code",
   "execution_count": 0,
   "metadata": {
    "application/vnd.databricks.v1+cell": {
     "cellMetadata": {
      "byteLimit": 2048000,
      "rowLimit": 10000
     },
     "inputWidgets": {},
     "nuid": "6af6dace-13d0-43c0-aeca-1c7ac068f2d3",
     "showTitle": false,
     "tableResultSettingsMap": {},
     "title": ""
    }
   },
   "outputs": [
    {
     "output_type": "execute_result",
     "data": {
      "text/plain": [
       "['CountryID', 'CountryName', 'ingestion_timestamp']"
      ]
     },
     "execution_count": 306,
     "metadata": {},
     "output_type": "execute_result"
    }
   ],
   "source": [
    "df_onprem_country_rolling.columns"
   ]
  },
  {
   "cell_type": "code",
   "execution_count": 0,
   "metadata": {
    "application/vnd.databricks.v1+cell": {
     "cellMetadata": {
      "byteLimit": 2048000,
      "rowLimit": 10000
     },
     "inputWidgets": {},
     "nuid": "49f6e737-d083-4bde-996e-0f3ce3974428",
     "showTitle": false,
     "tableResultSettingsMap": {},
     "title": ""
    }
   },
   "outputs": [
    {
     "output_type": "stream",
     "name": "stdout",
     "output_type": "stream",
     "text": [
      "root\n |-- CountryID: integer (nullable = true)\n |-- CountryName: string (nullable = true)\n |-- ingestion_timestamp: timestamp (nullable = false)\n\n"
     ]
    }
   ],
   "source": [
    "df_onprem_country_rolling = df_onprem_country_rolling \\\n",
    "    .withColumn(\"CountryID\", col(\"CountryID\").cast(IntegerType())) \\\n",
    "    .withColumn(\"CountryName\", col(\"CountryName\").cast(StringType())) \\\n",
    "    .withColumn(\"ingestion_timestamp\", col(\"ingestion_timestamp\").cast(\"timestamp\"))\n",
    "\n",
    "df_onprem_country_rolling.printSchema()"
   ]
  },
  {
   "cell_type": "code",
   "execution_count": 0,
   "metadata": {
    "application/vnd.databricks.v1+cell": {
     "cellMetadata": {
      "byteLimit": 2048000,
      "rowLimit": 10000
     },
     "inputWidgets": {},
     "nuid": "f820ca4c-b284-47bb-8aa4-5d197e72a6ea",
     "showTitle": false,
     "tableResultSettingsMap": {},
     "title": ""
    }
   },
   "outputs": [
    {
     "output_type": "stream",
     "name": "stdout",
     "output_type": "stream",
     "text": [
      "+---------+-------------+--------------------+\n|CountryID|  CountryName| ingestion_timestamp|\n+---------+-------------+--------------------+\n|        1|       Canada|2024-11-28 23:27:...|\n|        2|United States|2024-11-28 23:27:...|\n+---------+-------------+--------------------+\n\n"
     ]
    }
   ],
   "source": [
    "df_onprem_country_rolling.show(3)"
   ]
  },
  {
   "cell_type": "markdown",
   "metadata": {
    "application/vnd.databricks.v1+cell": {
     "cellMetadata": {},
     "inputWidgets": {},
     "nuid": "83c90bc5-ceda-4003-a57e-46a088e5a330",
     "showTitle": false,
     "tableResultSettingsMap": {},
     "title": ""
    }
   },
   "source": [
    "### onprem_customer Dataset"
   ]
  },
  {
   "cell_type": "code",
   "execution_count": 0,
   "metadata": {
    "application/vnd.databricks.v1+cell": {
     "cellMetadata": {
      "byteLimit": 2048000,
      "rowLimit": 10000
     },
     "inputWidgets": {},
     "nuid": "58364c7e-61ef-4247-b574-0a14e359d5e9",
     "showTitle": false,
     "tableResultSettingsMap": {},
     "title": ""
    }
   },
   "outputs": [
    {
     "output_type": "stream",
     "name": "stdout",
     "output_type": "stream",
     "text": [
      "+----------+---------+--------+--------------------+----------+------------+------------+-----------+-------+----------+---------+\n|CustomerID|FirstName|LastName|               Email|     Phone|AddressLine1|AddressLine2|       City|StateID|PostalCode|CountryID|\n+----------+---------+--------+--------------------+----------+------------+------------+-----------+-------+----------+---------+\n|         1|     John|     Doe|john.doe@example.com|1234567890| 123 Main St|            |    Toronto|      1|   M5H 2N2|        1|\n|         2|     Jane|   Smith|jane.smith@exampl...|9876543210|  456 Elm St|            |Los Angeles|      4|     90001|        2|\n+----------+---------+--------+--------------------+----------+------------+------------+-----------+-------+----------+---------+\n\n"
     ]
    }
   ],
   "source": [
    "df_onprem_customer = spark.read.parquet(*onprem_Customer_files, header=True) \n",
    "df_onprem_customer.show(3)"
   ]
  },
  {
   "cell_type": "code",
   "execution_count": 0,
   "metadata": {
    "application/vnd.databricks.v1+cell": {
     "cellMetadata": {
      "byteLimit": 2048000,
      "rowLimit": 10000
     },
     "inputWidgets": {},
     "nuid": "831089b9-0b5a-4b6b-bf9d-3ffaa12ecdd9",
     "showTitle": false,
     "tableResultSettingsMap": {},
     "title": ""
    }
   },
   "outputs": [
    {
     "output_type": "stream",
     "name": "stdout",
     "output_type": "stream",
     "text": [
      "+----------+---------+--------+--------------------+----------+------------+------------+-----------+-------+----------+---------+--------------------+\n|CustomerID|FirstName|LastName|               Email|     Phone|AddressLine1|AddressLine2|       City|StateID|PostalCode|CountryID| ingestion_timestamp|\n+----------+---------+--------+--------------------+----------+------------+------------+-----------+-------+----------+---------+--------------------+\n|         1|     John|     Doe|john.doe@example.com|1234567890| 123 Main St|            |    Toronto|      1|   M5H 2N2|        1|2024-11-28 23:32:...|\n|         2|     Jane|   Smith|jane.smith@exampl...|9876543210|  456 Elm St|            |Los Angeles|      4|     90001|        2|2024-11-28 23:32:...|\n+----------+---------+--------+--------------------+----------+------------+------------+-----------+-------+----------+---------+--------------------+\n\n"
     ]
    }
   ],
   "source": [
    "df_onprem_customer = df_onprem_customer.withColumn(\"ingestion_timestamp\", current_timestamp()) \\\n",
    "    .dropna(subset = [\"CustomerID\"]) \\\n",
    "    .select(\"CustomerID\", \"FirstName\", \"LastName\", \"Email\", \"Phone\", \"AddressLine1\", \"AddressLine2\", \"City\", \"StateID\", \"PostalCode\", \"CountryID\", \"ingestion_timestamp\") \\\n",
    "    .orderBy(\"CustomerID\")\n",
    "\n",
    "window_spec = Window.partitionBy(\"CustomerID\").orderBy(col(\"ingestion_timestamp\").desc())\n",
    "df_onprem_customer = df_onprem_customer.withColumn(\"row_num\", row_number().over(window_spec))\n",
    "df_onprem_customer = df_onprem_customer.filter(col(\"row_num\") == 1).drop(\"row_num\")\n",
    "\n",
    "df_onprem_customer.show(3)"
   ]
  },
  {
   "cell_type": "code",
   "execution_count": 0,
   "metadata": {
    "application/vnd.databricks.v1+cell": {
     "cellMetadata": {
      "byteLimit": 2048000,
      "rowLimit": 10000
     },
     "inputWidgets": {},
     "nuid": "c252ebcc-c118-4ba1-b1d2-94d0c99b4984",
     "showTitle": false,
     "tableResultSettingsMap": {},
     "title": ""
    }
   },
   "outputs": [
    {
     "output_type": "stream",
     "name": "stdout",
     "output_type": "stream",
     "text": [
      "Total onprem_customer records: 2\n"
     ]
    }
   ],
   "source": [
    "print(f\"Total onprem_customer records: {df_onprem_customer.count()}\")"
   ]
  },
  {
   "cell_type": "code",
   "execution_count": 0,
   "metadata": {
    "application/vnd.databricks.v1+cell": {
     "cellMetadata": {
      "byteLimit": 2048000,
      "rowLimit": 10000
     },
     "inputWidgets": {},
     "nuid": "6ae229c7-af45-4163-a611-608eaec34f85",
     "showTitle": false,
     "tableResultSettingsMap": {},
     "title": ""
    }
   },
   "outputs": [
    {
     "output_type": "execute_result",
     "data": {
      "text/plain": [
       "['CustomerID',\n",
       " 'FirstName',\n",
       " 'LastName',\n",
       " 'Email',\n",
       " 'Phone',\n",
       " 'AddressLine1',\n",
       " 'AddressLine2',\n",
       " 'City',\n",
       " 'StateID',\n",
       " 'PostalCode',\n",
       " 'CountryID',\n",
       " 'ingestion_timestamp']"
      ]
     },
     "execution_count": 312,
     "metadata": {},
     "output_type": "execute_result"
    }
   ],
   "source": [
    "df_onprem_customer.columns"
   ]
  },
  {
   "cell_type": "code",
   "execution_count": 0,
   "metadata": {
    "application/vnd.databricks.v1+cell": {
     "cellMetadata": {
      "byteLimit": 2048000,
      "rowLimit": 10000
     },
     "inputWidgets": {},
     "nuid": "d0d392a2-91b7-4f36-8545-120e2b0ff9bb",
     "showTitle": false,
     "tableResultSettingsMap": {},
     "title": ""
    }
   },
   "outputs": [
    {
     "output_type": "stream",
     "name": "stdout",
     "output_type": "stream",
     "text": [
      "root\n |-- CustomerID: integer (nullable = true)\n |-- FirstName: string (nullable = true)\n |-- LastName: string (nullable = true)\n |-- Email: string (nullable = true)\n |-- Phone: string (nullable = true)\n |-- AddressLine1: string (nullable = true)\n |-- AddressLine2: string (nullable = true)\n |-- City: string (nullable = true)\n |-- StateID: integer (nullable = true)\n |-- PostalCode: string (nullable = true)\n |-- CountryID: integer (nullable = true)\n |-- ingestion_timestamp: timestamp (nullable = false)\n\n"
     ]
    }
   ],
   "source": [
    "df_onprem_customer = df_onprem_customer \\\n",
    "    .withColumn(\"CustomerID\", col(\"CustomerID\").cast(IntegerType())) \\\n",
    "    .withColumn(\"FirstName\", col(\"FirstName\").cast(StringType())) \\\n",
    "    .withColumn(\"LastName\", col(\"LastName\").cast(StringType())) \\\n",
    "    .withColumn(\"Email\", col(\"Email\").cast(StringType())) \\\n",
    "    .withColumn(\"Phone\", col(\"Phone\").cast(StringType())) \\\n",
    "    .withColumn(\"AddressLine1\", col(\"AddressLine1\").cast(StringType())) \\\n",
    "    .withColumn(\"AddressLine2\", col(\"AddressLine2\").cast(StringType())) \\\n",
    "    .withColumn(\"City\", col(\"City\").cast(StringType())) \\\n",
    "    .withColumn(\"StateID\", col(\"StateID\").cast(IntegerType())) \\\n",
    "    .withColumn(\"PostalCode\", col(\"PostalCode\").cast(StringType())) \\\n",
    "    .withColumn(\"CountryID\", col(\"CountryID\").cast(IntegerType())) \\\n",
    "    .withColumn(\"ingestion_timestamp\", col(\"ingestion_timestamp\").cast(\"timestamp\"))\n",
    "\n",
    "df_onprem_customer.printSchema()"
   ]
  },
  {
   "cell_type": "code",
   "execution_count": 0,
   "metadata": {
    "application/vnd.databricks.v1+cell": {
     "cellMetadata": {
      "byteLimit": 2048000,
      "rowLimit": 10000
     },
     "inputWidgets": {},
     "nuid": "23ee554c-1952-4c76-9e88-d1b4341522cc",
     "showTitle": false,
     "tableResultSettingsMap": {},
     "title": ""
    }
   },
   "outputs": [
    {
     "output_type": "stream",
     "name": "stdout",
     "output_type": "stream",
     "text": [
      "+----------+---------+--------+--------------------+----------+------------+------------+-----------+-------+----------+---------+--------------------+\n|CustomerID|FirstName|LastName|               Email|     Phone|AddressLine1|AddressLine2|       City|StateID|PostalCode|CountryID| ingestion_timestamp|\n+----------+---------+--------+--------------------+----------+------------+------------+-----------+-------+----------+---------+--------------------+\n|         1|     John|     Doe|john.doe@example.com|1234567890| 123 Main St|            |    Toronto|      1|   M5H 2N2|        1|2024-11-28 23:36:...|\n|         2|     Jane|   Smith|jane.smith@exampl...|9876543210|  456 Elm St|            |Los Angeles|      4|     90001|        2|2024-11-28 23:36:...|\n+----------+---------+--------+--------------------+----------+------------+------------+-----------+-------+----------+---------+--------------------+\n\n"
     ]
    }
   ],
   "source": [
    "df_onprem_customer.show(3)"
   ]
  },
  {
   "cell_type": "markdown",
   "metadata": {
    "application/vnd.databricks.v1+cell": {
     "cellMetadata": {},
     "inputWidgets": {},
     "nuid": "f4fb6761-edcd-4cf2-9356-f6e8b8062f0b",
     "showTitle": false,
     "tableResultSettingsMap": {},
     "title": ""
    }
   },
   "source": [
    "### onprem_customer_productreview Dataset"
   ]
  },
  {
   "cell_type": "code",
   "execution_count": 0,
   "metadata": {
    "application/vnd.databricks.v1+cell": {
     "cellMetadata": {
      "byteLimit": 2048000,
      "rowLimit": 10000
     },
     "inputWidgets": {},
     "nuid": "dbae89f0-c73f-4829-842b-6e69a2fdc242",
     "showTitle": false,
     "tableResultSettingsMap": {},
     "title": ""
    }
   },
   "outputs": [
    {
     "output_type": "stream",
     "name": "stdout",
     "output_type": "stream",
     "text": [
      "+--------+---------+----------+------+--------------------+\n|ReviewID|ProductID|CustomerID|Rating|              Review|\n+--------+---------+----------+------+--------------------+\n|       1|        1|         1|     5|The smartphone is...|\n|       2|        2|         2|     4|Laptop performanc...|\n+--------+---------+----------+------+--------------------+\n\n"
     ]
    }
   ],
   "source": [
    "df_onprem_customer_productreview = spark.read.parquet(*onprem_CustomerProductReview_files, header=True) \n",
    "df_onprem_customer_productreview.show(3)"
   ]
  },
  {
   "cell_type": "code",
   "execution_count": 0,
   "metadata": {
    "application/vnd.databricks.v1+cell": {
     "cellMetadata": {
      "byteLimit": 2048000,
      "rowLimit": 10000
     },
     "inputWidgets": {},
     "nuid": "456e3a59-8974-448d-a298-8788d11d9434",
     "showTitle": false,
     "tableResultSettingsMap": {},
     "title": ""
    }
   },
   "outputs": [
    {
     "output_type": "stream",
     "name": "stdout",
     "output_type": "stream",
     "text": [
      "+--------+---------+----------+------+--------------------+--------------------+\n|ReviewID|ProductID|CustomerID|Rating|              Review| ingestion_timestamp|\n+--------+---------+----------+------+--------------------+--------------------+\n|       1|        1|         1|     5|The smartphone is...|2024-11-28 23:42:...|\n|       2|        2|         2|     4|Laptop performanc...|2024-11-28 23:42:...|\n+--------+---------+----------+------+--------------------+--------------------+\n\n"
     ]
    }
   ],
   "source": [
    "df_onprem_customer_productreview = df_onprem_customer_productreview.withColumn(\"ingestion_timestamp\", current_timestamp()) \\\n",
    "    .dropna(subset = [\"ReviewID\", \"ProductID\", \"CustomerID\"]) \\\n",
    "    .select(\"ReviewID\", \"ProductID\", \"CustomerID\", \"Rating\", \"Review\", \"ingestion_timestamp\") \\\n",
    "    .orderBy(\"ReviewID\", \"ProductID\", \"CustomerID\")\n",
    "\n",
    "window_spec = Window.partitionBy(\"ReviewID\", \"ProductID\", \"CustomerID\").orderBy(col(\"ingestion_timestamp\").desc())\n",
    "df_onprem_customer_productreview = df_onprem_customer_productreview.withColumn(\"row_num\", row_number().over(window_spec))\n",
    "df_onprem_customer_productreview = df_onprem_customer_productreview.filter(col(\"row_num\") == 1).drop(\"row_num\")\n",
    "\n",
    "df_onprem_customer_productreview.show(3)"
   ]
  },
  {
   "cell_type": "code",
   "execution_count": 0,
   "metadata": {
    "application/vnd.databricks.v1+cell": {
     "cellMetadata": {
      "byteLimit": 2048000,
      "rowLimit": 10000
     },
     "inputWidgets": {},
     "nuid": "81432bb2-4765-4b9f-8641-b5f1f9545293",
     "showTitle": false,
     "tableResultSettingsMap": {},
     "title": ""
    }
   },
   "outputs": [
    {
     "output_type": "stream",
     "name": "stdout",
     "output_type": "stream",
     "text": [
      "Total onprem_customer_productreview records: 2\n"
     ]
    }
   ],
   "source": [
    "print(f\"Total onprem_customer_productreview records: {df_onprem_customer_productreview.count()}\")"
   ]
  },
  {
   "cell_type": "code",
   "execution_count": 0,
   "metadata": {
    "application/vnd.databricks.v1+cell": {
     "cellMetadata": {
      "byteLimit": 2048000,
      "rowLimit": 10000
     },
     "inputWidgets": {},
     "nuid": "ae3bed11-ee97-4335-8bc6-5ef688aba992",
     "showTitle": false,
     "tableResultSettingsMap": {},
     "title": ""
    }
   },
   "outputs": [
    {
     "output_type": "execute_result",
     "data": {
      "text/plain": [
       "['ReviewID',\n",
       " 'ProductID',\n",
       " 'CustomerID',\n",
       " 'Rating',\n",
       " 'Review',\n",
       " 'ingestion_timestamp']"
      ]
     },
     "execution_count": 318,
     "metadata": {},
     "output_type": "execute_result"
    }
   ],
   "source": [
    "df_onprem_customer_productreview.columns"
   ]
  },
  {
   "cell_type": "code",
   "execution_count": 0,
   "metadata": {
    "application/vnd.databricks.v1+cell": {
     "cellMetadata": {
      "byteLimit": 2048000,
      "rowLimit": 10000
     },
     "inputWidgets": {},
     "nuid": "adf17e62-1612-4a95-b4a3-cbb41109d32d",
     "showTitle": false,
     "tableResultSettingsMap": {},
     "title": ""
    }
   },
   "outputs": [
    {
     "output_type": "stream",
     "name": "stdout",
     "output_type": "stream",
     "text": [
      "root\n |-- ReviewID: integer (nullable = true)\n |-- ProductID: integer (nullable = true)\n |-- CustomerID: integer (nullable = true)\n |-- Rating: integer (nullable = true)\n |-- Review: string (nullable = true)\n |-- ingestion_timestamp: timestamp (nullable = false)\n\n"
     ]
    }
   ],
   "source": [
    "df_onprem_customer_productreview = df_onprem_customer_productreview \\\n",
    "    .withColumn(\"ReviewID\", col(\"ReviewID\").cast(IntegerType())) \\\n",
    "    .withColumn(\"ProductID\", col(\"ProductID\").cast(IntegerType())) \\\n",
    "    .withColumn(\"CustomerID\", col(\"CustomerID\").cast(IntegerType())) \\\n",
    "    .withColumn(\"Rating\", col(\"Rating\").cast(IntegerType())) \\\n",
    "    .withColumn(\"Review\", col(\"Review\").cast(StringType())) \\\n",
    "    .withColumn(\"ingestion_timestamp\", col(\"ingestion_timestamp\").cast(\"timestamp\"))\n",
    "\n",
    "df_onprem_customer_productreview.printSchema()"
   ]
  },
  {
   "cell_type": "code",
   "execution_count": 0,
   "metadata": {
    "application/vnd.databricks.v1+cell": {
     "cellMetadata": {
      "byteLimit": 2048000,
      "rowLimit": 10000
     },
     "inputWidgets": {},
     "nuid": "63a23181-e27d-4eea-88cf-3ad6738cd64b",
     "showTitle": false,
     "tableResultSettingsMap": {},
     "title": ""
    }
   },
   "outputs": [
    {
     "output_type": "stream",
     "name": "stdout",
     "output_type": "stream",
     "text": [
      "+--------+---------+----------+------+--------------------+--------------------+\n|ReviewID|ProductID|CustomerID|Rating|              Review| ingestion_timestamp|\n+--------+---------+----------+------+--------------------+--------------------+\n|       1|        1|         1|     5|The smartphone is...|2024-11-28 23:45:...|\n|       2|        2|         2|     4|Laptop performanc...|2024-11-28 23:45:...|\n+--------+---------+----------+------+--------------------+--------------------+\n\n"
     ]
    }
   ],
   "source": [
    "df_onprem_customer_productreview.show(3)"
   ]
  },
  {
   "cell_type": "markdown",
   "metadata": {
    "application/vnd.databricks.v1+cell": {
     "cellMetadata": {},
     "inputWidgets": {},
     "nuid": "8498a395-fcb1-4b21-b3ad-eb87df437f35",
     "showTitle": false,
     "tableResultSettingsMap": {},
     "title": ""
    }
   },
   "source": [
    "### onprem_customer_sellerreview Dataset"
   ]
  },
  {
   "cell_type": "code",
   "execution_count": 0,
   "metadata": {
    "application/vnd.databricks.v1+cell": {
     "cellMetadata": {
      "byteLimit": 2048000,
      "rowLimit": 10000
     },
     "inputWidgets": {},
     "nuid": "abf3a3cd-b35c-4363-999c-f93f5b32fbd3",
     "showTitle": false,
     "tableResultSettingsMap": {},
     "title": ""
    }
   },
   "outputs": [
    {
     "output_type": "stream",
     "name": "stdout",
     "output_type": "stream",
     "text": [
      "+--------+--------+----------+------+--------------------+\n|ReviewID|SellerID|CustomerID|Rating|              Review|\n+--------+--------+----------+------+--------------------+\n|       1|       1|         1|     5|Great service and...|\n|       2|       2|         2|     4|Good quality prod...|\n+--------+--------+----------+------+--------------------+\n\n"
     ]
    }
   ],
   "source": [
    "df_onprem_customer_sellerreview = spark.read.parquet(*onprem_CustomerSellerReview_files, header=True) \n",
    "df_onprem_customer_sellerreview.show(3)"
   ]
  },
  {
   "cell_type": "code",
   "execution_count": 0,
   "metadata": {
    "application/vnd.databricks.v1+cell": {
     "cellMetadata": {
      "byteLimit": 2048000,
      "rowLimit": 10000
     },
     "inputWidgets": {},
     "nuid": "bc5f226b-854c-4ffb-81a8-5a893ae8de22",
     "showTitle": false,
     "tableResultSettingsMap": {},
     "title": ""
    }
   },
   "outputs": [
    {
     "output_type": "stream",
     "name": "stdout",
     "output_type": "stream",
     "text": [
      "+--------+--------+----------+------+--------------------+--------------------+\n|ReviewID|SellerID|CustomerID|Rating|              Review| ingestion_timestamp|\n+--------+--------+----------+------+--------------------+--------------------+\n|       1|       1|         1|     5|Great service and...|2024-11-28 23:49:...|\n|       2|       2|         2|     4|Good quality prod...|2024-11-28 23:49:...|\n+--------+--------+----------+------+--------------------+--------------------+\n\n"
     ]
    }
   ],
   "source": [
    "df_onprem_customer_sellerreview = df_onprem_customer_sellerreview.withColumn(\"ingestion_timestamp\", current_timestamp()) \\\n",
    "    .dropna(subset = [\"ReviewID\", \"SellerID\", \"CustomerID\"]) \\\n",
    "    .select(\"ReviewID\", \"SellerID\", \"CustomerID\", \"Rating\", \"Review\", \"ingestion_timestamp\") \\\n",
    "    .orderBy(\"ReviewID\", \"SellerID\", \"CustomerID\")\n",
    "\n",
    "window_spec = Window.partitionBy(\"ReviewID\", \"SellerID\", \"CustomerID\").orderBy(col(\"ingestion_timestamp\").desc())\n",
    "df_onprem_customer_sellerreview = df_onprem_customer_sellerreview.withColumn(\"row_num\", row_number().over(window_spec))\n",
    "df_onprem_customer_sellerreview = df_onprem_customer_sellerreview.filter(col(\"row_num\") == 1).drop(\"row_num\")\n",
    "\n",
    "df_onprem_customer_sellerreview.show(3)"
   ]
  },
  {
   "cell_type": "code",
   "execution_count": 0,
   "metadata": {
    "application/vnd.databricks.v1+cell": {
     "cellMetadata": {
      "byteLimit": 2048000,
      "rowLimit": 10000
     },
     "inputWidgets": {},
     "nuid": "3b138bf4-2bb4-4c82-a62b-e4e93197f8c0",
     "showTitle": false,
     "tableResultSettingsMap": {},
     "title": ""
    }
   },
   "outputs": [
    {
     "output_type": "stream",
     "name": "stdout",
     "output_type": "stream",
     "text": [
      "Total onprem_customer_sellerreview records: 2\n"
     ]
    }
   ],
   "source": [
    "print(f\"Total onprem_customer_sellerreview records: {df_onprem_customer_sellerreview.count()}\")"
   ]
  },
  {
   "cell_type": "code",
   "execution_count": 0,
   "metadata": {
    "application/vnd.databricks.v1+cell": {
     "cellMetadata": {
      "byteLimit": 2048000,
      "rowLimit": 10000
     },
     "inputWidgets": {},
     "nuid": "abe2decb-c847-4bba-8344-6c8403acc2c9",
     "showTitle": false,
     "tableResultSettingsMap": {},
     "title": ""
    }
   },
   "outputs": [
    {
     "output_type": "execute_result",
     "data": {
      "text/plain": [
       "['ReviewID',\n",
       " 'SellerID',\n",
       " 'CustomerID',\n",
       " 'Rating',\n",
       " 'Review',\n",
       " 'ingestion_timestamp']"
      ]
     },
     "execution_count": 324,
     "metadata": {},
     "output_type": "execute_result"
    }
   ],
   "source": [
    "df_onprem_customer_sellerreview.columns"
   ]
  },
  {
   "cell_type": "code",
   "execution_count": 0,
   "metadata": {
    "application/vnd.databricks.v1+cell": {
     "cellMetadata": {
      "byteLimit": 2048000,
      "rowLimit": 10000
     },
     "inputWidgets": {},
     "nuid": "82b1b2f9-6c1a-4b2c-99ee-351c0b1713b0",
     "showTitle": false,
     "tableResultSettingsMap": {},
     "title": ""
    }
   },
   "outputs": [
    {
     "output_type": "stream",
     "name": "stdout",
     "output_type": "stream",
     "text": [
      "root\n |-- ReviewID: integer (nullable = true)\n |-- SellerID: integer (nullable = true)\n |-- CustomerID: integer (nullable = true)\n |-- Rating: integer (nullable = true)\n |-- Review: string (nullable = true)\n |-- ingestion_timestamp: timestamp (nullable = false)\n\n"
     ]
    }
   ],
   "source": [
    "df_onprem_customer_sellerreview = df_onprem_customer_sellerreview \\\n",
    "    .withColumn(\"ReviewID\", col(\"ReviewID\").cast(IntegerType())) \\\n",
    "    .withColumn(\"SellerID\", col(\"SellerID\").cast(IntegerType())) \\\n",
    "    .withColumn(\"CustomerID\", col(\"CustomerID\").cast(IntegerType())) \\\n",
    "    .withColumn(\"Rating\", col(\"Rating\").cast(IntegerType())) \\\n",
    "    .withColumn(\"Review\", col(\"Review\").cast(StringType())) \\\n",
    "    .withColumn(\"ingestion_timestamp\", col(\"ingestion_timestamp\").cast(\"timestamp\"))\n",
    "\n",
    "df_onprem_customer_sellerreview.printSchema()"
   ]
  },
  {
   "cell_type": "code",
   "execution_count": 0,
   "metadata": {
    "application/vnd.databricks.v1+cell": {
     "cellMetadata": {
      "byteLimit": 2048000,
      "rowLimit": 10000
     },
     "inputWidgets": {},
     "nuid": "0eb31e66-c067-4111-b02f-4069ac814195",
     "showTitle": false,
     "tableResultSettingsMap": {},
     "title": ""
    }
   },
   "outputs": [
    {
     "output_type": "stream",
     "name": "stdout",
     "output_type": "stream",
     "text": [
      "+--------+--------+----------+------+--------------------+--------------------+\n|ReviewID|SellerID|CustomerID|Rating|              Review| ingestion_timestamp|\n+--------+--------+----------+------+--------------------+--------------------+\n|       1|       1|         1|     5|Great service and...|2024-11-28 23:52:...|\n|       2|       2|         2|     4|Good quality prod...|2024-11-28 23:52:...|\n+--------+--------+----------+------+--------------------+--------------------+\n\n"
     ]
    }
   ],
   "source": [
    "df_onprem_customer_sellerreview.show(3)"
   ]
  },
  {
   "cell_type": "markdown",
   "metadata": {
    "application/vnd.databricks.v1+cell": {
     "cellMetadata": {},
     "inputWidgets": {},
     "nuid": "45e7050f-c6aa-42be-bf8f-9d3f7a7ec3bb",
     "showTitle": false,
     "tableResultSettingsMap": {},
     "title": ""
    }
   },
   "source": [
    "### onprem_order Dataset"
   ]
  },
  {
   "cell_type": "code",
   "execution_count": 0,
   "metadata": {
    "application/vnd.databricks.v1+cell": {
     "cellMetadata": {
      "byteLimit": 2048000,
      "rowLimit": 10000
     },
     "inputWidgets": {},
     "nuid": "905634a3-7a27-486a-b143-479af0e21044",
     "showTitle": false,
     "tableResultSettingsMap": {},
     "title": ""
    }
   },
   "outputs": [
    {
     "output_type": "stream",
     "name": "stdout",
     "output_type": "stream",
     "text": [
      "+-------+------------------+----------+--------+\n|OrderID|PromotionProductID|CustomerID|Quantity|\n+-------+------------------+----------+--------+\n|      1|                 1|         1|       2|\n|      2|                 2|         2|       3|\n+-------+------------------+----------+--------+\n\n"
     ]
    }
   ],
   "source": [
    "df_onprem_order = spark.read.parquet(*onprem_Order_files, header=True) \n",
    "df_onprem_order.show(3)"
   ]
  },
  {
   "cell_type": "code",
   "execution_count": 0,
   "metadata": {
    "application/vnd.databricks.v1+cell": {
     "cellMetadata": {
      "byteLimit": 2048000,
      "rowLimit": 10000
     },
     "inputWidgets": {},
     "nuid": "4924f8b1-3c83-4af1-8001-51af5e1aa6e5",
     "showTitle": false,
     "tableResultSettingsMap": {},
     "title": ""
    }
   },
   "outputs": [
    {
     "output_type": "stream",
     "name": "stdout",
     "output_type": "stream",
     "text": [
      "+-------+------------------+----------+--------+--------------------+\n|OrderID|PromotionProductID|CustomerID|Quantity| ingestion_timestamp|\n+-------+------------------+----------+--------+--------------------+\n|      1|                 1|         1|       2|2024-11-28 23:57:...|\n|      2|                 2|         2|       3|2024-11-28 23:57:...|\n+-------+------------------+----------+--------+--------------------+\n\n"
     ]
    }
   ],
   "source": [
    "df_onprem_order = df_onprem_order.withColumn(\"ingestion_timestamp\", current_timestamp()) \\\n",
    "    .dropna(subset = [\"OrderID\", \"CustomerID\"]) \\\n",
    "    .select(\"OrderID\", \"PromotionProductID\", \"CustomerID\", \"Quantity\", \"ingestion_timestamp\") \\\n",
    "    .orderBy(\"OrderID\")\n",
    "\n",
    "window_spec = Window.partitionBy(\"OrderID\").orderBy(col(\"ingestion_timestamp\").desc())\n",
    "df_onprem_order = df_onprem_order.withColumn(\"row_num\", row_number().over(window_spec))\n",
    "df_onprem_order = df_onprem_order.filter(col(\"row_num\") == 1).drop(\"row_num\")\n",
    "\n",
    "df_onprem_order.show(3)"
   ]
  },
  {
   "cell_type": "code",
   "execution_count": 0,
   "metadata": {
    "application/vnd.databricks.v1+cell": {
     "cellMetadata": {
      "byteLimit": 2048000,
      "rowLimit": 10000
     },
     "inputWidgets": {},
     "nuid": "f73159be-f8bf-4501-9327-fad713537343",
     "showTitle": false,
     "tableResultSettingsMap": {},
     "title": ""
    }
   },
   "outputs": [
    {
     "output_type": "stream",
     "name": "stdout",
     "output_type": "stream",
     "text": [
      "Total onprem_order records: 2\n"
     ]
    }
   ],
   "source": [
    "print(f\"Total onprem_order records: {df_onprem_order.count()}\")"
   ]
  },
  {
   "cell_type": "code",
   "execution_count": 0,
   "metadata": {
    "application/vnd.databricks.v1+cell": {
     "cellMetadata": {
      "byteLimit": 2048000,
      "rowLimit": 10000
     },
     "inputWidgets": {},
     "nuid": "fa04529e-ee1d-450a-b553-74dc65e661dc",
     "showTitle": false,
     "tableResultSettingsMap": {},
     "title": ""
    }
   },
   "outputs": [
    {
     "output_type": "execute_result",
     "data": {
      "text/plain": [
       "['OrderID',\n",
       " 'PromotionProductID',\n",
       " 'CustomerID',\n",
       " 'Quantity',\n",
       " 'ingestion_timestamp']"
      ]
     },
     "execution_count": 331,
     "metadata": {},
     "output_type": "execute_result"
    }
   ],
   "source": [
    "df_onprem_order.columns"
   ]
  },
  {
   "cell_type": "code",
   "execution_count": 0,
   "metadata": {
    "application/vnd.databricks.v1+cell": {
     "cellMetadata": {
      "byteLimit": 2048000,
      "rowLimit": 10000
     },
     "inputWidgets": {},
     "nuid": "981daf7c-699c-4870-a2f0-68adac813cff",
     "showTitle": false,
     "tableResultSettingsMap": {},
     "title": ""
    }
   },
   "outputs": [
    {
     "output_type": "stream",
     "name": "stdout",
     "output_type": "stream",
     "text": [
      "root\n |-- OrderID: integer (nullable = true)\n |-- PromotionProductID: integer (nullable = true)\n |-- CustomerID: integer (nullable = true)\n |-- Quantity: integer (nullable = true)\n |-- ingestion_timestamp: timestamp (nullable = false)\n\n"
     ]
    }
   ],
   "source": [
    "df_onprem_order = df_onprem_order \\\n",
    "    .withColumn(\"OrderID\", col(\"OrderID\").cast(IntegerType())) \\\n",
    "    .withColumn(\"PromotionProductID\", col(\"PromotionProductID\").cast(IntegerType())) \\\n",
    "    .withColumn(\"CustomerID\", col(\"CustomerID\").cast(IntegerType())) \\\n",
    "    .withColumn(\"Quantity\", col(\"Quantity\").cast(IntegerType())) \\\n",
    "    .withColumn(\"ingestion_timestamp\", col(\"ingestion_timestamp\").cast(\"timestamp\"))\n",
    "\n",
    "df_onprem_order.printSchema()"
   ]
  },
  {
   "cell_type": "code",
   "execution_count": 0,
   "metadata": {
    "application/vnd.databricks.v1+cell": {
     "cellMetadata": {
      "byteLimit": 2048000,
      "rowLimit": 10000
     },
     "inputWidgets": {},
     "nuid": "b2f0bcf3-e33b-4661-8eb6-0593712642c5",
     "showTitle": false,
     "tableResultSettingsMap": {},
     "title": ""
    }
   },
   "outputs": [
    {
     "output_type": "stream",
     "name": "stdout",
     "output_type": "stream",
     "text": [
      "+-------+------------------+----------+--------+--------------------+\n|OrderID|PromotionProductID|CustomerID|Quantity| ingestion_timestamp|\n+-------+------------------+----------+--------+--------------------+\n|      1|                 1|         1|       2|2024-11-28 23:59:...|\n|      2|                 2|         2|       3|2024-11-28 23:59:...|\n+-------+------------------+----------+--------+--------------------+\n\n"
     ]
    }
   ],
   "source": [
    "df_onprem_order.show(3)"
   ]
  },
  {
   "cell_type": "markdown",
   "metadata": {
    "application/vnd.databricks.v1+cell": {
     "cellMetadata": {},
     "inputWidgets": {},
     "nuid": "02417377-f13f-40ab-99a3-6a97ad17a05a",
     "showTitle": false,
     "tableResultSettingsMap": {},
     "title": ""
    }
   },
   "source": [
    "### onprem_product Dataset"
   ]
  },
  {
   "cell_type": "code",
   "execution_count": 0,
   "metadata": {
    "application/vnd.databricks.v1+cell": {
     "cellMetadata": {
      "byteLimit": 2048000,
      "rowLimit": 10000
     },
     "inputWidgets": {},
     "nuid": "8be74ab5-ecd1-4083-b9ce-0081f22ffbd8",
     "showTitle": false,
     "tableResultSettingsMap": {},
     "title": ""
    }
   },
   "outputs": [
    {
     "output_type": "stream",
     "name": "stdout",
     "output_type": "stream",
     "text": [
      "+---------+----------+-----------+-----------+--------------------+\n|ProductID|CategoryID|ProductName|      Brand|      Specifications|\n+---------+----------+-----------+-----------+--------------------+\n|        1|         2| Smartphone|  TechBrand|{\"screen_size\": \"...|\n|        2|         2|     Laptop|  CompBrand|{\"processor\": \"In...|\n|        3|         3|    T-Shirt|FashionWear|{\"sizes\": [\"S\", \"...|\n+---------+----------+-----------+-----------+--------------------+\nonly showing top 3 rows\n\n"
     ]
    }
   ],
   "source": [
    "df_onprem_product = spark.read.parquet(*onprem_Product_files, header=True) \n",
    "df_onprem_product.show(3)"
   ]
  },
  {
   "cell_type": "code",
   "execution_count": 0,
   "metadata": {
    "application/vnd.databricks.v1+cell": {
     "cellMetadata": {
      "byteLimit": 2048000,
      "rowLimit": 10000
     },
     "inputWidgets": {},
     "nuid": "cdc3526c-5805-4b30-98fe-406c769615b6",
     "showTitle": false,
     "tableResultSettingsMap": {},
     "title": ""
    }
   },
   "outputs": [
    {
     "output_type": "stream",
     "name": "stdout",
     "output_type": "stream",
     "text": [
      "+---------+----------+-----------+-----------+--------------------+--------------------+\n|ProductID|CategoryID|ProductName|      Brand|      Specifications| ingestion_timestamp|\n+---------+----------+-----------+-----------+--------------------+--------------------+\n|        1|         2| Smartphone|  TechBrand|{\"screen_size\": \"...|2024-11-29 00:02:...|\n|        2|         2|     Laptop|  CompBrand|{\"processor\": \"In...|2024-11-29 00:02:...|\n|        3|         3|    T-Shirt|FashionWear|{\"sizes\": [\"S\", \"...|2024-11-29 00:02:...|\n+---------+----------+-----------+-----------+--------------------+--------------------+\nonly showing top 3 rows\n\n"
     ]
    }
   ],
   "source": [
    "df_onprem_product = df_onprem_product.withColumn(\"ingestion_timestamp\", current_timestamp()) \\\n",
    "    .dropna(subset = [\"ProductID\"]) \\\n",
    "    .select(\"ProductID\", \"CategoryID\", \"ProductName\", \"Brand\", \"Specifications\", \"ingestion_timestamp\") \\\n",
    "    .orderBy(\"ProductID\")\n",
    "\n",
    "window_spec = Window.partitionBy(\"ProductID\").orderBy(col(\"ingestion_timestamp\").desc())\n",
    "df_onprem_product = df_onprem_product.withColumn(\"row_num\", row_number().over(window_spec))\n",
    "df_onprem_product = df_onprem_product.filter(col(\"row_num\") == 1).drop(\"row_num\")\n",
    "\n",
    "df_onprem_product.show(3)"
   ]
  },
  {
   "cell_type": "code",
   "execution_count": 0,
   "metadata": {
    "application/vnd.databricks.v1+cell": {
     "cellMetadata": {
      "byteLimit": 2048000,
      "rowLimit": 10000
     },
     "inputWidgets": {},
     "nuid": "5b302de9-bde9-4a6c-b574-8cb8bcc55111",
     "showTitle": false,
     "tableResultSettingsMap": {},
     "title": ""
    }
   },
   "outputs": [
    {
     "output_type": "stream",
     "name": "stdout",
     "output_type": "stream",
     "text": [
      "Total onprem_product records: 6\n"
     ]
    }
   ],
   "source": [
    "print(f\"Total onprem_product records: {df_onprem_product.count()}\")"
   ]
  },
  {
   "cell_type": "code",
   "execution_count": 0,
   "metadata": {
    "application/vnd.databricks.v1+cell": {
     "cellMetadata": {
      "byteLimit": 2048000,
      "rowLimit": 10000
     },
     "inputWidgets": {},
     "nuid": "d2b0bb4b-7f78-4fcb-a6b5-a4ffa05490c5",
     "showTitle": false,
     "tableResultSettingsMap": {},
     "title": ""
    }
   },
   "outputs": [
    {
     "output_type": "execute_result",
     "data": {
      "text/plain": [
       "['ProductID',\n",
       " 'CategoryID',\n",
       " 'ProductName',\n",
       " 'Brand',\n",
       " 'Specifications',\n",
       " 'ingestion_timestamp']"
      ]
     },
     "execution_count": 337,
     "metadata": {},
     "output_type": "execute_result"
    }
   ],
   "source": [
    "df_onprem_product.columns"
   ]
  },
  {
   "cell_type": "code",
   "execution_count": 0,
   "metadata": {
    "application/vnd.databricks.v1+cell": {
     "cellMetadata": {
      "byteLimit": 2048000,
      "rowLimit": 10000
     },
     "inputWidgets": {},
     "nuid": "e81591ec-545d-4530-8fed-de258d797b6b",
     "showTitle": false,
     "tableResultSettingsMap": {},
     "title": ""
    }
   },
   "outputs": [
    {
     "output_type": "stream",
     "name": "stdout",
     "output_type": "stream",
     "text": [
      "root\n |-- ProductID: integer (nullable = true)\n |-- CategoryID: integer (nullable = true)\n |-- ProductName: string (nullable = true)\n |-- Brand: string (nullable = true)\n |-- Specifications: string (nullable = true)\n |-- ingestion_timestamp: timestamp (nullable = false)\n\n"
     ]
    }
   ],
   "source": [
    "df_onprem_product = df_onprem_product \\\n",
    "    .withColumn(\"ProductID\", col(\"ProductID\").cast(IntegerType())) \\\n",
    "    .withColumn(\"CategoryID\", col(\"CategoryID\").cast(IntegerType())) \\\n",
    "    .withColumn(\"ProductName\", col(\"ProductName\").cast(StringType())) \\\n",
    "    .withColumn(\"Brand\", col(\"Brand\").cast(StringType())) \\\n",
    "    .withColumn(\"Specifications\", col(\"Specifications\").cast(StringType())) \\\n",
    "    .withColumn(\"ingestion_timestamp\", col(\"ingestion_timestamp\").cast(\"timestamp\"))\n",
    "\n",
    "df_onprem_product.printSchema()"
   ]
  },
  {
   "cell_type": "code",
   "execution_count": 0,
   "metadata": {
    "application/vnd.databricks.v1+cell": {
     "cellMetadata": {
      "byteLimit": 2048000,
      "rowLimit": 10000
     },
     "inputWidgets": {},
     "nuid": "e640c0e7-69d9-4fd9-9c15-1a5fc0a88e1e",
     "showTitle": false,
     "tableResultSettingsMap": {},
     "title": ""
    }
   },
   "outputs": [
    {
     "output_type": "stream",
     "name": "stdout",
     "output_type": "stream",
     "text": [
      "+---------+----------+-----------+-----------+--------------------+--------------------+\n|ProductID|CategoryID|ProductName|      Brand|      Specifications| ingestion_timestamp|\n+---------+----------+-----------+-----------+--------------------+--------------------+\n|        1|         2| Smartphone|  TechBrand|{\"screen_size\": \"...|2024-11-29 00:08:...|\n|        2|         2|     Laptop|  CompBrand|{\"processor\": \"In...|2024-11-29 00:08:...|\n|        3|         3|    T-Shirt|FashionWear|{\"sizes\": [\"S\", \"...|2024-11-29 00:08:...|\n+---------+----------+-----------+-----------+--------------------+--------------------+\nonly showing top 3 rows\n\n"
     ]
    }
   ],
   "source": [
    "df_onprem_product.show(3)"
   ]
  },
  {
   "cell_type": "markdown",
   "metadata": {
    "application/vnd.databricks.v1+cell": {
     "cellMetadata": {},
     "inputWidgets": {},
     "nuid": "8708bf72-1f19-4221-a55b-006d2068c274",
     "showTitle": false,
     "tableResultSettingsMap": {},
     "title": ""
    }
   },
   "source": [
    "### onprem_product_categories Dataset"
   ]
  },
  {
   "cell_type": "code",
   "execution_count": 0,
   "metadata": {
    "application/vnd.databricks.v1+cell": {
     "cellMetadata": {
      "byteLimit": 2048000,
      "rowLimit": 10000
     },
     "inputWidgets": {},
     "nuid": "7e220b8e-6ee7-442d-a54a-e8c1c2a41561",
     "showTitle": false,
     "tableResultSettingsMap": {},
     "title": ""
    }
   },
   "outputs": [
    {
     "output_type": "stream",
     "name": "stdout",
     "output_type": "stream",
     "text": [
      "+----------+------------+\n|CategoryID|CategoryName|\n+----------+------------+\n|         1|       Books|\n|         2| Electronics|\n|         3|    Clothing|\n+----------+------------+\nonly showing top 3 rows\n\n"
     ]
    }
   ],
   "source": [
    "df_onprem_product_categories = spark.read.parquet(*onprem_ProductCategories_files, header=True) \n",
    "df_onprem_product_categories.show(3)"
   ]
  },
  {
   "cell_type": "code",
   "execution_count": 0,
   "metadata": {
    "application/vnd.databricks.v1+cell": {
     "cellMetadata": {
      "byteLimit": 2048000,
      "rowLimit": 10000
     },
     "inputWidgets": {},
     "nuid": "fdb59a02-333c-498a-8463-1f1f1a3d3f93",
     "showTitle": false,
     "tableResultSettingsMap": {},
     "title": ""
    }
   },
   "outputs": [
    {
     "output_type": "stream",
     "name": "stdout",
     "output_type": "stream",
     "text": [
      "+----------+------------+--------------------+\n|CategoryID|CategoryName| ingestion_timestamp|\n+----------+------------+--------------------+\n|         1|       Books|2024-11-29 00:09:...|\n|         2| Electronics|2024-11-29 00:09:...|\n|         3|    Clothing|2024-11-29 00:09:...|\n+----------+------------+--------------------+\nonly showing top 3 rows\n\n"
     ]
    }
   ],
   "source": [
    "df_onprem_product_categories = df_onprem_product_categories.withColumn(\"ingestion_timestamp\", current_timestamp()) \\\n",
    "    .dropna(subset = [\"CategoryID\"]) \\\n",
    "    .select(\"CategoryID\", \"CategoryName\", \"ingestion_timestamp\") \\\n",
    "    .orderBy(\"CategoryID\")\n",
    "\n",
    "window_spec = Window.partitionBy(\"CategoryID\").orderBy(col(\"ingestion_timestamp\").desc())\n",
    "df_onprem_product_categories = df_onprem_product_categories.withColumn(\"row_num\", row_number().over(window_spec))\n",
    "df_onprem_product_categories = df_onprem_product_categories.filter(col(\"row_num\") == 1).drop(\"row_num\")\n",
    "\n",
    "df_onprem_product_categories.show(3)"
   ]
  },
  {
   "cell_type": "code",
   "execution_count": 0,
   "metadata": {
    "application/vnd.databricks.v1+cell": {
     "cellMetadata": {
      "byteLimit": 2048000,
      "rowLimit": 10000
     },
     "inputWidgets": {},
     "nuid": "2ae874de-aea9-48f9-87ba-f04c0b9f28b5",
     "showTitle": false,
     "tableResultSettingsMap": {},
     "title": ""
    }
   },
   "outputs": [
    {
     "output_type": "stream",
     "name": "stdout",
     "output_type": "stream",
     "text": [
      "Total onprem_product_categories records: 6\n"
     ]
    }
   ],
   "source": [
    "print(f\"Total onprem_product_categories records: {df_onprem_product_categories.count()}\")"
   ]
  },
  {
   "cell_type": "code",
   "execution_count": 0,
   "metadata": {
    "application/vnd.databricks.v1+cell": {
     "cellMetadata": {
      "byteLimit": 2048000,
      "rowLimit": 10000
     },
     "inputWidgets": {},
     "nuid": "bbae2e66-24f8-4402-9c95-3b60fb50b66b",
     "showTitle": false,
     "tableResultSettingsMap": {},
     "title": ""
    }
   },
   "outputs": [
    {
     "output_type": "execute_result",
     "data": {
      "text/plain": [
       "['CategoryID', 'CategoryName', 'ingestion_timestamp']"
      ]
     },
     "execution_count": 343,
     "metadata": {},
     "output_type": "execute_result"
    }
   ],
   "source": [
    "df_onprem_product_categories.columns"
   ]
  },
  {
   "cell_type": "code",
   "execution_count": 0,
   "metadata": {
    "application/vnd.databricks.v1+cell": {
     "cellMetadata": {
      "byteLimit": 2048000,
      "rowLimit": 10000
     },
     "inputWidgets": {},
     "nuid": "c7733814-0fe9-4ca1-9cb9-9e9d86449abd",
     "showTitle": false,
     "tableResultSettingsMap": {},
     "title": ""
    }
   },
   "outputs": [
    {
     "output_type": "stream",
     "name": "stdout",
     "output_type": "stream",
     "text": [
      "root\n |-- CategoryID: integer (nullable = true)\n |-- CategoryName: string (nullable = true)\n |-- ingestion_timestamp: timestamp (nullable = false)\n\n"
     ]
    }
   ],
   "source": [
    "df_onprem_product_categories = df_onprem_product_categories \\\n",
    "    .withColumn(\"CategoryID\", col(\"CategoryID\").cast(IntegerType())) \\\n",
    "    .withColumn(\"CategoryName\", col(\"CategoryName\").cast(StringType())) \\\n",
    "    .withColumn(\"ingestion_timestamp\", col(\"ingestion_timestamp\").cast(\"timestamp\"))\n",
    "\n",
    "df_onprem_product_categories.printSchema()"
   ]
  },
  {
   "cell_type": "code",
   "execution_count": 0,
   "metadata": {
    "application/vnd.databricks.v1+cell": {
     "cellMetadata": {
      "byteLimit": 2048000,
      "rowLimit": 10000
     },
     "inputWidgets": {},
     "nuid": "99e5f164-b310-47c8-b990-0db0266dfb22",
     "showTitle": false,
     "tableResultSettingsMap": {},
     "title": ""
    }
   },
   "outputs": [
    {
     "output_type": "stream",
     "name": "stdout",
     "output_type": "stream",
     "text": [
      "+----------+------------+--------------------+\n|CategoryID|CategoryName| ingestion_timestamp|\n+----------+------------+--------------------+\n|         1|       Books|2024-11-29 00:11:...|\n|         2| Electronics|2024-11-29 00:11:...|\n|         3|    Clothing|2024-11-29 00:11:...|\n+----------+------------+--------------------+\nonly showing top 3 rows\n\n"
     ]
    }
   ],
   "source": [
    "df_onprem_product_categories.show(3)"
   ]
  },
  {
   "cell_type": "markdown",
   "metadata": {
    "application/vnd.databricks.v1+cell": {
     "cellMetadata": {},
     "inputWidgets": {},
     "nuid": "f09c6d94-5382-4274-a87d-0846c02b7ea3",
     "showTitle": false,
     "tableResultSettingsMap": {},
     "title": ""
    }
   },
   "source": [
    "### onprem_product_quality Datasets"
   ]
  },
  {
   "cell_type": "code",
   "execution_count": 0,
   "metadata": {
    "application/vnd.databricks.v1+cell": {
     "cellMetadata": {
      "byteLimit": 2048000,
      "rowLimit": 10000
     },
     "inputWidgets": {},
     "nuid": "46dbf606-212f-42a3-bbd3-fd9727481aaf",
     "showTitle": false,
     "tableResultSettingsMap": {},
     "title": ""
    }
   },
   "outputs": [
    {
     "output_type": "stream",
     "name": "stdout",
     "output_type": "stream",
     "text": [
      "+----------------+-----------+\n|ProductQualityID|QualityType|\n+----------------+-----------+\n|               1|        New|\n|               2|       Used|\n|               3|   Like New|\n+----------------+-----------+\nonly showing top 3 rows\n\n"
     ]
    }
   ],
   "source": [
    "df_onprem_product_quality = spark.read.parquet(*onprem_ProductQuality_files, header=True) \n",
    "df_onprem_product_quality.show(3)"
   ]
  },
  {
   "cell_type": "code",
   "execution_count": 0,
   "metadata": {
    "application/vnd.databricks.v1+cell": {
     "cellMetadata": {
      "byteLimit": 2048000,
      "rowLimit": 10000
     },
     "inputWidgets": {},
     "nuid": "4f1ab329-4ded-4d61-a810-6e02ae44d91d",
     "showTitle": false,
     "tableResultSettingsMap": {},
     "title": ""
    }
   },
   "outputs": [
    {
     "output_type": "stream",
     "name": "stdout",
     "output_type": "stream",
     "text": [
      "+----------------+-----------+--------------------+\n|ProductQualityID|QualityType| ingestion_timestamp|\n+----------------+-----------+--------------------+\n|               1|        New|2024-11-29 00:15:...|\n|               2|       Used|2024-11-29 00:15:...|\n|               3|   Like New|2024-11-29 00:15:...|\n+----------------+-----------+--------------------+\nonly showing top 3 rows\n\n"
     ]
    }
   ],
   "source": [
    "df_onprem_product_quality = df_onprem_product_quality.withColumn(\"ingestion_timestamp\", current_timestamp()) \\\n",
    "    .dropna(subset = [\"ProductQualityID\"]) \\\n",
    "    .select(\"ProductQualityID\", \"QualityType\", \"ingestion_timestamp\") \\\n",
    "    .orderBy(\"ProductQualityID\")\n",
    "\n",
    "window_spec = Window.partitionBy(\"ProductQualityID\").orderBy(col(\"ingestion_timestamp\").desc())\n",
    "df_onprem_product_quality = df_onprem_product_quality.withColumn(\"row_num\", row_number().over(window_spec))\n",
    "df_onprem_product_quality = df_onprem_product_quality.filter(col(\"row_num\") == 1).drop(\"row_num\")\n",
    "\n",
    "df_onprem_product_quality.show(3)"
   ]
  },
  {
   "cell_type": "code",
   "execution_count": 0,
   "metadata": {
    "application/vnd.databricks.v1+cell": {
     "cellMetadata": {
      "byteLimit": 2048000,
      "rowLimit": 10000
     },
     "inputWidgets": {},
     "nuid": "089045c7-cf66-4678-9c2d-57a000da7408",
     "showTitle": false,
     "tableResultSettingsMap": {},
     "title": ""
    }
   },
   "outputs": [
    {
     "output_type": "stream",
     "name": "stdout",
     "output_type": "stream",
     "text": [
      "Total onprem_product_quality records: 5\n"
     ]
    }
   ],
   "source": [
    "print(f\"Total onprem_product_quality records: {df_onprem_product_quality.count()}\")"
   ]
  },
  {
   "cell_type": "code",
   "execution_count": 0,
   "metadata": {
    "application/vnd.databricks.v1+cell": {
     "cellMetadata": {
      "byteLimit": 2048000,
      "rowLimit": 10000
     },
     "inputWidgets": {},
     "nuid": "6c118f98-dd17-4f17-a36c-36d8aa9bebfc",
     "showTitle": false,
     "tableResultSettingsMap": {},
     "title": ""
    }
   },
   "outputs": [
    {
     "output_type": "execute_result",
     "data": {
      "text/plain": [
       "['ProductQualityID', 'QualityType', 'ingestion_timestamp']"
      ]
     },
     "execution_count": 350,
     "metadata": {},
     "output_type": "execute_result"
    }
   ],
   "source": [
    "df_onprem_product_quality.columns"
   ]
  },
  {
   "cell_type": "code",
   "execution_count": 0,
   "metadata": {
    "application/vnd.databricks.v1+cell": {
     "cellMetadata": {
      "byteLimit": 2048000,
      "rowLimit": 10000
     },
     "inputWidgets": {},
     "nuid": "9d82fa30-c28d-477e-ba58-fad318e113b6",
     "showTitle": false,
     "tableResultSettingsMap": {},
     "title": ""
    }
   },
   "outputs": [
    {
     "output_type": "stream",
     "name": "stdout",
     "output_type": "stream",
     "text": [
      "root\n |-- ProductQualityID: integer (nullable = true)\n |-- QualityType: string (nullable = true)\n |-- ingestion_timestamp: timestamp (nullable = false)\n\n"
     ]
    }
   ],
   "source": [
    "df_onprem_product_quality = df_onprem_product_quality \\\n",
    "    .withColumn(\"ProductQualityID\", col(\"ProductQualityID\").cast(IntegerType())) \\\n",
    "    .withColumn(\"QualityType\", col(\"QualityType\").cast(StringType())) \\\n",
    "    .withColumn(\"ingestion_timestamp\", col(\"ingestion_timestamp\").cast(\"timestamp\"))\n",
    "\n",
    "df_onprem_product_quality.printSchema()"
   ]
  },
  {
   "cell_type": "code",
   "execution_count": 0,
   "metadata": {
    "application/vnd.databricks.v1+cell": {
     "cellMetadata": {
      "byteLimit": 2048000,
      "rowLimit": 10000
     },
     "inputWidgets": {},
     "nuid": "cb5a8bf3-6d26-4462-8b04-37e13096c7f4",
     "showTitle": false,
     "tableResultSettingsMap": {},
     "title": ""
    }
   },
   "outputs": [
    {
     "output_type": "stream",
     "name": "stdout",
     "output_type": "stream",
     "text": [
      "+----------------+-----------+--------------------+\n|ProductQualityID|QualityType| ingestion_timestamp|\n+----------------+-----------+--------------------+\n|               1|        New|2024-11-29 00:17:...|\n|               2|       Used|2024-11-29 00:17:...|\n|               3|   Like New|2024-11-29 00:17:...|\n+----------------+-----------+--------------------+\nonly showing top 3 rows\n\n"
     ]
    }
   ],
   "source": [
    "df_onprem_product_quality.show(3)"
   ]
  },
  {
   "cell_type": "markdown",
   "metadata": {
    "application/vnd.databricks.v1+cell": {
     "cellMetadata": {},
     "inputWidgets": {},
     "nuid": "53831d70-0205-49d7-b7dd-038783cc52b0",
     "showTitle": false,
     "tableResultSettingsMap": {},
     "title": ""
    }
   },
   "source": [
    "### onprem_promotion Dataset"
   ]
  },
  {
   "cell_type": "code",
   "execution_count": 0,
   "metadata": {
    "application/vnd.databricks.v1+cell": {
     "cellMetadata": {
      "byteLimit": 2048000,
      "rowLimit": 10000
     },
     "inputWidgets": {},
     "nuid": "9a279a61-89fe-4ec7-a55d-9820d3ef29db",
     "showTitle": false,
     "tableResultSettingsMap": {},
     "title": ""
    }
   },
   "outputs": [
    {
     "output_type": "stream",
     "name": "stdout",
     "output_type": "stream",
     "text": [
      "+-----------+--------------------+------------------+\n|PromotionID|PromotionDescription|DiscountPercentage|\n+-----------+--------------------+------------------+\n|          1|   Black Friday Sale|             20.00|\n|          2|    Holiday Discount|             15.00|\n+-----------+--------------------+------------------+\n\n"
     ]
    }
   ],
   "source": [
    "df_onprem_promotion = spark.read.parquet(*onprem_Promotion_files, header=True) \n",
    "df_onprem_promotion.show(3)"
   ]
  },
  {
   "cell_type": "code",
   "execution_count": 0,
   "metadata": {
    "application/vnd.databricks.v1+cell": {
     "cellMetadata": {
      "byteLimit": 2048000,
      "rowLimit": 10000
     },
     "inputWidgets": {},
     "nuid": "4dfc2b72-435b-453b-95d4-7f7ba23de481",
     "showTitle": false,
     "tableResultSettingsMap": {},
     "title": ""
    }
   },
   "outputs": [
    {
     "output_type": "stream",
     "name": "stdout",
     "output_type": "stream",
     "text": [
      "+-----------+--------------------+------------------+--------------------+\n|PromotionID|PromotionDescription|DiscountPercentage| ingestion_timestamp|\n+-----------+--------------------+------------------+--------------------+\n|          1|   Black Friday Sale|             20.00|2024-11-29 00:20:...|\n|          2|    Holiday Discount|             15.00|2024-11-29 00:20:...|\n+-----------+--------------------+------------------+--------------------+\n\n"
     ]
    }
   ],
   "source": [
    "df_onprem_promotion = df_onprem_promotion.withColumn(\"ingestion_timestamp\", current_timestamp()) \\\n",
    "    .dropna(subset = [\"PromotionID\"]) \\\n",
    "    .select(\"PromotionID\", \"PromotionDescription\", \"DiscountPercentage\", \"ingestion_timestamp\") \\\n",
    "    .orderBy(\"PromotionID\")\n",
    "\n",
    "window_spec = Window.partitionBy(\"PromotionID\").orderBy(col(\"ingestion_timestamp\").desc())\n",
    "df_onprem_promotion = df_onprem_promotion.withColumn(\"row_num\", row_number().over(window_spec))\n",
    "df_onprem_promotion = df_onprem_promotion.filter(col(\"row_num\") == 1).drop(\"row_num\")\n",
    "\n",
    "df_onprem_promotion.show(3)"
   ]
  },
  {
   "cell_type": "code",
   "execution_count": 0,
   "metadata": {
    "application/vnd.databricks.v1+cell": {
     "cellMetadata": {
      "byteLimit": 2048000,
      "rowLimit": 10000
     },
     "inputWidgets": {},
     "nuid": "ace2f975-4b5c-4320-8b58-32aeb89072c8",
     "showTitle": false,
     "tableResultSettingsMap": {},
     "title": ""
    }
   },
   "outputs": [
    {
     "output_type": "stream",
     "name": "stdout",
     "output_type": "stream",
     "text": [
      "Total onprem_promotion records: 2\n"
     ]
    }
   ],
   "source": [
    "print(f\"Total onprem_promotion records: {df_onprem_promotion.count()}\")"
   ]
  },
  {
   "cell_type": "code",
   "execution_count": 0,
   "metadata": {
    "application/vnd.databricks.v1+cell": {
     "cellMetadata": {
      "byteLimit": 2048000,
      "rowLimit": 10000
     },
     "inputWidgets": {},
     "nuid": "fdf2a8ae-5173-4b6e-a5cd-883a483248ea",
     "showTitle": false,
     "tableResultSettingsMap": {},
     "title": ""
    }
   },
   "outputs": [
    {
     "output_type": "execute_result",
     "data": {
      "text/plain": [
       "['PromotionID',\n",
       " 'PromotionDescription',\n",
       " 'DiscountPercentage',\n",
       " 'ingestion_timestamp']"
      ]
     },
     "execution_count": 356,
     "metadata": {},
     "output_type": "execute_result"
    }
   ],
   "source": [
    "df_onprem_promotion.columns"
   ]
  },
  {
   "cell_type": "code",
   "execution_count": 0,
   "metadata": {
    "application/vnd.databricks.v1+cell": {
     "cellMetadata": {
      "byteLimit": 2048000,
      "rowLimit": 10000
     },
     "inputWidgets": {},
     "nuid": "bae6bd87-20fd-4ef3-bed8-ac94e89d1136",
     "showTitle": false,
     "tableResultSettingsMap": {},
     "title": ""
    }
   },
   "outputs": [
    {
     "output_type": "stream",
     "name": "stdout",
     "output_type": "stream",
     "text": [
      "root\n |-- PromotionID: integer (nullable = true)\n |-- PromotionDescription: string (nullable = true)\n |-- DiscountPercentage: double (nullable = true)\n |-- ingestion_timestamp: timestamp (nullable = false)\n\n"
     ]
    }
   ],
   "source": [
    "df_onprem_promotion = df_onprem_promotion \\\n",
    "    .withColumn(\"PromotionID\", col(\"PromotionID\").cast(IntegerType())) \\\n",
    "    .withColumn(\"PromotionDescription\", col(\"PromotionDescription\").cast(StringType())) \\\n",
    "    .withColumn(\"DiscountPercentage\", col(\"DiscountPercentage\").cast(DoubleType())) \\\n",
    "    .withColumn(\"ingestion_timestamp\", col(\"ingestion_timestamp\").cast(\"timestamp\"))\n",
    "\n",
    "df_onprem_promotion.printSchema()"
   ]
  },
  {
   "cell_type": "code",
   "execution_count": 0,
   "metadata": {
    "application/vnd.databricks.v1+cell": {
     "cellMetadata": {
      "byteLimit": 2048000,
      "rowLimit": 10000
     },
     "inputWidgets": {},
     "nuid": "2772c006-01cd-48ef-b177-bfb9f7eb2bfa",
     "showTitle": false,
     "tableResultSettingsMap": {},
     "title": ""
    }
   },
   "outputs": [
    {
     "output_type": "stream",
     "name": "stdout",
     "output_type": "stream",
     "text": [
      "+-----------+--------------------+------------------+--------------------+\n|PromotionID|PromotionDescription|DiscountPercentage| ingestion_timestamp|\n+-----------+--------------------+------------------+--------------------+\n|          1|   Black Friday Sale|              20.0|2024-11-29 00:22:...|\n|          2|    Holiday Discount|              15.0|2024-11-29 00:22:...|\n+-----------+--------------------+------------------+--------------------+\n\n"
     ]
    }
   ],
   "source": [
    "df_onprem_promotion.show(3)"
   ]
  },
  {
   "cell_type": "markdown",
   "metadata": {
    "application/vnd.databricks.v1+cell": {
     "cellMetadata": {},
     "inputWidgets": {},
     "nuid": "91480834-4825-4568-bd75-f1c8ec7fc36b",
     "showTitle": false,
     "tableResultSettingsMap": {},
     "title": ""
    }
   },
   "source": [
    "### onprem_seller Dataset"
   ]
  },
  {
   "cell_type": "code",
   "execution_count": 0,
   "metadata": {
    "application/vnd.databricks.v1+cell": {
     "cellMetadata": {
      "byteLimit": 2048000,
      "rowLimit": 10000
     },
     "inputWidgets": {},
     "nuid": "322d89f2-99b5-46f2-8516-0578b41589ad",
     "showTitle": false,
     "tableResultSettingsMap": {},
     "title": ""
    }
   },
   "outputs": [
    {
     "output_type": "stream",
     "name": "stdout",
     "output_type": "stream",
     "text": [
      "+--------+------------+--------------------+----------+-----------------+------------+---------+-------+----------+---------+\n|SellerID|  SellerName|               Email|     Phone|     AddressLine1|AddressLine2|     City|StateID|PostalCode|CountryID|\n+--------+------------+--------------------+----------+-----------------+------------+---------+-------+----------+---------+\n|       1|ElectroWorld|contact@electrowo...|1234567890|    789 Tech Park|            | New York|      3|     10001|        2|\n|       2|  FashionHub|support@fashionhu...|0987654321|321 Market Street|            |Vancouver|      2|   V6B 1A1|        1|\n+--------+------------+--------------------+----------+-----------------+------------+---------+-------+----------+---------+\n\n"
     ]
    }
   ],
   "source": [
    "df_onprem_seller = spark.read.parquet(*onprem_Seller_files, header=True) \n",
    "df_onprem_seller.show(3)"
   ]
  },
  {
   "cell_type": "code",
   "execution_count": 0,
   "metadata": {
    "application/vnd.databricks.v1+cell": {
     "cellMetadata": {
      "byteLimit": 2048000,
      "rowLimit": 10000
     },
     "inputWidgets": {},
     "nuid": "417290ec-23e5-436f-8151-f18c37f1873d",
     "showTitle": false,
     "tableResultSettingsMap": {},
     "title": ""
    }
   },
   "outputs": [
    {
     "output_type": "stream",
     "name": "stdout",
     "output_type": "stream",
     "text": [
      "+--------+------------+--------------------+----------+-----------------+------------+---------+-------+----------+---------+--------------------+\n|SellerID|  SellerName|               Email|     Phone|     AddressLine1|AddressLine2|     City|StateID|PostalCode|CountryID| ingestion_timestamp|\n+--------+------------+--------------------+----------+-----------------+------------+---------+-------+----------+---------+--------------------+\n|       1|ElectroWorld|contact@electrowo...|1234567890|    789 Tech Park|            | New York|      3|     10001|        2|2024-11-29 00:24:...|\n|       2|  FashionHub|support@fashionhu...|0987654321|321 Market Street|            |Vancouver|      2|   V6B 1A1|        1|2024-11-29 00:24:...|\n+--------+------------+--------------------+----------+-----------------+------------+---------+-------+----------+---------+--------------------+\n\n"
     ]
    }
   ],
   "source": [
    "df_onprem_seller = df_onprem_seller.withColumn(\"ingestion_timestamp\", current_timestamp()) \\\n",
    "    .dropna(subset = [\"SellerID\"]) \\\n",
    "    .select(\"SellerID\", \"SellerName\", \"Email\", \"Phone\", \"AddressLine1\", \"AddressLine2\", \"City\", \"StateID\", \"PostalCode\", \"CountryID\", \"ingestion_timestamp\") \\\n",
    "    .orderBy(\"SellerID\")\n",
    "\n",
    "window_spec = Window.partitionBy(\"SellerID\").orderBy(col(\"ingestion_timestamp\").desc())\n",
    "df_onprem_seller = df_onprem_seller.withColumn(\"row_num\", row_number().over(window_spec))\n",
    "df_onprem_seller = df_onprem_seller.filter(col(\"row_num\") == 1).drop(\"row_num\")\n",
    "\n",
    "df_onprem_seller.show(3)"
   ]
  },
  {
   "cell_type": "code",
   "execution_count": 0,
   "metadata": {
    "application/vnd.databricks.v1+cell": {
     "cellMetadata": {
      "byteLimit": 2048000,
      "rowLimit": 10000
     },
     "inputWidgets": {},
     "nuid": "d626b04a-7079-472d-94a0-1059b3bd88b3",
     "showTitle": false,
     "tableResultSettingsMap": {},
     "title": ""
    }
   },
   "outputs": [
    {
     "output_type": "stream",
     "name": "stdout",
     "output_type": "stream",
     "text": [
      "Total onprem_seller records: 2\n"
     ]
    }
   ],
   "source": [
    "print(f\"Total onprem_seller records: {df_onprem_seller.count()}\")"
   ]
  },
  {
   "cell_type": "code",
   "execution_count": 0,
   "metadata": {
    "application/vnd.databricks.v1+cell": {
     "cellMetadata": {
      "byteLimit": 2048000,
      "rowLimit": 10000
     },
     "inputWidgets": {},
     "nuid": "e4c57312-e445-42a3-889a-5932de68fc31",
     "showTitle": false,
     "tableResultSettingsMap": {},
     "title": ""
    }
   },
   "outputs": [
    {
     "output_type": "execute_result",
     "data": {
      "text/plain": [
       "['SellerID',\n",
       " 'SellerName',\n",
       " 'Email',\n",
       " 'Phone',\n",
       " 'AddressLine1',\n",
       " 'AddressLine2',\n",
       " 'City',\n",
       " 'StateID',\n",
       " 'PostalCode',\n",
       " 'CountryID',\n",
       " 'ingestion_timestamp']"
      ]
     },
     "execution_count": 362,
     "metadata": {},
     "output_type": "execute_result"
    }
   ],
   "source": [
    "df_onprem_seller.columns"
   ]
  },
  {
   "cell_type": "code",
   "execution_count": 0,
   "metadata": {
    "application/vnd.databricks.v1+cell": {
     "cellMetadata": {
      "byteLimit": 2048000,
      "rowLimit": 10000
     },
     "inputWidgets": {},
     "nuid": "42f17cd2-893e-428b-bf8b-857d2d362eb5",
     "showTitle": false,
     "tableResultSettingsMap": {},
     "title": ""
    }
   },
   "outputs": [
    {
     "output_type": "stream",
     "name": "stdout",
     "output_type": "stream",
     "text": [
      "root\n |-- SellerID: integer (nullable = true)\n |-- SellerName: string (nullable = true)\n |-- Email: string (nullable = true)\n |-- Phone: string (nullable = true)\n |-- AddressLine1: string (nullable = true)\n |-- AddressLine2: string (nullable = true)\n |-- City: string (nullable = true)\n |-- StateID: integer (nullable = true)\n |-- PostalCode: string (nullable = true)\n |-- CountryID: integer (nullable = true)\n |-- ingestion_timestamp: timestamp (nullable = false)\n\n"
     ]
    }
   ],
   "source": [
    "df_onprem_seller = df_onprem_seller \\\n",
    "    .withColumn(\"SellerID\", col(\"SellerID\").cast(IntegerType())) \\\n",
    "    .withColumn(\"SellerName\", col(\"SellerName\").cast(StringType())) \\\n",
    "    .withColumn(\"Email\", col(\"Email\").cast(StringType())) \\\n",
    "    .withColumn(\"Phone\", col(\"Phone\").cast(StringType())) \\\n",
    "    .withColumn(\"AddressLine1\", col(\"AddressLine1\").cast(StringType())) \\\n",
    "    .withColumn(\"AddressLine2\", col(\"AddressLine2\").cast(StringType())) \\\n",
    "    .withColumn(\"City\", col(\"City\").cast(StringType())) \\\n",
    "    .withColumn(\"StateID\", col(\"StateID\").cast(IntegerType())) \\\n",
    "    .withColumn(\"PostalCode\", col(\"PostalCode\").cast(StringType())) \\\n",
    "    .withColumn(\"CountryID\", col(\"CountryID\").cast(IntegerType())) \\\n",
    "    .withColumn(\"ingestion_timestamp\", col(\"ingestion_timestamp\").cast(\"timestamp\"))\n",
    "\n",
    "df_onprem_seller.printSchema()"
   ]
  },
  {
   "cell_type": "code",
   "execution_count": 0,
   "metadata": {
    "application/vnd.databricks.v1+cell": {
     "cellMetadata": {
      "byteLimit": 2048000,
      "rowLimit": 10000
     },
     "inputWidgets": {},
     "nuid": "8130eeef-fbef-4aa1-b1ab-4010cae23695",
     "showTitle": false,
     "tableResultSettingsMap": {},
     "title": ""
    }
   },
   "outputs": [
    {
     "output_type": "stream",
     "name": "stdout",
     "output_type": "stream",
     "text": [
      "+--------+------------+--------------------+----------+-----------------+------------+---------+-------+----------+---------+--------------------+\n|SellerID|  SellerName|               Email|     Phone|     AddressLine1|AddressLine2|     City|StateID|PostalCode|CountryID| ingestion_timestamp|\n+--------+------------+--------------------+----------+-----------------+------------+---------+-------+----------+---------+--------------------+\n|       1|ElectroWorld|contact@electrowo...|1234567890|    789 Tech Park|            | New York|      3|     10001|        2|2024-11-29 00:28:...|\n|       2|  FashionHub|support@fashionhu...|0987654321|321 Market Street|            |Vancouver|      2|   V6B 1A1|        1|2024-11-29 00:28:...|\n+--------+------------+--------------------+----------+-----------------+------------+---------+-------+----------+---------+--------------------+\n\n"
     ]
    }
   ],
   "source": [
    "df_onprem_seller.show(3)"
   ]
  },
  {
   "cell_type": "markdown",
   "metadata": {
    "application/vnd.databricks.v1+cell": {
     "cellMetadata": {},
     "inputWidgets": {},
     "nuid": "29db84c2-d627-4f13-9f65-ba89595b96f1",
     "showTitle": false,
     "tableResultSettingsMap": {},
     "title": ""
    }
   },
   "source": [
    "### onprem_seller_product_promotion Dataset"
   ]
  },
  {
   "cell_type": "code",
   "execution_count": 0,
   "metadata": {
    "application/vnd.databricks.v1+cell": {
     "cellMetadata": {
      "byteLimit": 2048000,
      "rowLimit": 10000
     },
     "inputWidgets": {},
     "nuid": "a031c375-56f7-4e8f-a64a-632e466e4488",
     "showTitle": false,
     "tableResultSettingsMap": {},
     "title": ""
    }
   },
   "outputs": [
    {
     "output_type": "stream",
     "name": "stdout",
     "output_type": "stream",
     "text": [
      "+------------------+---------+--------+----------------+------+-----------+\n|PromotionProductID|ProductID|SellerID|ProductQualityID| Price|PromotionID|\n+------------------+---------+--------+----------------+------+-----------+\n|                 1|        1|       1|               1|699.99|          1|\n|                 2|        3|       2|               1| 19.99|          2|\n+------------------+---------+--------+----------------+------+-----------+\n\n"
     ]
    }
   ],
   "source": [
    "df_onprem_seller_product_promotion = spark.read.parquet(*onprem_SellerProductPromotion_files, header=True) \n",
    "df_onprem_seller_product_promotion.show(3)"
   ]
  },
  {
   "cell_type": "code",
   "execution_count": 0,
   "metadata": {
    "application/vnd.databricks.v1+cell": {
     "cellMetadata": {
      "byteLimit": 2048000,
      "rowLimit": 10000
     },
     "inputWidgets": {},
     "nuid": "1a2779e1-75d7-423a-8642-4f541f63aef9",
     "showTitle": false,
     "tableResultSettingsMap": {},
     "title": ""
    }
   },
   "outputs": [
    {
     "output_type": "stream",
     "name": "stdout",
     "output_type": "stream",
     "text": [
      "+------------------+---------+--------+----------------+------+-----------+--------------------+\n|PromotionProductID|ProductID|SellerID|ProductQualityID| Price|PromotionID| ingestion_timestamp|\n+------------------+---------+--------+----------------+------+-----------+--------------------+\n|                 1|        1|       1|               1|699.99|          1|2024-11-29 00:32:...|\n|                 2|        3|       2|               1| 19.99|          2|2024-11-29 00:32:...|\n+------------------+---------+--------+----------------+------+-----------+--------------------+\n\n"
     ]
    }
   ],
   "source": [
    "df_onprem_seller_product_promotion = df_onprem_seller_product_promotion.withColumn(\"ingestion_timestamp\", current_timestamp()) \\\n",
    "    .dropna(subset = [\"PromotionProductID\"]) \\\n",
    "    .select(\"PromotionProductID\", \"ProductID\", \"SellerID\", \"ProductQualityID\", \"Price\", \"PromotionID\", \"ingestion_timestamp\") \\\n",
    "    .orderBy(\"PromotionProductID\")\n",
    "\n",
    "window_spec = Window.partitionBy(\"PromotionProductID\").orderBy(col(\"ingestion_timestamp\").desc())\n",
    "df_onprem_seller_product_promotion = df_onprem_seller_product_promotion.withColumn(\"row_num\", row_number().over(window_spec))\n",
    "df_onprem_seller_product_promotion = df_onprem_seller_product_promotion.filter(col(\"row_num\") == 1).drop(\"row_num\")\n",
    "\n",
    "df_onprem_seller_product_promotion.show(3)"
   ]
  },
  {
   "cell_type": "code",
   "execution_count": 0,
   "metadata": {
    "application/vnd.databricks.v1+cell": {
     "cellMetadata": {
      "byteLimit": 2048000,
      "rowLimit": 10000
     },
     "inputWidgets": {},
     "nuid": "377272e0-5346-4b7b-a70b-6e847440eb25",
     "showTitle": false,
     "tableResultSettingsMap": {},
     "title": ""
    }
   },
   "outputs": [
    {
     "output_type": "stream",
     "name": "stdout",
     "output_type": "stream",
     "text": [
      "Total onprem_seller_product_promotion records: 2\n"
     ]
    }
   ],
   "source": [
    "print(f\"Total onprem_seller_product_promotion records: {df_onprem_seller_product_promotion.count()}\")"
   ]
  },
  {
   "cell_type": "code",
   "execution_count": 0,
   "metadata": {
    "application/vnd.databricks.v1+cell": {
     "cellMetadata": {
      "byteLimit": 2048000,
      "rowLimit": 10000
     },
     "inputWidgets": {},
     "nuid": "a1bed976-4ce0-4be0-bba7-2b664f45c532",
     "showTitle": false,
     "tableResultSettingsMap": {},
     "title": ""
    }
   },
   "outputs": [
    {
     "output_type": "execute_result",
     "data": {
      "text/plain": [
       "['PromotionProductID',\n",
       " 'ProductID',\n",
       " 'SellerID',\n",
       " 'ProductQualityID',\n",
       " 'Price',\n",
       " 'PromotionID',\n",
       " 'ingestion_timestamp']"
      ]
     },
     "execution_count": 368,
     "metadata": {},
     "output_type": "execute_result"
    }
   ],
   "source": [
    "df_onprem_seller_product_promotion.columns"
   ]
  },
  {
   "cell_type": "code",
   "execution_count": 0,
   "metadata": {
    "application/vnd.databricks.v1+cell": {
     "cellMetadata": {
      "byteLimit": 2048000,
      "rowLimit": 10000
     },
     "inputWidgets": {},
     "nuid": "749f3862-b3c2-4a99-a7df-5cb3b8816c3a",
     "showTitle": false,
     "tableResultSettingsMap": {},
     "title": ""
    }
   },
   "outputs": [
    {
     "output_type": "stream",
     "name": "stdout",
     "output_type": "stream",
     "text": [
      "root\n |-- PromotionProductID: integer (nullable = true)\n |-- ProductID: integer (nullable = true)\n |-- SellerID: integer (nullable = true)\n |-- ProductQualityID: integer (nullable = true)\n |-- Price: double (nullable = true)\n |-- PromotionID: integer (nullable = true)\n |-- ingestion_timestamp: timestamp (nullable = false)\n\n"
     ]
    }
   ],
   "source": [
    "df_onprem_seller_product_promotion = df_onprem_seller_product_promotion \\\n",
    "    .withColumn(\"PromotionProductID\", col(\"PromotionProductID\").cast(IntegerType())) \\\n",
    "    .withColumn(\"ProductID\", col(\"ProductID\").cast(IntegerType())) \\\n",
    "    .withColumn(\"SellerID\", col(\"SellerID\").cast(IntegerType())) \\\n",
    "    .withColumn(\"ProductQualityID\", col(\"ProductQualityID\").cast(IntegerType())) \\\n",
    "    .withColumn(\"Price\", col(\"Price\").cast(DoubleType())) \\\n",
    "    .withColumn(\"PromotionID\", col(\"PromotionID\").cast(IntegerType())) \\\n",
    "    .withColumn(\"ingestion_timestamp\", col(\"ingestion_timestamp\").cast(\"timestamp\"))\n",
    "\n",
    "df_onprem_seller_product_promotion.printSchema()"
   ]
  },
  {
   "cell_type": "code",
   "execution_count": 0,
   "metadata": {
    "application/vnd.databricks.v1+cell": {
     "cellMetadata": {
      "byteLimit": 2048000,
      "rowLimit": 10000
     },
     "inputWidgets": {},
     "nuid": "06c8d474-1bf1-48fd-a03b-438a26f0031c",
     "showTitle": false,
     "tableResultSettingsMap": {},
     "title": ""
    }
   },
   "outputs": [
    {
     "output_type": "stream",
     "name": "stdout",
     "output_type": "stream",
     "text": [
      "+------------------+---------+--------+----------------+------+-----------+--------------------+\n|PromotionProductID|ProductID|SellerID|ProductQualityID| Price|PromotionID| ingestion_timestamp|\n+------------------+---------+--------+----------------+------+-----------+--------------------+\n|                 1|        1|       1|               1|699.99|          1|2024-11-29 00:35:...|\n|                 2|        3|       2|               1| 19.99|          2|2024-11-29 00:35:...|\n+------------------+---------+--------+----------------+------+-----------+--------------------+\n\n"
     ]
    }
   ],
   "source": [
    "df_onprem_seller_product_promotion.show(3)"
   ]
  },
  {
   "cell_type": "markdown",
   "metadata": {
    "application/vnd.databricks.v1+cell": {
     "cellMetadata": {},
     "inputWidgets": {},
     "nuid": "bedc7192-0a33-4df5-ad76-fc65b7528a54",
     "showTitle": false,
     "tableResultSettingsMap": {},
     "title": ""
    }
   },
   "source": [
    "### onprem_state_province_rolling Dataset"
   ]
  },
  {
   "cell_type": "code",
   "execution_count": 0,
   "metadata": {
    "application/vnd.databricks.v1+cell": {
     "cellMetadata": {
      "byteLimit": 2048000,
      "rowLimit": 10000
     },
     "inputWidgets": {},
     "nuid": "8f730e1b-53d4-4bd4-8b2f-4f8e79c8b9fe",
     "showTitle": false,
     "tableResultSettingsMap": {},
     "title": ""
    }
   },
   "outputs": [
    {
     "output_type": "stream",
     "name": "stdout",
     "output_type": "stream",
     "text": [
      "+-------+----------------+---------+\n|StateID|       StateName|CountryID|\n+-------+----------------+---------+\n|      1|         Ontario|        1|\n|      2|British Columbia|        1|\n|      3|        New York|        2|\n+-------+----------------+---------+\nonly showing top 3 rows\n\n"
     ]
    }
   ],
   "source": [
    "df_onprem_state_province_rolling = spark.read.parquet(*onprem_StateProvinceRolling_files, header=True) \n",
    "df_onprem_state_province_rolling.show(3)"
   ]
  },
  {
   "cell_type": "code",
   "execution_count": 0,
   "metadata": {
    "application/vnd.databricks.v1+cell": {
     "cellMetadata": {
      "byteLimit": 2048000,
      "rowLimit": 10000
     },
     "inputWidgets": {},
     "nuid": "9882bbcc-43dc-4d91-a98e-f87abcfd89d6",
     "showTitle": false,
     "tableResultSettingsMap": {},
     "title": ""
    }
   },
   "outputs": [
    {
     "output_type": "stream",
     "name": "stdout",
     "output_type": "stream",
     "text": [
      "+-------+----------------+---------+--------------------+\n|StateID|       StateName|CountryID| ingestion_timestamp|\n+-------+----------------+---------+--------------------+\n|      1|         Ontario|        1|2024-11-29 00:38:...|\n|      2|British Columbia|        1|2024-11-29 00:38:...|\n|      3|        New York|        2|2024-11-29 00:38:...|\n+-------+----------------+---------+--------------------+\nonly showing top 3 rows\n\n"
     ]
    }
   ],
   "source": [
    "df_onprem_state_province_rolling = df_onprem_state_province_rolling.withColumn(\"ingestion_timestamp\", current_timestamp()) \\\n",
    "    .dropna(subset = [\"StateID\"]) \\\n",
    "    .select(\"StateID\", \"StateName\", \"CountryID\", \"ingestion_timestamp\") \\\n",
    "    .orderBy(\"StateID\")\n",
    "\n",
    "window_spec = Window.partitionBy(\"StateID\").orderBy(col(\"ingestion_timestamp\").desc())\n",
    "df_onprem_state_province_rolling = df_onprem_state_province_rolling.withColumn(\"row_num\", row_number().over(window_spec))\n",
    "df_onprem_state_province_rolling = df_onprem_state_province_rolling.filter(col(\"row_num\") == 1).drop(\"row_num\")\n",
    "\n",
    "df_onprem_state_province_rolling.show(3)"
   ]
  },
  {
   "cell_type": "code",
   "execution_count": 0,
   "metadata": {
    "application/vnd.databricks.v1+cell": {
     "cellMetadata": {
      "byteLimit": 2048000,
      "rowLimit": 10000
     },
     "inputWidgets": {},
     "nuid": "5cfca63f-9dda-4f1c-aa2b-de94bcfae71d",
     "showTitle": false,
     "tableResultSettingsMap": {},
     "title": ""
    }
   },
   "outputs": [
    {
     "output_type": "stream",
     "name": "stdout",
     "output_type": "stream",
     "text": [
      "Total onprem_state_province_rolling records: 4\n"
     ]
    }
   ],
   "source": [
    "print(f\"Total onprem_state_province_rolling records: {df_onprem_state_province_rolling.count()}\")"
   ]
  },
  {
   "cell_type": "code",
   "execution_count": 0,
   "metadata": {
    "application/vnd.databricks.v1+cell": {
     "cellMetadata": {
      "byteLimit": 2048000,
      "rowLimit": 10000
     },
     "inputWidgets": {},
     "nuid": "bcc81093-e09a-404d-ad28-ec23b8887edd",
     "showTitle": false,
     "tableResultSettingsMap": {},
     "title": ""
    }
   },
   "outputs": [
    {
     "output_type": "execute_result",
     "data": {
      "text/plain": [
       "['StateID', 'StateName', 'CountryID', 'ingestion_timestamp']"
      ]
     },
     "execution_count": 374,
     "metadata": {},
     "output_type": "execute_result"
    }
   ],
   "source": [
    "df_onprem_state_province_rolling.columns"
   ]
  },
  {
   "cell_type": "code",
   "execution_count": 0,
   "metadata": {
    "application/vnd.databricks.v1+cell": {
     "cellMetadata": {
      "byteLimit": 2048000,
      "rowLimit": 10000
     },
     "inputWidgets": {},
     "nuid": "3ab97f7f-d45f-44fc-86aa-227ec79e1dee",
     "showTitle": false,
     "tableResultSettingsMap": {},
     "title": ""
    }
   },
   "outputs": [
    {
     "output_type": "stream",
     "name": "stdout",
     "output_type": "stream",
     "text": [
      "root\n |-- StateID: integer (nullable = true)\n |-- StateName: string (nullable = true)\n |-- CountryID: integer (nullable = true)\n |-- ingestion_timestamp: timestamp (nullable = false)\n\n"
     ]
    }
   ],
   "source": [
    "df_onprem_state_province_rolling = df_onprem_state_province_rolling \\\n",
    "    .withColumn(\"StateID\", col(\"StateID\").cast(IntegerType())) \\\n",
    "    .withColumn(\"StateName\", col(\"StateName\").cast(StringType())) \\\n",
    "    .withColumn(\"CountryID\", col(\"CountryID\").cast(IntegerType())) \\\n",
    "    .withColumn(\"ingestion_timestamp\", col(\"ingestion_timestamp\").cast(\"timestamp\"))\n",
    "\n",
    "df_onprem_state_province_rolling.printSchema()"
   ]
  },
  {
   "cell_type": "code",
   "execution_count": 0,
   "metadata": {
    "application/vnd.databricks.v1+cell": {
     "cellMetadata": {
      "byteLimit": 2048000,
      "rowLimit": 10000
     },
     "inputWidgets": {},
     "nuid": "fe715815-1825-4832-9ce6-bb3c39b6a45d",
     "showTitle": false,
     "tableResultSettingsMap": {},
     "title": ""
    }
   },
   "outputs": [
    {
     "output_type": "stream",
     "name": "stdout",
     "output_type": "stream",
     "text": [
      "+-------+----------------+---------+--------------------+\n|StateID|       StateName|CountryID| ingestion_timestamp|\n+-------+----------------+---------+--------------------+\n|      1|         Ontario|        1|2024-11-29 00:39:...|\n|      2|British Columbia|        1|2024-11-29 00:39:...|\n|      3|        New York|        2|2024-11-29 00:39:...|\n+-------+----------------+---------+--------------------+\nonly showing top 3 rows\n\n"
     ]
    }
   ],
   "source": [
    "df_onprem_state_province_rolling.show(3)"
   ]
  },
  {
   "cell_type": "markdown",
   "metadata": {
    "application/vnd.databricks.v1+cell": {
     "cellMetadata": {},
     "inputWidgets": {},
     "nuid": "ceee1395-cea0-4e9e-90b4-f93fb2963cb3",
     "showTitle": false,
     "tableResultSettingsMap": {},
     "title": ""
    }
   },
   "source": [
    "# Loading the Cleaned Datasets in Delta Tables on the Target Container"
   ]
  },
  {
   "cell_type": "code",
   "execution_count": 0,
   "metadata": {
    "application/vnd.databricks.v1+cell": {
     "cellMetadata": {
      "byteLimit": 2048000,
      "rowLimit": 10000
     },
     "inputWidgets": {},
     "nuid": "38fad177-529c-4b80-80b2-27608be3800d",
     "showTitle": false,
     "tableResultSettingsMap": {},
     "title": ""
    }
   },
   "outputs": [],
   "source": [
    "delta_http_folder = \"delta/http\"\n",
    "delta_azsqldb_folder = \"delta/azsqldb\"\n",
    "delta_onprem_folder = \"delta/onprem\"\n",
    "\n",
    "delta_http_path = f\"{mount_point_target}/{delta_http_folder}\"\n",
    "delta_azsqldb_path = f\"{mount_point_target}/{delta_azsqldb_folder}\"\n",
    "delta_onprem_path = f\"{mount_point_target}/{delta_onprem_folder}\""
   ]
  },
  {
   "cell_type": "markdown",
   "metadata": {
    "application/vnd.databricks.v1+cell": {
     "cellMetadata": {},
     "inputWidgets": {},
     "nuid": "9d7c246f-e29b-4aed-87ee-395a6c532802",
     "showTitle": false,
     "tableResultSettingsMap": {},
     "title": ""
    }
   },
   "source": [
    "## Datasets From the HTTP API Source"
   ]
  },
  {
   "cell_type": "code",
   "execution_count": 0,
   "metadata": {
    "application/vnd.databricks.v1+cell": {
     "cellMetadata": {
      "byteLimit": 2048000,
      "rowLimit": 10000
     },
     "inputWidgets": {},
     "nuid": "e5d7159c-dafa-4c5e-b7d0-fbae9e981c91",
     "showTitle": false,
     "tableResultSettingsMap": {},
     "title": ""
    }
   },
   "outputs": [
    {
     "output_type": "stream",
     "name": "stdout",
     "output_type": "stream",
     "text": [
      "+---------+-----------+-----------+--------------------+-----------------+------------+-----------------+------+--------------------+--------------------+\n|ProductID|   Category|SubCategory|         ProductName|            Brand|       Sizes|           Colors| Price|         Description| ingestion_timestamp|\n+---------+-----------+-----------+--------------------+-----------------+------------+-----------------+------+--------------------+--------------------+\n|        4|Accessories|    Watches|Luxury Leather Watch|    Timepiece Co.|[\"One Size\"]|[\"Brown\",\"Black\"]|149.99|A timeless leathe...|2024-11-29 00:53:...|\n|        5|Accessories|    Jewelry|Silver Pendant Ne...|      ShinyThings|[\"One Size\"]|       [\"Silver\"]| 39.99|A delicate silver...|2024-11-29 00:53:...|\n|        6|Accessories|       Bags|    Leather Backpack|Traveler's Choice|  [\"Medium\"]|[\"Brown\",\"Black\"]| 89.99|A durable leather...|2024-11-29 00:53:...|\n+---------+-----------+-----------+--------------------+-----------------+------------+-----------------+------+--------------------+--------------------+\n\n"
     ]
    }
   ],
   "source": [
    "# Checking if the Delta table already exists\n",
    "if DeltaTable.isDeltaTable(spark, f\"{delta_http_path}/accessories\"):\n",
    "    # If the table exists, perform merge (upsert)\n",
    "    existing_data = DeltaTable.forPath(spark, f\"{delta_http_path}/accessories\")\n",
    "    \n",
    "    (existing_data.alias(\"existing\") \\\n",
    "        .merge(df_http_accessories.alias(\"new\"), \"existing.ProductID = new.ProductID\") \\\n",
    "        .whenMatchedUpdateAll() \\\n",
    "        .whenNotMatchedInsertAll() \\\n",
    "        .execute())\n",
    "else:\n",
    "    # If the table does not exist, write data\n",
    "    df_http_accessories.coalesce(1).write.format(\"delta\").mode(\"overwrite\").save(f\"{delta_http_path}/accessories\")\n",
    "\n",
    "# Reading the Delta table\n",
    "spark.read.format(\"delta\").load(f\"{delta_http_path}/accessories\").show(3)"
   ]
  },
  {
   "cell_type": "code",
   "execution_count": 0,
   "metadata": {
    "application/vnd.databricks.v1+cell": {
     "cellMetadata": {
      "byteLimit": 2048000,
      "rowLimit": 10000
     },
     "inputWidgets": {},
     "nuid": "1afbcfdf-5b6a-4b6d-a86b-d9ec27a61ede",
     "showTitle": false,
     "tableResultSettingsMap": {},
     "title": ""
    }
   },
   "outputs": [
    {
     "output_type": "stream",
     "name": "stdout",
     "output_type": "stream",
     "text": [
      "+---------+--------+-----------+--------------------+------------+------------------+--------------------+-----+--------------------+--------------------+\n|ProductID|Category|SubCategory|         ProductName|       Brand|             Sizes|              Colors|Price|         Description| ingestion_timestamp|\n+---------+--------+-----------+--------------------+------------+------------------+--------------------+-----+--------------------+--------------------+\n|        1|Clothing|   Menswear|    Slim Fit T-Shirt| FashionWear|[\"S\",\"M\",\"L\",\"XL\"]|[\"Red\",\"Blue\",\"Bl...|29.99|A stylish slim-fi...|2024-11-29 00:55:...|\n|        2|Clothing| Womenswear| Floral Summer Dress|ElegantStyle|     [\"S\",\"M\",\"L\"]|[\"White\",\"Yellow\"...|49.99|A light and breez...|2024-11-29 00:55:...|\n|        3|Clothing|  Outerwear|Classic Denim Jacket|   UrbanEdge|    [\"M\",\"L\",\"XL\"]|    [\"Blue\",\"Black\"]|69.99|A classic denim j...|2024-11-29 00:55:...|\n+---------+--------+-----------+--------------------+------------+------------------+--------------------+-----+--------------------+--------------------+\n\n"
     ]
    }
   ],
   "source": [
    "if DeltaTable.isDeltaTable(spark, f\"{delta_http_path}/clothing\"):\n",
    "    existing_data = DeltaTable.forPath(spark, f\"{delta_http_path}/clothing\")\n",
    "    \n",
    "    (existing_data.alias(\"existing\") \\\n",
    "        .merge(df_http_clothing.alias(\"new\"), \"existing.ProductID = new.ProductID\") \\\n",
    "        .whenMatchedUpdateAll() \\\n",
    "        .whenNotMatchedInsertAll() \\\n",
    "        .execute())\n",
    "else:\n",
    "    df_http_clothing.coalesce(1).write.format(\"delta\").mode(\"overwrite\").save(f\"{delta_http_path}/clothing\")\n",
    "\n",
    "spark.read.format(\"delta\").load(f\"{delta_http_path}/clothing\").show(3)"
   ]
  },
  {
   "cell_type": "code",
   "execution_count": 0,
   "metadata": {
    "application/vnd.databricks.v1+cell": {
     "cellMetadata": {
      "byteLimit": 2048000,
      "rowLimit": 10000
     },
     "inputWidgets": {},
     "nuid": "74d09261-3138-4551-9947-6670805a9c71",
     "showTitle": false,
     "tableResultSettingsMap": {},
     "title": ""
    }
   },
   "outputs": [
    {
     "output_type": "stream",
     "name": "stdout",
     "output_type": "stream",
     "text": [
      "+---------+--------+-----------+-----------------+-----------+--------------------+--------------------+-----+--------------------+--------------------+\n|ProductID|Category|SubCategory|      ProductName|      Brand|               Sizes|              Colors|Price|         Description| ingestion_timestamp|\n+---------+--------+-----------+-----------------+-----------+--------------------+--------------------+-----+--------------------+--------------------+\n|        7|Footwear|   Menswear|    Running Shoes| SpeedTrack|[\"8\",\"9\",\"10\",\"11...|[\"White\",\"Blue\",\"...|79.99|Lightweight runni...|2024-11-29 00:57:...|\n|        8|Footwear| Womenswear|High Heel Sandals|  StyleStep|[\"5\",\"6\",\"7\",\"8\",...|[\"Black\",\"Red\",\"G...|59.99|Elegant high-heel...|2024-11-29 00:57:...|\n|        9|Footwear|     Unisex|  Casual Sneakers|ComfortWalk|[\"6\",\"7\",\"8\",\"9\",...|[\"Gray\",\"Black\",\"...|49.99|Comfortable sneak...|2024-11-29 00:57:...|\n+---------+--------+-----------+-----------------+-----------+--------------------+--------------------+-----+--------------------+--------------------+\n\n"
     ]
    }
   ],
   "source": [
    "if DeltaTable.isDeltaTable(spark, f\"{delta_http_path}/footwear\"):\n",
    "    existing_data = DeltaTable.forPath(spark, f\"{delta_http_path}/footwear\")\n",
    "    \n",
    "    (existing_data.alias(\"existing\") \\\n",
    "        .merge(df_http_footwear.alias(\"new\"), \"existing.ProductID = new.ProductID\") \\\n",
    "        .whenMatchedUpdateAll() \\\n",
    "        .whenNotMatchedInsertAll() \\\n",
    "        .execute())\n",
    "else:\n",
    "    df_http_footwear.coalesce(1).write.format(\"delta\").mode(\"overwrite\").save(f\"{delta_http_path}/footwear\")\n",
    "\n",
    "spark.read.format(\"delta\").load(f\"{delta_http_path}/footwear\").show(3)"
   ]
  },
  {
   "cell_type": "code",
   "execution_count": 0,
   "metadata": {
    "application/vnd.databricks.v1+cell": {
     "cellMetadata": {
      "byteLimit": 2048000,
      "rowLimit": 10000
     },
     "inputWidgets": {},
     "nuid": "69c0ea6f-4eda-4285-b28d-b1a261bf6d88",
     "showTitle": false,
     "tableResultSettingsMap": {},
     "title": ""
    }
   },
   "outputs": [
    {
     "output_type": "stream",
     "name": "stdout",
     "output_type": "stream",
     "text": [
      "+---------+----------+-----------+--------------------+--------------+------------------+-----------------+------+--------------------+--------------------+\n|ProductID|  Category|SubCategory|         ProductName|         Brand|             Sizes|           Colors| Price|         Description| ingestion_timestamp|\n+---------+----------+-----------+--------------------+--------------+------------------+-----------------+------+--------------------+--------------------+\n|       10|Home Decor|   Lighting|   Modern Table Lamp|   BrightHomes|      [\"One Size\"]|[\"White\",\"Black\"]| 39.99|A sleek and moder...|2024-11-29 00:58:...|\n|       11|Home Decor|   Wall Art|Abstract Canvas P...|Artistic Vibes|[\"Medium\",\"Large\"]|   [\"Multicolor\"]| 99.99|A vibrant abstrac...|2024-11-29 00:58:...|\n|       12|Home Decor|  Furniture| Wooden Coffee Table|  Rustic Charm|      [\"One Size\"]|[\"Brown\",\"Black\"]|129.99|A stylish wooden ...|2024-11-29 00:58:...|\n+---------+----------+-----------+--------------------+--------------+------------------+-----------------+------+--------------------+--------------------+\n\n"
     ]
    }
   ],
   "source": [
    "if DeltaTable.isDeltaTable(spark, f\"{delta_http_path}/home_decor\"):\n",
    "    existing_data = DeltaTable.forPath(spark, f\"{delta_http_path}/home_decor\")\n",
    "    \n",
    "    (existing_data.alias(\"existing\") \\\n",
    "        .merge(df_http_home_decor.alias(\"new\"), \"existing.ProductID = new.ProductID\") \\\n",
    "        .whenMatchedUpdateAll() \\\n",
    "        .whenNotMatchedInsertAll() \\\n",
    "        .execute())\n",
    "else:\n",
    "    df_http_home_decor.coalesce(1).write.format(\"delta\").mode(\"overwrite\").save(f\"{delta_http_path}/home_decor\")\n",
    "\n",
    "spark.read.format(\"delta\").load(f\"{delta_http_path}/home_decor\").show(3)"
   ]
  },
  {
   "cell_type": "markdown",
   "metadata": {
    "application/vnd.databricks.v1+cell": {
     "cellMetadata": {},
     "inputWidgets": {},
     "nuid": "d8265ea8-2989-4e8e-87eb-29aed9f5f821",
     "showTitle": false,
     "tableResultSettingsMap": {},
     "title": ""
    }
   },
   "source": [
    "## Datasets from Azure SQL Database Source"
   ]
  },
  {
   "cell_type": "code",
   "execution_count": 0,
   "metadata": {
    "application/vnd.databricks.v1+cell": {
     "cellMetadata": {
      "byteLimit": 2048000,
      "rowLimit": 10000
     },
     "inputWidgets": {},
     "nuid": "9846fd7e-8d4b-4cde-9f37-fdbe9f13fba2",
     "showTitle": false,
     "tableResultSettingsMap": {},
     "title": ""
    }
   },
   "outputs": [
    {
     "output_type": "stream",
     "name": "stdout",
     "output_type": "stream",
     "text": [
      "+---------+-------------------+------------+-------+-------------+-------------+----------+--------------------+-------------------+--------------------+\n|AddressID|       AddressLine1|AddressLine2|   City|StateProvince|CountryRegion|PostalCode|             rowguid|       ModifiedDate| ingestion_timestamp|\n+---------+-------------------+------------+-------+-------------+-------------+----------+--------------------+-------------------+--------------------+\n|        9|  8713 Yosemite Ct.|        NULL|Bothell|   Washington|United States|     98011|268af621-76d7-4c7...|2006-07-01 00:00:00|2024-11-29 01:01:...|\n|       11|1318 Lasalle Street|        NULL|Bothell|   Washington|United States|     98011|981b3303-aca2-49c...|2007-04-01 00:00:00|2024-11-29 01:01:...|\n|       25|   9178 Jumping St.|        NULL| Dallas|        Texas|United States|     75201|c8df3bd9-48f0-465...|2006-09-01 00:00:00|2024-11-29 01:01:...|\n+---------+-------------------+------------+-------+-------------+-------------+----------+--------------------+-------------------+--------------------+\nonly showing top 3 rows\n\n"
     ]
    }
   ],
   "source": [
    "if DeltaTable.isDeltaTable(spark, f\"{delta_azsqldb_path}/address\"):\n",
    "    existing_data = DeltaTable.forPath(spark, f\"{delta_azsqldb_path}/address\")\n",
    "    \n",
    "    (existing_data.alias(\"existing\") \\\n",
    "        .merge(df_azsqldb_address.alias(\"new\"), \"existing.AddressID = new.AddressID\") \\\n",
    "        .whenMatchedUpdateAll() \\\n",
    "        .whenNotMatchedInsertAll() \\\n",
    "        .execute())\n",
    "else:\n",
    "    df_azsqldb_address.coalesce(1).write.format(\"delta\").mode(\"overwrite\").save(f\"{delta_azsqldb_path}/address\")\n",
    "\n",
    "spark.read.format(\"delta\").load(f\"{delta_azsqldb_path}/address\").show(3)"
   ]
  },
  {
   "cell_type": "code",
   "execution_count": 0,
   "metadata": {
    "application/vnd.databricks.v1+cell": {
     "cellMetadata": {
      "byteLimit": 2048000,
      "rowLimit": 10000
     },
     "inputWidgets": {},
     "nuid": "dac62bdd-8108-4c69-a20c-22f8d5ae154c",
     "showTitle": false,
     "tableResultSettingsMap": {},
     "title": ""
    }
   },
   "outputs": [
    {
     "output_type": "stream",
     "name": "stdout",
     "output_type": "stream",
     "text": [
      "+----------+---------+-----+---------+----------+--------+------+--------------------+--------------------+--------------------+------------+--------------------+------------+--------------------+-------------------+--------------------+\n|CustomerID|NameStyle|Title|FirstName|MiddleName|LastName|Suffix|         CompanyName|         SalesPerson|        EmailAddress|       Phone|        PasswordHash|PasswordSalt|             rowguid|       ModifiedDate| ingestion_timestamp|\n+----------+---------+-----+---------+----------+--------+------+--------------------+--------------------+--------------------+------------+--------------------+------------+--------------------+-------------------+--------------------+\n|         1|    false|  Mr.|  Orlando|        N.|     Gee|  NULL|        A Bike Store|adventure-works\\p...|orlando0@adventur...|245-555-0173|L/Rlwxzp4w7RWmEgX...|    1KjXYs4=|3f5ae95e-b87d-4ae...|2005-08-01 00:00:00|2024-11-29 01:03:...|\n|         2|    false|  Mr.|    Keith|      NULL|  Harris|  NULL|  Progressive Sports|adventure-works\\d...|keith0@adventure-...|170-555-0127|YPdtRdvqeAhj6wyxE...|    fs1ZGhY=|e552f657-a9af-4a7...|2006-08-01 00:00:00|2024-11-29 01:03:...|\n|         3|    false|  Ms.|    Donna|        F.|Carreras|  NULL|Advanced Bike Com...|adventure-works\\j...|donna0@adventure-...|279-555-0130|LNoK27abGQo48gGue...|    YTNH5Rw=|130774b1-db21-4ef...|2005-09-01 00:00:00|2024-11-29 01:03:...|\n+----------+---------+-----+---------+----------+--------+------+--------------------+--------------------+--------------------+------------+--------------------+------------+--------------------+-------------------+--------------------+\nonly showing top 3 rows\n\n"
     ]
    }
   ],
   "source": [
    "if DeltaTable.isDeltaTable(spark, f\"{delta_azsqldb_path}/customer\"):\n",
    "    existing_data = DeltaTable.forPath(spark, f\"{delta_azsqldb_path}/customer\")\n",
    "    \n",
    "    (existing_data.alias(\"existing\") \\\n",
    "        .merge(df_azsqldb_customer.alias(\"new\"), \"existing.CustomerID = new.CustomerID\") \\\n",
    "        .whenMatchedUpdateAll() \\\n",
    "        .whenNotMatchedInsertAll() \\\n",
    "        .execute())\n",
    "else:\n",
    "    df_azsqldb_customer.coalesce(1).write.format(\"delta\").mode(\"overwrite\").save(f\"{delta_azsqldb_path}/customer\")\n",
    "\n",
    "spark.read.format(\"delta\").load(f\"{delta_azsqldb_path}/customer\").show(3)"
   ]
  },
  {
   "cell_type": "code",
   "execution_count": 0,
   "metadata": {
    "application/vnd.databricks.v1+cell": {
     "cellMetadata": {
      "byteLimit": 2048000,
      "rowLimit": 10000
     },
     "inputWidgets": {},
     "nuid": "0d46c8f4-5da2-4f0c-97ea-2070bca59d16",
     "showTitle": false,
     "tableResultSettingsMap": {},
     "title": ""
    }
   },
   "outputs": [
    {
     "output_type": "stream",
     "name": "stdout",
     "output_type": "stream",
     "text": [
      "+----------+---------+-----------+--------------------+-------------------+--------------------+\n|CustomerID|AddressID|AddressType|             rowguid|       ModifiedDate| ingestion_timestamp|\n+----------+---------+-----------+--------------------+-------------------+--------------------+\n|     29485|     1086|Main Office|16765338-dbe4-442...|2007-09-01 00:00:00|2024-11-29 01:08:...|\n|     29486|      621|Main Office|22b3e910-14af-4ed...|2005-09-01 00:00:00|2024-11-29 01:08:...|\n|     29489|     1069|Main Office|a095c88b-d7e6-417...|2005-07-01 00:00:00|2024-11-29 01:08:...|\n+----------+---------+-----------+--------------------+-------------------+--------------------+\nonly showing top 3 rows\n\n"
     ]
    }
   ],
   "source": [
    "if DeltaTable.isDeltaTable(spark, f\"{delta_azsqldb_path}/customer_address\"):\n",
    "    existing_data = DeltaTable.forPath(spark, f\"{delta_azsqldb_path}/customer_address\")\n",
    "    \n",
    "    (existing_data.alias(\"existing\") \\\n",
    "        .merge(df_azsqldb_customer_address.alias(\"new\"), \"existing.CustomerID = new.CustomerID AND existing.AddressID = new.AddressID\") \\\n",
    "        .whenMatchedUpdateAll() \\\n",
    "        .whenNotMatchedInsertAll() \\\n",
    "        .execute())\n",
    "else:\n",
    "    df_azsqldb_customer_address.coalesce(1).write.format(\"delta\").mode(\"overwrite\").save(f\"{delta_azsqldb_path}/customer_address\")\n",
    "\n",
    "spark.read.format(\"delta\").load(f\"{delta_azsqldb_path}/customer_address\").show(3)"
   ]
  },
  {
   "cell_type": "code",
   "execution_count": 0,
   "metadata": {
    "application/vnd.databricks.v1+cell": {
     "cellMetadata": {
      "byteLimit": 2048000,
      "rowLimit": 10000
     },
     "inputWidgets": {},
     "nuid": "14da7394-d0af-434a-bc1b-a1ec90b035be",
     "showTitle": false,
     "tableResultSettingsMap": {},
     "title": ""
    }
   },
   "outputs": [
    {
     "output_type": "stream",
     "name": "stdout",
     "output_type": "stream",
     "text": [
      "+---------+--------------------+-------------+-----+------------+---------+----+-------+-----------------+--------------+-------------------+-----------+----------------+--------------------+----------------------+--------------------+--------------------+--------------------+\n|ProductID|                Name|ProductNumber|Color|StandardCost|ListPrice|Size| Weight|ProductCategoryID|ProductModelID|      SellStartDate|SellEndDate|DiscontinuedDate|      ThumbNailPhoto|ThumbnailPhotoFileName|             rowguid|        ModifiedDate| ingestion_timestamp|\n+---------+--------------------+-------------+-----+------------+---------+----+-------+-----------------+--------------+-------------------+-----------+----------------+--------------------+----------------------+--------------------+--------------------+--------------------+\n|      680|HL Road Frame - B...|   FR-R92B-58|Black|     1059.31|   1431.5|  58|1016.04|               18|             6|2002-06-01 00:00:00|       NULL|            NULL|[47 49 46 38 39 6...|  no_image_availabl...|43dd68d6-14a4-461...|2008-03-11 10:01:...|2024-11-29 01:09:...|\n|      706|HL Road Frame - R...|   FR-R92R-58|  Red|     1059.31|   1431.5|  58|1016.04|               18|             6|2002-06-01 00:00:00|       NULL|            NULL|[47 49 46 38 39 6...|  no_image_availabl...|9540ff17-2712-4c9...|2008-03-11 10:01:...|2024-11-29 01:09:...|\n|      707|Sport-100 Helmet,...|    HL-U509-R|  Red|     13.0863|    34.99|NULL|   NULL|               35|            33|2005-07-01 00:00:00|       NULL|            NULL|[47 49 46 38 39 6...|  no_image_availabl...|2e1ef41a-c08a-4ff...|2008-03-11 10:01:...|2024-11-29 01:09:...|\n+---------+--------------------+-------------+-----+------------+---------+----+-------+-----------------+--------------+-------------------+-----------+----------------+--------------------+----------------------+--------------------+--------------------+--------------------+\nonly showing top 3 rows\n\n"
     ]
    }
   ],
   "source": [
    "if DeltaTable.isDeltaTable(spark, f\"{delta_azsqldb_path}/product\"):\n",
    "    existing_data = DeltaTable.forPath(spark, f\"{delta_azsqldb_path}/product\")\n",
    "    \n",
    "    (existing_data.alias(\"existing\") \\\n",
    "        .merge(df_azsqldb_product.alias(\"new\"), \"existing.ProductID = new.ProductID\") \\\n",
    "        .whenMatchedUpdateAll() \\\n",
    "        .whenNotMatchedInsertAll() \\\n",
    "        .execute())\n",
    "else:\n",
    "    df_azsqldb_product.coalesce(1).write.format(\"delta\").mode(\"overwrite\").save(f\"{delta_azsqldb_path}/product\")\n",
    "\n",
    "spark.read.format(\"delta\").load(f\"{delta_azsqldb_path}/product\").show(3)"
   ]
  },
  {
   "cell_type": "code",
   "execution_count": 0,
   "metadata": {
    "application/vnd.databricks.v1+cell": {
     "cellMetadata": {
      "byteLimit": 2048000,
      "rowLimit": 10000
     },
     "inputWidgets": {},
     "nuid": "41d637eb-0885-4856-bd55-ca394be74c9c",
     "showTitle": false,
     "tableResultSettingsMap": {},
     "title": ""
    }
   },
   "outputs": [
    {
     "output_type": "stream",
     "name": "stdout",
     "output_type": "stream",
     "text": [
      "+-----------------+-----------------------+----------+--------------------+-------------------+--------------------+\n|ProductCategoryID|ParentProductCategoryID|      Name|             rowguid|       ModifiedDate| ingestion_timestamp|\n+-----------------+-----------------------+----------+--------------------+-------------------+--------------------+\n|                1|                   NULL|     Bikes|cfbda25c-df71-47a...|2002-06-01 00:00:00|2024-11-29 01:11:...|\n|                2|                   NULL|Components|c657828d-d808-4ab...|2002-06-01 00:00:00|2024-11-29 01:11:...|\n|                3|                   NULL|  Clothing|10a7c342-ca82-48d...|2002-06-01 00:00:00|2024-11-29 01:11:...|\n+-----------------+-----------------------+----------+--------------------+-------------------+--------------------+\nonly showing top 3 rows\n\n"
     ]
    }
   ],
   "source": [
    "if DeltaTable.isDeltaTable(spark, f\"{delta_azsqldb_path}/product_category\"):\n",
    "    existing_data = DeltaTable.forPath(spark, f\"{delta_azsqldb_path}/product_category\")\n",
    "    \n",
    "    (existing_data.alias(\"existing\") \\\n",
    "        .merge(df_azsqldb_product_category.alias(\"new\"), \"existing.ProductCategoryID = new.ProductCategoryID\") \\\n",
    "        .whenMatchedUpdateAll() \\\n",
    "        .whenNotMatchedInsertAll() \\\n",
    "        .execute())\n",
    "else:\n",
    "    df_azsqldb_product_category.coalesce(1).write.format(\"delta\").mode(\"overwrite\").save(f\"{delta_azsqldb_path}/product_category\")\n",
    "\n",
    "spark.read.format(\"delta\").load(f\"{delta_azsqldb_path}/product_category\").show(3)"
   ]
  },
  {
   "cell_type": "code",
   "execution_count": 0,
   "metadata": {
    "application/vnd.databricks.v1+cell": {
     "cellMetadata": {
      "byteLimit": 2048000,
      "rowLimit": 10000
     },
     "inputWidgets": {},
     "nuid": "55d82d89-d6be-4e7f-874f-31ab20a9633e",
     "showTitle": false,
     "tableResultSettingsMap": {},
     "title": ""
    }
   },
   "outputs": [
    {
     "output_type": "stream",
     "name": "stdout",
     "output_type": "stream",
     "text": [
      "+--------------------+--------------------+--------------------+-------------------+--------------------+\n|ProductDescriptionID|         Description|             rowguid|       ModifiedDate| ingestion_timestamp|\n+--------------------+--------------------+--------------------+-------------------+--------------------+\n|                   3|     Chromoly steel.|301eed3a-1a82-485...|2007-06-01 00:00:00|2024-11-29 01:12:...|\n|                   4|Aluminum alloy cu...|dfeba528-da11-465...|2007-06-01 00:00:00|2024-11-29 01:12:...|\n|                   5|Aluminum alloy cu...|f7178da7-1a7e-499...|2007-06-01 00:00:00|2024-11-29 01:12:...|\n+--------------------+--------------------+--------------------+-------------------+--------------------+\nonly showing top 3 rows\n\n"
     ]
    }
   ],
   "source": [
    "if DeltaTable.isDeltaTable(spark, f\"{delta_azsqldb_path}/product_description\"):\n",
    "    existing_data = DeltaTable.forPath(spark, f\"{delta_azsqldb_path}/product_description\")\n",
    "    \n",
    "    (existing_data.alias(\"existing\") \\\n",
    "        .merge(df_azsqldb_product_description.alias(\"new\"), \"existing.ProductDescriptionID = new.ProductDescriptionID\") \\\n",
    "        .whenMatchedUpdateAll() \\\n",
    "        .whenNotMatchedInsertAll() \\\n",
    "        .execute())\n",
    "else:\n",
    "    df_azsqldb_product_description.coalesce(1).write.format(\"delta\").mode(\"overwrite\").save(f\"{delta_azsqldb_path}/product_description\")\n",
    "\n",
    "spark.read.format(\"delta\").load(f\"{delta_azsqldb_path}/product_description\").show(3)"
   ]
  },
  {
   "cell_type": "code",
   "execution_count": 0,
   "metadata": {
    "application/vnd.databricks.v1+cell": {
     "cellMetadata": {
      "byteLimit": 2048000,
      "rowLimit": 10000
     },
     "inputWidgets": {},
     "nuid": "cc7299f3-199d-4fcc-9c2f-fbe725331dc0",
     "showTitle": false,
     "tableResultSettingsMap": {},
     "title": ""
    }
   },
   "outputs": [
    {
     "output_type": "stream",
     "name": "stdout",
     "output_type": "stream",
     "text": [
      "+--------------+------------------+------------------+--------------------+-------------------+--------------------+\n|ProductModelID|              Name|CatalogDescription|             rowguid|       ModifiedDate| ingestion_timestamp|\n+--------------+------------------+------------------+--------------------+-------------------+--------------------+\n|             1|      Classic Vest|              NULL|29321d47-1e4c-4aa...|2007-06-01 00:00:00|2024-11-29 01:14:...|\n|             2|       Cycling Cap|              NULL|474fb654-3c96-4cb...|2005-06-01 00:00:00|2024-11-29 01:14:...|\n|             3|Full-Finger Gloves|              NULL|a75483fe-3c47-4aa...|2006-06-01 00:00:00|2024-11-29 01:14:...|\n+--------------+------------------+------------------+--------------------+-------------------+--------------------+\nonly showing top 3 rows\n\n"
     ]
    }
   ],
   "source": [
    "if DeltaTable.isDeltaTable(spark, f\"{delta_azsqldb_path}/product_model\"):\n",
    "    existing_data = DeltaTable.forPath(spark, f\"{delta_azsqldb_path}/product_model\")\n",
    "    \n",
    "    (existing_data.alias(\"existing\") \\\n",
    "        .merge(df_azsqldb_product_model.alias(\"new\"), \"existing.ProductModelID = new.ProductModelID\") \\\n",
    "        .whenMatchedUpdateAll() \\\n",
    "        .whenNotMatchedInsertAll() \\\n",
    "        .execute())\n",
    "else:\n",
    "    df_azsqldb_product_model.coalesce(1).write.format(\"delta\").mode(\"overwrite\").save(f\"{delta_azsqldb_path}/product_model\")\n",
    "\n",
    "spark.read.format(\"delta\").load(f\"{delta_azsqldb_path}/product_model\").show(3)"
   ]
  },
  {
   "cell_type": "code",
   "execution_count": 0,
   "metadata": {
    "application/vnd.databricks.v1+cell": {
     "cellMetadata": {
      "byteLimit": 2048000,
      "rowLimit": 10000
     },
     "inputWidgets": {},
     "nuid": "0460be46-6d83-4e8f-b412-682c96ee4be7",
     "showTitle": false,
     "tableResultSettingsMap": {},
     "title": ""
    }
   },
   "outputs": [
    {
     "output_type": "stream",
     "name": "stdout",
     "output_type": "stream",
     "text": [
      "+--------------+--------------------+-------+--------------------+-------------------+--------------------+\n|ProductModelID|ProductDescriptionID|Culture|             rowguid|       ModifiedDate| ingestion_timestamp|\n+--------------+--------------------+-------+--------------------+-------------------+--------------------+\n|             1|                1199| en    |4d00b649-027a-4f9...|2007-06-01 00:00:00|2024-11-29 01:16:...|\n|             1|                1467| ar    |7de7204e-4efc-40f...|2007-06-01 00:00:00|2024-11-29 01:16:...|\n|             1|                1589| fr    |20bffcf4-bfa6-400...|2007-06-01 00:00:00|2024-11-29 01:16:...|\n+--------------+--------------------+-------+--------------------+-------------------+--------------------+\nonly showing top 3 rows\n\n"
     ]
    }
   ],
   "source": [
    "if DeltaTable.isDeltaTable(spark, f\"{delta_azsqldb_path}/productmodel_productdescription\"):\n",
    "    existing_data = DeltaTable.forPath(spark, f\"{delta_azsqldb_path}/productmodel_productdescription\")\n",
    "    \n",
    "    (existing_data.alias(\"existing\") \\\n",
    "        .merge(df_azsqldb_productmodel_productdescription.alias(\"new\"), \"existing.ProductModelID = new.ProductModelID AND existing.ProductDescriptionID = new.ProductDescriptionID\") \\\n",
    "        .whenMatchedUpdateAll() \\\n",
    "        .whenNotMatchedInsertAll() \\\n",
    "        .execute())\n",
    "else:\n",
    "    df_azsqldb_productmodel_productdescription.coalesce(1).write.format(\"delta\").mode(\"overwrite\").save(f\"{delta_azsqldb_path}/productmodel_productdescription\")\n",
    "\n",
    "spark.read.format(\"delta\").load(f\"{delta_azsqldb_path}/productmodel_productdescription\").show(3)"
   ]
  },
  {
   "cell_type": "code",
   "execution_count": 0,
   "metadata": {
    "application/vnd.databricks.v1+cell": {
     "cellMetadata": {
      "byteLimit": 2048000,
      "rowLimit": 10000
     },
     "inputWidgets": {},
     "nuid": "23997f1f-f5e0-4211-b343-e29bcb7c1ad5",
     "showTitle": false,
     "tableResultSettingsMap": {},
     "title": ""
    }
   },
   "outputs": [
    {
     "output_type": "stream",
     "name": "stdout",
     "output_type": "stream",
     "text": [
      "+------------+------------------+--------+---------+---------+-----------------+---------+--------------------+-------------------+--------------------+\n|SalesOrderID|SalesOrderDetailID|OrderQty|ProductID|UnitPrice|UnitPriceDiscount|LineTotal|             rowguid|       ModifiedDate| ingestion_timestamp|\n+------------+------------------+--------+---------+---------+-----------------+---------+--------------------+-------------------+--------------------+\n|       71774|            110562|       1|      836|  356.898|              0.0|  356.898|e3a1994c-7a68-4ce...|2008-06-01 00:00:00|2024-11-29 01:19:...|\n|       71774|            110563|       1|      822|  356.898|              0.0|  356.898|5c77f557-fdb6-43b...|2008-06-01 00:00:00|2024-11-29 01:19:...|\n|       71776|            110567|       1|      907|     63.9|              0.0|     63.9|6dbfe398-d15d-425...|2008-06-01 00:00:00|2024-11-29 01:19:...|\n+------------+------------------+--------+---------+---------+-----------------+---------+--------------------+-------------------+--------------------+\nonly showing top 3 rows\n\n"
     ]
    }
   ],
   "source": [
    "if DeltaTable.isDeltaTable(spark, f\"{delta_azsqldb_path}/salesorder_detail\"):\n",
    "    existing_data = DeltaTable.forPath(spark, f\"{delta_azsqldb_path}/salesorder_detail\")\n",
    "    \n",
    "    (existing_data.alias(\"existing\") \\\n",
    "        .merge(df_azsqldb_salesorder_detail.alias(\"new\"), \"existing.SalesOrderID = new.SalesOrderID AND existing.SalesOrderDetailID = new.SalesOrderDetailID\") \\\n",
    "        .whenMatchedUpdateAll() \\\n",
    "        .whenNotMatchedInsertAll() \\\n",
    "        .execute())\n",
    "else:\n",
    "    df_azsqldb_salesorder_detail.coalesce(1).write.format(\"delta\").mode(\"overwrite\").save(f\"{delta_azsqldb_path}/salesorder_detail\")\n",
    "\n",
    "spark.read.format(\"delta\").load(f\"{delta_azsqldb_path}/salesorder_detail\").show(3)"
   ]
  },
  {
   "cell_type": "code",
   "execution_count": 0,
   "metadata": {
    "application/vnd.databricks.v1+cell": {
     "cellMetadata": {
      "byteLimit": 2048000,
      "rowLimit": 10000
     },
     "inputWidgets": {},
     "nuid": "dd43076e-266d-4e01-8e5d-8abce64e7aa9",
     "showTitle": false,
     "tableResultSettingsMap": {},
     "title": ""
    }
   },
   "outputs": [
    {
     "output_type": "stream",
     "name": "stdout",
     "output_type": "stream",
     "text": [
      "+------------+--------------+-------------------+-------------------+-------------------+------+---------------+----------------+-------------------+--------------+----------+---------------+---------------+-----------------+----------------------+----------+---------+--------+----------+-------+--------------------+-------------------+--------------------+\n|SalesOrderID|RevisionNumber|          OrderDate|            DueDate|           ShipDate|Status|OnlineOrderFlag|SalesOrderNumber|PurchaseOrderNumber| AccountNumber|CustomerID|ShipToAddressID|BillToAddressID|       ShipMethod|CreditCardApprovalCode|  SubTotal|   TaxAmt| Freight|  TotalDue|Comment|             rowguid|       ModifiedDate| ingestion_timestamp|\n+------------+--------------+-------------------+-------------------+-------------------+------+---------------+----------------+-------------------+--------------+----------+---------------+---------------+-----------------+----------------------+----------+---------+--------+----------+-------+--------------------+-------------------+--------------------+\n|       71774|             2|2008-06-01 00:00:00|2008-06-13 00:00:00|2008-06-08 00:00:00|     5|          false|         SO71774|        PO348186287|10-4020-000609|     29847|           1092|           1092|CARGO TRANSPORT 5|                  NULL|  880.3484|  70.4279| 22.0087|   972.785|   NULL|89e42cdc-8506-48a...|2008-06-08 00:00:00|2024-11-29 01:20:...|\n|       71776|             2|2008-06-01 00:00:00|2008-06-13 00:00:00|2008-06-08 00:00:00|     5|          false|         SO71776|      PO19952192051|10-4020-000106|     30072|            640|            640|CARGO TRANSPORT 5|                  NULL|     78.81|   6.3048|  1.9703|   87.0851|   NULL|8a3448c5-e677-415...|2008-06-08 00:00:00|2024-11-29 01:20:...|\n|       71780|             2|2008-06-01 00:00:00|2008-06-13 00:00:00|2008-06-08 00:00:00|     5|          false|         SO71780|      PO19604173239|10-4020-000340|     30113|            653|            653|CARGO TRANSPORT 5|                  NULL|38418.6895|3073.4952|960.4672|42452.6519|   NULL|a47665d2-7ac9-4cf...|2008-06-08 00:00:00|2024-11-29 01:20:...|\n+------------+--------------+-------------------+-------------------+-------------------+------+---------------+----------------+-------------------+--------------+----------+---------------+---------------+-----------------+----------------------+----------+---------+--------+----------+-------+--------------------+-------------------+--------------------+\nonly showing top 3 rows\n\n"
     ]
    }
   ],
   "source": [
    "if DeltaTable.isDeltaTable(spark, f\"{delta_azsqldb_path}/salesorder_header\"):\n",
    "    existing_data = DeltaTable.forPath(spark, f\"{delta_azsqldb_path}/salesorder_header\")\n",
    "    \n",
    "    (existing_data.alias(\"existing\") \\\n",
    "        .merge(df_azsqldb_salesorder_header.alias(\"new\"), \"existing.SalesOrderID = new.SalesOrderID\") \\\n",
    "        .whenMatchedUpdateAll() \\\n",
    "        .whenNotMatchedInsertAll() \\\n",
    "        .execute())\n",
    "else:\n",
    "    df_azsqldb_salesorder_header.coalesce(1).write.format(\"delta\").mode(\"overwrite\").save(f\"{delta_azsqldb_path}/salesorder_header\")\n",
    "\n",
    "spark.read.format(\"delta\").load(f\"{delta_azsqldb_path}/salesorder_header\").show(3)"
   ]
  },
  {
   "cell_type": "markdown",
   "metadata": {
    "application/vnd.databricks.v1+cell": {
     "cellMetadata": {},
     "inputWidgets": {},
     "nuid": "85c0b260-b4ec-4fa7-a208-bf25649da879",
     "showTitle": false,
     "tableResultSettingsMap": {},
     "title": ""
    }
   },
   "source": [
    "## Datasets from On-Premise Microsoft SQL Server Source"
   ]
  },
  {
   "cell_type": "code",
   "execution_count": 0,
   "metadata": {
    "application/vnd.databricks.v1+cell": {
     "cellMetadata": {
      "byteLimit": 2048000,
      "rowLimit": 10000
     },
     "inputWidgets": {},
     "nuid": "4ed6f90d-5fbd-4f2c-94a6-9e6b99147920",
     "showTitle": false,
     "tableResultSettingsMap": {},
     "title": ""
    }
   },
   "outputs": [
    {
     "output_type": "stream",
     "name": "stdout",
     "output_type": "stream",
     "text": [
      "+---------+-------------+--------------------+\n|CountryID|  CountryName| ingestion_timestamp|\n+---------+-------------+--------------------+\n|        1|       Canada|2024-11-29 01:22:...|\n|        2|United States|2024-11-29 01:22:...|\n+---------+-------------+--------------------+\n\n"
     ]
    }
   ],
   "source": [
    "if DeltaTable.isDeltaTable(spark, f\"{delta_onprem_path}/country_rolling\"):\n",
    "    existing_data = DeltaTable.forPath(spark, f\"{delta_onprem_path}/country_rolling\")\n",
    "    \n",
    "    (existing_data.alias(\"existing\") \\\n",
    "        .merge(df_onprem_country_rolling.alias(\"new\"), \"existing.CountryID = new.CountryID\") \\\n",
    "        .whenMatchedUpdateAll() \\\n",
    "        .whenNotMatchedInsertAll() \\\n",
    "        .execute())\n",
    "else:\n",
    "    df_onprem_country_rolling.coalesce(1).write.format(\"delta\").mode(\"overwrite\").save(f\"{delta_onprem_path}/country_rolling\")\n",
    "\n",
    "spark.read.format(\"delta\").load(f\"{delta_onprem_path}/country_rolling\").show(3)"
   ]
  },
  {
   "cell_type": "code",
   "execution_count": 0,
   "metadata": {
    "application/vnd.databricks.v1+cell": {
     "cellMetadata": {
      "byteLimit": 2048000,
      "rowLimit": 10000
     },
     "inputWidgets": {},
     "nuid": "4d071440-502c-4840-bf1e-1505db453629",
     "showTitle": false,
     "tableResultSettingsMap": {},
     "title": ""
    }
   },
   "outputs": [
    {
     "output_type": "stream",
     "name": "stdout",
     "output_type": "stream",
     "text": [
      "+----------+---------+--------+--------------------+----------+------------+------------+-----------+-------+----------+---------+--------------------+\n|CustomerID|FirstName|LastName|               Email|     Phone|AddressLine1|AddressLine2|       City|StateID|PostalCode|CountryID| ingestion_timestamp|\n+----------+---------+--------+--------------------+----------+------------+------------+-----------+-------+----------+---------+--------------------+\n|         1|     John|     Doe|john.doe@example.com|1234567890| 123 Main St|            |    Toronto|      1|   M5H 2N2|        1|2024-11-29 01:23:...|\n|         2|     Jane|   Smith|jane.smith@exampl...|9876543210|  456 Elm St|            |Los Angeles|      4|     90001|        2|2024-11-29 01:23:...|\n+----------+---------+--------+--------------------+----------+------------+------------+-----------+-------+----------+---------+--------------------+\n\n"
     ]
    }
   ],
   "source": [
    "if DeltaTable.isDeltaTable(spark, f\"{delta_onprem_path}/customer\"):\n",
    "    existing_data = DeltaTable.forPath(spark, f\"{delta_onprem_path}/customer\")\n",
    "    \n",
    "    (existing_data.alias(\"existing\") \\\n",
    "        .merge(df_onprem_customer.alias(\"new\"), \"existing.CustomerID = new.CustomerID\") \\\n",
    "        .whenMatchedUpdateAll() \\\n",
    "        .whenNotMatchedInsertAll() \\\n",
    "        .execute())\n",
    "else:\n",
    "    df_onprem_customer.coalesce(1).write.format(\"delta\").mode(\"overwrite\").save(f\"{delta_onprem_path}/customer\")\n",
    "\n",
    "spark.read.format(\"delta\").load(f\"{delta_onprem_path}/customer\").show(3)"
   ]
  },
  {
   "cell_type": "code",
   "execution_count": 0,
   "metadata": {
    "application/vnd.databricks.v1+cell": {
     "cellMetadata": {
      "byteLimit": 2048000,
      "rowLimit": 10000
     },
     "inputWidgets": {},
     "nuid": "5e0bd6f4-9851-4330-89ee-45bc9dd31057",
     "showTitle": false,
     "tableResultSettingsMap": {},
     "title": ""
    }
   },
   "outputs": [
    {
     "output_type": "stream",
     "name": "stdout",
     "output_type": "stream",
     "text": [
      "+--------+---------+----------+------+--------------------+--------------------+\n|ReviewID|ProductID|CustomerID|Rating|              Review| ingestion_timestamp|\n+--------+---------+----------+------+--------------------+--------------------+\n|       1|        1|         1|     5|The smartphone is...|2024-11-29 01:25:...|\n|       2|        2|         2|     4|Laptop performanc...|2024-11-29 01:25:...|\n+--------+---------+----------+------+--------------------+--------------------+\n\n"
     ]
    }
   ],
   "source": [
    "if DeltaTable.isDeltaTable(spark, f\"{delta_onprem_path}/customer_productreview\"):\n",
    "    existing_data = DeltaTable.forPath(spark, f\"{delta_onprem_path}/customer_productreview\")\n",
    "    \n",
    "    (existing_data.alias(\"existing\") \\\n",
    "        .merge(df_onprem_customer_productreview.alias(\"new\"), \"existing.ReviewID = new.ReviewID\") \\\n",
    "        .whenMatchedUpdateAll() \\\n",
    "        .whenNotMatchedInsertAll() \\\n",
    "        .execute())\n",
    "else:\n",
    "    df_onprem_customer_productreview.coalesce(1).write.format(\"delta\").mode(\"overwrite\").save(f\"{delta_onprem_path}/customer_productreview\")\n",
    "\n",
    "spark.read.format(\"delta\").load(f\"{delta_onprem_path}/customer_productreview\").show(3)"
   ]
  },
  {
   "cell_type": "code",
   "execution_count": 0,
   "metadata": {
    "application/vnd.databricks.v1+cell": {
     "cellMetadata": {
      "byteLimit": 2048000,
      "rowLimit": 10000
     },
     "inputWidgets": {},
     "nuid": "97264519-80af-46a9-a774-d3c70ad9abb7",
     "showTitle": false,
     "tableResultSettingsMap": {},
     "title": ""
    }
   },
   "outputs": [
    {
     "output_type": "stream",
     "name": "stdout",
     "output_type": "stream",
     "text": [
      "+--------+--------+----------+------+--------------------+--------------------+\n|ReviewID|SellerID|CustomerID|Rating|              Review| ingestion_timestamp|\n+--------+--------+----------+------+--------------------+--------------------+\n|       1|       1|         1|     5|Great service and...|2024-11-29 01:26:...|\n|       2|       2|         2|     4|Good quality prod...|2024-11-29 01:26:...|\n+--------+--------+----------+------+--------------------+--------------------+\n\n"
     ]
    }
   ],
   "source": [
    "if DeltaTable.isDeltaTable(spark, f\"{delta_onprem_path}/customer_sellerreview\"):\n",
    "    existing_data = DeltaTable.forPath(spark, f\"{delta_onprem_path}/customer_sellerreview\")\n",
    "    \n",
    "    (existing_data.alias(\"existing\") \\\n",
    "        .merge(df_onprem_customer_sellerreview.alias(\"new\"), \"existing.ReviewID = new.ReviewID\") \\\n",
    "        .whenMatchedUpdateAll() \\\n",
    "        .whenNotMatchedInsertAll() \\\n",
    "        .execute())\n",
    "else:\n",
    "    df_onprem_customer_sellerreview.coalesce(1).write.format(\"delta\").mode(\"overwrite\").save(f\"{delta_onprem_path}/customer_sellerreview\")\n",
    "\n",
    "spark.read.format(\"delta\").load(f\"{delta_onprem_path}/customer_sellerreview\").show(3)"
   ]
  },
  {
   "cell_type": "code",
   "execution_count": 0,
   "metadata": {
    "application/vnd.databricks.v1+cell": {
     "cellMetadata": {
      "byteLimit": 2048000,
      "rowLimit": 10000
     },
     "inputWidgets": {},
     "nuid": "86b64ae3-7604-4b1c-bd5e-ca6147e99ba2",
     "showTitle": false,
     "tableResultSettingsMap": {},
     "title": ""
    }
   },
   "outputs": [
    {
     "output_type": "stream",
     "name": "stdout",
     "output_type": "stream",
     "text": [
      "+-------+------------------+----------+--------+--------------------+\n|OrderID|PromotionProductID|CustomerID|Quantity| ingestion_timestamp|\n+-------+------------------+----------+--------+--------------------+\n|      1|                 1|         1|       2|2024-11-29 01:27:...|\n|      2|                 2|         2|       3|2024-11-29 01:27:...|\n+-------+------------------+----------+--------+--------------------+\n\n"
     ]
    }
   ],
   "source": [
    "if DeltaTable.isDeltaTable(spark, f\"{delta_onprem_path}/order\"):\n",
    "    existing_data = DeltaTable.forPath(spark, f\"{delta_onprem_path}/order\")\n",
    "    \n",
    "    (existing_data.alias(\"existing\") \\\n",
    "        .merge(df_onprem_order.alias(\"new\"), \"existing.OrderID = new.OrderID\") \\\n",
    "        .whenMatchedUpdateAll() \\\n",
    "        .whenNotMatchedInsertAll() \\\n",
    "        .execute())\n",
    "else:\n",
    "    df_onprem_order.coalesce(1).write.format(\"delta\").mode(\"overwrite\").save(f\"{delta_onprem_path}/order\")\n",
    "\n",
    "spark.read.format(\"delta\").load(f\"{delta_onprem_path}/order\").show(3)"
   ]
  },
  {
   "cell_type": "code",
   "execution_count": 0,
   "metadata": {
    "application/vnd.databricks.v1+cell": {
     "cellMetadata": {
      "byteLimit": 2048000,
      "rowLimit": 10000
     },
     "inputWidgets": {},
     "nuid": "d2a0902a-089b-4c79-8059-6fe9f743bfa4",
     "showTitle": false,
     "tableResultSettingsMap": {},
     "title": ""
    }
   },
   "outputs": [
    {
     "output_type": "stream",
     "name": "stdout",
     "output_type": "stream",
     "text": [
      "+---------+----------+-----------+-----------+--------------------+--------------------+\n|ProductID|CategoryID|ProductName|      Brand|      Specifications| ingestion_timestamp|\n+---------+----------+-----------+-----------+--------------------+--------------------+\n|        1|         2| Smartphone|  TechBrand|{\"screen_size\": \"...|2024-11-29 01:28:...|\n|        2|         2|     Laptop|  CompBrand|{\"processor\": \"In...|2024-11-29 01:28:...|\n|        3|         3|    T-Shirt|FashionWear|{\"sizes\": [\"S\", \"...|2024-11-29 01:28:...|\n+---------+----------+-----------+-----------+--------------------+--------------------+\nonly showing top 3 rows\n\n"
     ]
    }
   ],
   "source": [
    "if DeltaTable.isDeltaTable(spark, f\"{delta_onprem_path}/product\"):\n",
    "    existing_data = DeltaTable.forPath(spark, f\"{delta_onprem_path}/product\")\n",
    "    \n",
    "    (existing_data.alias(\"existing\") \\\n",
    "        .merge(df_onprem_product.alias(\"new\"), \"existing.ProductID = new.ProductID\") \\\n",
    "        .whenMatchedUpdateAll() \\\n",
    "        .whenNotMatchedInsertAll() \\\n",
    "        .execute())\n",
    "else:\n",
    "    df_onprem_product.coalesce(1).write.format(\"delta\").mode(\"overwrite\").save(f\"{delta_onprem_path}/product\")\n",
    "\n",
    "spark.read.format(\"delta\").load(f\"{delta_onprem_path}/product\").show(3)"
   ]
  },
  {
   "cell_type": "code",
   "execution_count": 0,
   "metadata": {
    "application/vnd.databricks.v1+cell": {
     "cellMetadata": {
      "byteLimit": 2048000,
      "rowLimit": 10000
     },
     "inputWidgets": {},
     "nuid": "aabb8ad8-441b-489a-b826-995163e2e33b",
     "showTitle": false,
     "tableResultSettingsMap": {},
     "title": ""
    }
   },
   "outputs": [
    {
     "output_type": "stream",
     "name": "stdout",
     "output_type": "stream",
     "text": [
      "+----------+------------+--------------------+\n|CategoryID|CategoryName| ingestion_timestamp|\n+----------+------------+--------------------+\n|         1|       Books|2024-11-29 01:30:...|\n|         2| Electronics|2024-11-29 01:30:...|\n|         3|    Clothing|2024-11-29 01:30:...|\n+----------+------------+--------------------+\nonly showing top 3 rows\n\n"
     ]
    }
   ],
   "source": [
    "if DeltaTable.isDeltaTable(spark, f\"{delta_onprem_path}/product_categories\"):\n",
    "    existing_data = DeltaTable.forPath(spark, f\"{delta_onprem_path}/product_categories\")\n",
    "    \n",
    "    (existing_data.alias(\"existing\") \\\n",
    "        .merge(df_onprem_product_categories.alias(\"new\"), \"existing.CategoryID = new.CategoryID\") \\\n",
    "        .whenMatchedUpdateAll() \\\n",
    "        .whenNotMatchedInsertAll() \\\n",
    "        .execute())\n",
    "else:\n",
    "    df_onprem_product_categories.coalesce(1).write.format(\"delta\").mode(\"overwrite\").save(f\"{delta_onprem_path}/product_categories\")\n",
    "\n",
    "spark.read.format(\"delta\").load(f\"{delta_onprem_path}/product_categories\").show(3)"
   ]
  },
  {
   "cell_type": "code",
   "execution_count": 0,
   "metadata": {
    "application/vnd.databricks.v1+cell": {
     "cellMetadata": {
      "byteLimit": 2048000,
      "rowLimit": 10000
     },
     "inputWidgets": {},
     "nuid": "93bbcd41-e65e-48a1-9130-a9a14bf7dcfe",
     "showTitle": false,
     "tableResultSettingsMap": {},
     "title": ""
    }
   },
   "outputs": [
    {
     "output_type": "stream",
     "name": "stdout",
     "output_type": "stream",
     "text": [
      "+----------------+-----------+--------------------+\n|ProductQualityID|QualityType| ingestion_timestamp|\n+----------------+-----------+--------------------+\n|               1|        New|2024-11-29 01:31:...|\n|               2|       Used|2024-11-29 01:31:...|\n|               3|   Like New|2024-11-29 01:31:...|\n+----------------+-----------+--------------------+\nonly showing top 3 rows\n\n"
     ]
    }
   ],
   "source": [
    "if DeltaTable.isDeltaTable(spark, f\"{delta_onprem_path}/product_quality\"):\n",
    "    existing_data = DeltaTable.forPath(spark, f\"{delta_onprem_path}/product_quality\")\n",
    "    \n",
    "    (existing_data.alias(\"existing\") \\\n",
    "        .merge(df_onprem_product_quality.alias(\"new\"), \"existing.ProductQualityID = new.ProductQualityID\") \\\n",
    "        .whenMatchedUpdateAll() \\\n",
    "        .whenNotMatchedInsertAll() \\\n",
    "        .execute())\n",
    "else:\n",
    "    df_onprem_product_quality.coalesce(1).write.format(\"delta\").mode(\"overwrite\").save(f\"{delta_onprem_path}/product_quality\")\n",
    "\n",
    "spark.read.format(\"delta\").load(f\"{delta_onprem_path}/product_quality\").show(3)"
   ]
  },
  {
   "cell_type": "code",
   "execution_count": 0,
   "metadata": {
    "application/vnd.databricks.v1+cell": {
     "cellMetadata": {
      "byteLimit": 2048000,
      "rowLimit": 10000
     },
     "inputWidgets": {},
     "nuid": "ad949bf8-3e97-4996-9965-cd4bce3a5c4f",
     "showTitle": false,
     "tableResultSettingsMap": {},
     "title": ""
    }
   },
   "outputs": [
    {
     "output_type": "stream",
     "name": "stdout",
     "output_type": "stream",
     "text": [
      "+-----------+--------------------+------------------+--------------------+\n|PromotionID|PromotionDescription|DiscountPercentage| ingestion_timestamp|\n+-----------+--------------------+------------------+--------------------+\n|          1|   Black Friday Sale|              20.0|2024-11-29 01:32:...|\n|          2|    Holiday Discount|              15.0|2024-11-29 01:32:...|\n+-----------+--------------------+------------------+--------------------+\n\n"
     ]
    }
   ],
   "source": [
    "if DeltaTable.isDeltaTable(spark, f\"{delta_onprem_path}/promotion\"):\n",
    "    existing_data = DeltaTable.forPath(spark, f\"{delta_onprem_path}/promotion\")\n",
    "    \n",
    "    (existing_data.alias(\"existing\") \\\n",
    "        .merge(df_onprem_promotion.alias(\"new\"), \"existing.PromotionID = new.PromotionID\") \\\n",
    "        .whenMatchedUpdateAll() \\\n",
    "        .whenNotMatchedInsertAll() \\\n",
    "        .execute())\n",
    "else:\n",
    "    df_onprem_promotion.coalesce(1).write.format(\"delta\").mode(\"overwrite\").save(f\"{delta_onprem_path}/promotion\")\n",
    "\n",
    "spark.read.format(\"delta\").load(f\"{delta_onprem_path}/promotion\").show(3)"
   ]
  },
  {
   "cell_type": "code",
   "execution_count": 0,
   "metadata": {
    "application/vnd.databricks.v1+cell": {
     "cellMetadata": {
      "byteLimit": 2048000,
      "rowLimit": 10000
     },
     "inputWidgets": {},
     "nuid": "333f7488-6129-4d20-8d42-de4be6d09856",
     "showTitle": false,
     "tableResultSettingsMap": {},
     "title": ""
    }
   },
   "outputs": [
    {
     "output_type": "stream",
     "name": "stdout",
     "output_type": "stream",
     "text": [
      "+--------+------------+--------------------+----------+-----------------+------------+---------+-------+----------+---------+--------------------+\n|SellerID|  SellerName|               Email|     Phone|     AddressLine1|AddressLine2|     City|StateID|PostalCode|CountryID| ingestion_timestamp|\n+--------+------------+--------------------+----------+-----------------+------------+---------+-------+----------+---------+--------------------+\n|       1|ElectroWorld|contact@electrowo...|1234567890|    789 Tech Park|            | New York|      3|     10001|        2|2024-11-29 01:32:...|\n|       2|  FashionHub|support@fashionhu...|0987654321|321 Market Street|            |Vancouver|      2|   V6B 1A1|        1|2024-11-29 01:32:...|\n+--------+------------+--------------------+----------+-----------------+------------+---------+-------+----------+---------+--------------------+\n\n"
     ]
    }
   ],
   "source": [
    "if DeltaTable.isDeltaTable(spark, f\"{delta_onprem_path}/seller\"):\n",
    "    existing_data = DeltaTable.forPath(spark, f\"{delta_onprem_path}/seller\")\n",
    "    \n",
    "    (existing_data.alias(\"existing\") \\\n",
    "        .merge(df_onprem_seller.alias(\"new\"), \"existing.SellerID = new.SellerID\") \\\n",
    "        .whenMatchedUpdateAll() \\\n",
    "        .whenNotMatchedInsertAll() \\\n",
    "        .execute())\n",
    "else:\n",
    "    df_onprem_seller.coalesce(1).write.format(\"delta\").mode(\"overwrite\").save(f\"{delta_onprem_path}/seller\")\n",
    "\n",
    "spark.read.format(\"delta\").load(f\"{delta_onprem_path}/seller\").show(3)"
   ]
  },
  {
   "cell_type": "code",
   "execution_count": 0,
   "metadata": {
    "application/vnd.databricks.v1+cell": {
     "cellMetadata": {
      "byteLimit": 2048000,
      "rowLimit": 10000
     },
     "inputWidgets": {},
     "nuid": "39463999-f3dd-4571-b218-e0a22ade7a89",
     "showTitle": false,
     "tableResultSettingsMap": {},
     "title": ""
    }
   },
   "outputs": [
    {
     "output_type": "stream",
     "name": "stdout",
     "output_type": "stream",
     "text": [
      "+------------------+---------+--------+----------------+------+-----------+--------------------+\n|PromotionProductID|ProductID|SellerID|ProductQualityID| Price|PromotionID| ingestion_timestamp|\n+------------------+---------+--------+----------------+------+-----------+--------------------+\n|                 1|        1|       1|               1|699.99|          1|2024-11-29 01:34:...|\n|                 2|        3|       2|               1| 19.99|          2|2024-11-29 01:34:...|\n+------------------+---------+--------+----------------+------+-----------+--------------------+\n\n"
     ]
    }
   ],
   "source": [
    "if DeltaTable.isDeltaTable(spark, f\"{delta_onprem_path}/seller_product_promotion\"):\n",
    "    existing_data = DeltaTable.forPath(spark, f\"{delta_onprem_path}/seller_product_promotion\")\n",
    "    \n",
    "    (existing_data.alias(\"existing\") \\\n",
    "        .merge(df_onprem_seller_product_promotion.alias(\"new\"), \"existing.PromotionProductID = new.PromotionProductID\") \\\n",
    "        .whenMatchedUpdateAll() \\\n",
    "        .whenNotMatchedInsertAll() \\\n",
    "        .execute())\n",
    "else:\n",
    "    df_onprem_seller_product_promotion.coalesce(1).write.format(\"delta\").mode(\"overwrite\").save(f\"{delta_onprem_path}/seller_product_promotion\")\n",
    "\n",
    "spark.read.format(\"delta\").load(f\"{delta_onprem_path}/seller_product_promotion\").show(3)"
   ]
  },
  {
   "cell_type": "code",
   "execution_count": 0,
   "metadata": {
    "application/vnd.databricks.v1+cell": {
     "cellMetadata": {
      "byteLimit": 2048000,
      "rowLimit": 10000
     },
     "inputWidgets": {},
     "nuid": "42f32016-d0e0-4424-8d69-f60f67232e1c",
     "showTitle": false,
     "tableResultSettingsMap": {},
     "title": ""
    }
   },
   "outputs": [
    {
     "output_type": "stream",
     "name": "stdout",
     "output_type": "stream",
     "text": [
      "+-------+----------------+---------+--------------------+\n|StateID|       StateName|CountryID| ingestion_timestamp|\n+-------+----------------+---------+--------------------+\n|      1|         Ontario|        1|2024-11-29 01:36:...|\n|      2|British Columbia|        1|2024-11-29 01:36:...|\n|      3|        New York|        2|2024-11-29 01:36:...|\n+-------+----------------+---------+--------------------+\nonly showing top 3 rows\n\n"
     ]
    }
   ],
   "source": [
    "if DeltaTable.isDeltaTable(spark, f\"{delta_onprem_path}/state_province_rolling\"):\n",
    "    existing_data = DeltaTable.forPath(spark, f\"{delta_onprem_path}/state_province_rolling\")\n",
    "    \n",
    "    (existing_data.alias(\"existing\") \\\n",
    "        .merge(df_onprem_state_province_rolling.alias(\"new\"), \"existing.StateID = new.StateID\") \\\n",
    "        .whenMatchedUpdateAll() \\\n",
    "        .whenNotMatchedInsertAll() \\\n",
    "        .execute())\n",
    "else:\n",
    "    df_onprem_state_province_rolling.coalesce(1).write.format(\"delta\").mode(\"overwrite\").save(f\"{delta_onprem_path}/state_province_rolling\")\n",
    "\n",
    "spark.read.format(\"delta\").load(f\"{delta_onprem_path}/state_province_rolling\").show(3)"
   ]
  },
  {
   "cell_type": "code",
   "execution_count": 0,
   "metadata": {
    "application/vnd.databricks.v1+cell": {
     "cellMetadata": {},
     "inputWidgets": {},
     "nuid": "61c0fed7-c6ca-4366-ae72-25491622885c",
     "showTitle": false,
     "tableResultSettingsMap": {},
     "title": ""
    }
   },
   "outputs": [],
   "source": []
  }
 ],
 "metadata": {
  "application/vnd.databricks.v1+notebook": {
   "dashboards": [],
   "environmentMetadata": {
    "base_environment": "",
    "client": "1"
   },
   "language": "python",
   "notebookMetadata": {
    "pythonIndentUnit": 4
   },
   "notebookName": "data_cleaning",
   "widgets": {}
  },
  "language_info": {
   "name": "python"
  }
 },
 "nbformat": 4,
 "nbformat_minor": 0
}