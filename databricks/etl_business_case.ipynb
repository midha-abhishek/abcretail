{
 "cells": [
  {
   "cell_type": "markdown",
   "metadata": {
    "application/vnd.databricks.v1+cell": {
     "cellMetadata": {
      "byteLimit": 2048000,
      "rowLimit": 10000
     },
     "inputWidgets": {},
     "nuid": "30ed0656-dbc7-4176-8a7a-a0924d926d6b",
     "showTitle": false,
     "tableResultSettingsMap": {},
     "title": ""
    }
   },
   "source": [
    "# Connecting to the Storage Account and Mounting Locally"
   ]
  },
  {
   "cell_type": "code",
   "execution_count": 0,
   "metadata": {
    "application/vnd.databricks.v1+cell": {
     "cellMetadata": {
      "byteLimit": 2048000,
      "rowLimit": 10000
     },
     "inputWidgets": {},
     "nuid": "2231dab8-14e6-41d4-971e-008408ccd607",
     "showTitle": false,
     "tableResultSettingsMap": {},
     "title": ""
    }
   },
   "outputs": [
    {
     "output_type": "execute_result",
     "data": {
      "text/plain": [
       "[SecretScope(name='abcretail_secretScope')]"
      ]
     },
     "execution_count": 1,
     "metadata": {},
     "output_type": "execute_result"
    }
   ],
   "source": [
    "dbutils.secrets.listScopes()"
   ]
  },
  {
   "cell_type": "code",
   "execution_count": 0,
   "metadata": {
    "application/vnd.databricks.v1+cell": {
     "cellMetadata": {
      "byteLimit": 2048000,
      "rowLimit": 10000
     },
     "inputWidgets": {},
     "nuid": "e1213087-578f-437f-b2db-7f32aa893914",
     "showTitle": false,
     "tableResultSettingsMap": {},
     "title": ""
    }
   },
   "outputs": [],
   "source": [
    "secret_scope = \"abcretail_secretScope\""
   ]
  },
  {
   "cell_type": "code",
   "execution_count": 0,
   "metadata": {
    "application/vnd.databricks.v1+cell": {
     "cellMetadata": {
      "byteLimit": 2048000,
      "rowLimit": 10000
     },
     "inputWidgets": {},
     "nuid": "1f8caf05-59a3-4bbb-a114-013e2a685791",
     "showTitle": false,
     "tableResultSettingsMap": {},
     "title": ""
    }
   },
   "outputs": [
    {
     "output_type": "execute_result",
     "data": {
      "text/plain": [
       "[SecretMetadata(key='azure-sql-server-password'),\n",
       " SecretMetadata(key='client-id'),\n",
       " SecretMetadata(key='client-secret'),\n",
       " SecretMetadata(key='databricks-token'),\n",
       " SecretMetadata(key='directory-id'),\n",
       " SecretMetadata(key='onprem-sqlserver-password')]"
      ]
     },
     "execution_count": 3,
     "metadata": {},
     "output_type": "execute_result"
    }
   ],
   "source": [
    "dbutils.secrets.list(secret_scope)"
   ]
  },
  {
   "cell_type": "code",
   "execution_count": 0,
   "metadata": {
    "application/vnd.databricks.v1+cell": {
     "cellMetadata": {
      "byteLimit": 2048000,
      "rowLimit": 10000
     },
     "inputWidgets": {},
     "nuid": "0de25346-e5e8-42b1-9f14-e28baac3365c",
     "showTitle": false,
     "tableResultSettingsMap": {},
     "title": ""
    }
   },
   "outputs": [],
   "source": [
    "client_id = dbutils.secrets.get(secret_scope, \"client-id\")\n",
    "client_secret = dbutils.secrets.get(secret_scope, \"client-secret\")\n",
    "directory_id = dbutils.secrets.get(secret_scope, \"directory-id\")"
   ]
  },
  {
   "cell_type": "code",
   "execution_count": 0,
   "metadata": {
    "application/vnd.databricks.v1+cell": {
     "cellMetadata": {
      "byteLimit": 2048000,
      "rowLimit": 10000
     },
     "inputWidgets": {},
     "nuid": "d7b514b6-80eb-4f48-a4e1-6e7b9edae847",
     "showTitle": false,
     "tableResultSettingsMap": {},
     "title": ""
    }
   },
   "outputs": [],
   "source": [
    "configs = {\n",
    "    \"fs.azure.account.auth.type\": \"OAuth\",\n",
    "    \"fs.azure.account.oauth.provider.type\": \"org.apache.hadoop.fs.azurebfs.oauth2.ClientCredsTokenProvider\",\n",
    "    \"fs.azure.account.oauth2.client.id\": client_id,\n",
    "    \"fs.azure.account.oauth2.client.secret\": client_secret,\n",
    "    \"fs.azure.account.oauth2.client.endpoint\": f\"https://login.microsoftonline.com/{directory_id}/oauth2/token\"\n",
    "}"
   ]
  },
  {
   "cell_type": "code",
   "execution_count": 0,
   "metadata": {
    "application/vnd.databricks.v1+cell": {
     "cellMetadata": {
      "byteLimit": 2048000,
      "rowLimit": 10000
     },
     "inputWidgets": {},
     "nuid": "7c5d689e-8656-4b33-aabb-91e08888a612",
     "showTitle": false,
     "tableResultSettingsMap": {},
     "title": ""
    }
   },
   "outputs": [],
   "source": [
    "storage_account = \"dlsaabcretail\"\n",
    "\n",
    "container_source = \"curated\"\n",
    "container_target = \"staging\"\n",
    "\n",
    "source_link = f\"abfss://{container_source}@{storage_account}.dfs.core.windows.net/\"\n",
    "mount_point_source = f\"/mnt/{storage_account}/{container_source}\"\n",
    "\n",
    "target_link = f\"abfss://{container_target}@{storage_account}.dfs.core.windows.net/\"\n",
    "mount_point_target = f\"/mnt/{storage_account}/{container_target}\""
   ]
  },
  {
   "cell_type": "markdown",
   "metadata": {
    "application/vnd.databricks.v1+cell": {
     "cellMetadata": {
      "byteLimit": 2048000,
      "rowLimit": 10000
     },
     "inputWidgets": {},
     "nuid": "d3d4bd56-1236-4742-a2b8-cb5172707b3c",
     "showTitle": false,
     "tableResultSettingsMap": {},
     "title": ""
    }
   },
   "source": [
    "## Mounting the Source Container: \"curated\""
   ]
  },
  {
   "cell_type": "code",
   "execution_count": 0,
   "metadata": {
    "application/vnd.databricks.v1+cell": {
     "cellMetadata": {
      "byteLimit": 2048000,
      "rowLimit": 10000
     },
     "inputWidgets": {},
     "nuid": "9d65d806-a527-4271-923e-00e990944777",
     "showTitle": false,
     "tableResultSettingsMap": {},
     "title": ""
    }
   },
   "outputs": [
    {
     "output_type": "stream",
     "name": "stdout",
     "output_type": "stream",
     "text": [
      "/mnt/dlsaabcretail/curated has been unmounted.\nUnmount existing mount at /mnt/dlsaabcretail/curated\nMounted successfully at /mnt/dlsaabcretail/curated\n"
     ]
    }
   ],
   "source": [
    "# Checking if any existing mount points in dbutils.fs.mounts() match the desired mount point\n",
    "if any(mount.mountPoint == mount_point_source for mount in dbutils.fs.mounts()):\n",
    "  # If a mount point exists, unmount it\n",
    "  dbutils.fs.unmount(mount_point_source)\n",
    "  print(f\"Unmount existing mount at {mount_point_source}\")\n",
    "\n",
    "# Try to mount the new source to the specified mount point\n",
    "try:\n",
    "  dbutils.fs.mount(\n",
    "    source = source_link,\n",
    "    mount_point = mount_point_source,\n",
    "    extra_configs = configs\n",
    "  )\n",
    "  print(f\"Mounted successfully at {mount_point_source}\")\n",
    "\n",
    "# If an error occurs during the mount process, handle the exception\n",
    "except Exception as e:\n",
    "  print(f\"Error mounting: {mount_point_source}\")"
   ]
  },
  {
   "cell_type": "markdown",
   "metadata": {
    "application/vnd.databricks.v1+cell": {
     "cellMetadata": {
      "byteLimit": 2048000,
      "rowLimit": 10000
     },
     "inputWidgets": {},
     "nuid": "ca1926e6-97d6-4182-b259-8450f80f6c77",
     "showTitle": false,
     "tableResultSettingsMap": {},
     "title": ""
    }
   },
   "source": [
    "## Mounting the Target Container: \"staging\""
   ]
  },
  {
   "cell_type": "code",
   "execution_count": 0,
   "metadata": {
    "application/vnd.databricks.v1+cell": {
     "cellMetadata": {
      "byteLimit": 2048000,
      "rowLimit": 10000
     },
     "inputWidgets": {},
     "nuid": "dbf9c1ca-b7c8-43da-9ea9-9b74548a3ed5",
     "showTitle": false,
     "tableResultSettingsMap": {},
     "title": ""
    }
   },
   "outputs": [
    {
     "output_type": "stream",
     "name": "stdout",
     "output_type": "stream",
     "text": [
      "/mnt/dlsaabcretail/staging has been unmounted.\nUnmount existing mount at /mnt/dlsaabcretail/staging\nMounted successfully at /mnt/dlsaabcretail/staging\n"
     ]
    }
   ],
   "source": [
    "if any(mount.mountPoint == mount_point_target for mount in dbutils.fs.mounts()):\n",
    "  dbutils.fs.unmount(mount_point_target)\n",
    "  print(f\"Unmount existing mount at {mount_point_target}\")\n",
    "\n",
    "try:\n",
    "  dbutils.fs.mount(\n",
    "    source = target_link,\n",
    "    mount_point = mount_point_target,\n",
    "    extra_configs = configs\n",
    "  )\n",
    "  print(f\"Mounted successfully at {mount_point_target}\")\n",
    "except Exception as e:\n",
    "  print(f\"Error mounting: {mount_point_target}\")"
   ]
  },
  {
   "cell_type": "markdown",
   "metadata": {
    "application/vnd.databricks.v1+cell": {
     "cellMetadata": {},
     "inputWidgets": {},
     "nuid": "34a5ee24-d50a-49bf-9104-b87c60847d72",
     "showTitle": false,
     "tableResultSettingsMap": {},
     "title": ""
    }
   },
   "source": [
    "# Importing Python Packages, Libraries, Functions and Methods"
   ]
  },
  {
   "cell_type": "code",
   "execution_count": 0,
   "metadata": {
    "application/vnd.databricks.v1+cell": {
     "cellMetadata": {
      "byteLimit": 2048000,
      "rowLimit": 10000
     },
     "inputWidgets": {},
     "nuid": "007d44a5-0450-43c1-94ba-9683c31702e5",
     "showTitle": false,
     "tableResultSettingsMap": {},
     "title": ""
    }
   },
   "outputs": [],
   "source": [
    "# from pyspark.sql.functions import current_timestamp, col, row_number\n",
    "# from pyspark.sql.window import Window\n",
    "# from pyspark.sql.types import IntegerType, StringType, DecimalType, BooleanType, DoubleType, BinaryType\n",
    "from delta.tables import DeltaTable"
   ]
  },
  {
   "cell_type": "markdown",
   "metadata": {
    "application/vnd.databricks.v1+cell": {
     "cellMetadata": {
      "byteLimit": 2048000,
      "rowLimit": 10000
     },
     "inputWidgets": {},
     "nuid": "57a12aba-5923-420d-8ae3-18386e44ec38",
     "showTitle": false,
     "tableResultSettingsMap": {},
     "title": ""
    }
   },
   "source": [
    "# Creating File Lists"
   ]
  },
  {
   "cell_type": "code",
   "execution_count": 0,
   "metadata": {
    "application/vnd.databricks.v1+cell": {
     "cellMetadata": {
      "byteLimit": 2048000,
      "rowLimit": 10000
     },
     "inputWidgets": {},
     "nuid": "ceab07df-1054-4fe9-aeab-f993cfb37e4e",
     "showTitle": false,
     "tableResultSettingsMap": {},
     "title": ""
    }
   },
   "outputs": [
    {
     "output_type": "execute_result",
     "data": {
      "text/plain": [
       "[FileInfo(path='dbfs:/mnt/dlsaabcretail/curated/delta/http/accessories/', name='accessories/', size=0, modificationTime=1732841601000),\n",
       " FileInfo(path='dbfs:/mnt/dlsaabcretail/curated/delta/http/clothing/', name='clothing/', size=0, modificationTime=1732841754000),\n",
       " FileInfo(path='dbfs:/mnt/dlsaabcretail/curated/delta/http/footwear/', name='footwear/', size=0, modificationTime=1732841869000),\n",
       " FileInfo(path='dbfs:/mnt/dlsaabcretail/curated/delta/http/home_decor/', name='home_decor/', size=0, modificationTime=1732841924000)]"
      ]
     },
     "execution_count": 12,
     "metadata": {},
     "output_type": "execute_result"
    }
   ],
   "source": [
    "dbutils.fs.ls(f\"{mount_point_source}/delta/http\")"
   ]
  },
  {
   "cell_type": "code",
   "execution_count": 0,
   "metadata": {
    "application/vnd.databricks.v1+cell": {
     "cellMetadata": {
      "byteLimit": 2048000,
      "rowLimit": 10000
     },
     "inputWidgets": {},
     "nuid": "e162e4cc-e108-4e78-8fc3-1d79534d03a1",
     "showTitle": false,
     "tableResultSettingsMap": {},
     "title": ""
    }
   },
   "outputs": [],
   "source": [
    "http_Accessories_files = [file.path for file in dbutils.fs.ls(f\"{mount_point_source}/delta/http/accessories\") if \".parquet\" in file.name]\n",
    "http_Clothing_files = [file.path for file in dbutils.fs.ls(f\"{mount_point_source}/delta/http/clothing\") if \".parquet\" in file.name]\n",
    "http_Footwear_files = [file.path for file in dbutils.fs.ls(f\"{mount_point_source}/delta/http/footwear\") if \".parquet\" in file.name]\n",
    "http_HomeDecor_files = [file.path for file in dbutils.fs.ls(f\"{mount_point_source}/delta/http/home_decor\") if \".parquet\" in file.name]"
   ]
  },
  {
   "cell_type": "code",
   "execution_count": 0,
   "metadata": {
    "application/vnd.databricks.v1+cell": {
     "cellMetadata": {
      "byteLimit": 2048000,
      "rowLimit": 10000
     },
     "inputWidgets": {},
     "nuid": "e4fad58b-f863-48a7-956d-bdd483d187b2",
     "showTitle": false,
     "tableResultSettingsMap": {},
     "title": ""
    }
   },
   "outputs": [
    {
     "output_type": "execute_result",
     "data": {
      "text/plain": [
       "[FileInfo(path='dbfs:/mnt/dlsaabcretail/curated/delta/azsqldb/address/', name='address/', size=0, modificationTime=1732842109000),\n",
       " FileInfo(path='dbfs:/mnt/dlsaabcretail/curated/delta/azsqldb/customer/', name='customer/', size=0, modificationTime=1732842196000),\n",
       " FileInfo(path='dbfs:/mnt/dlsaabcretail/curated/delta/azsqldb/customer_address/', name='customer_address/', size=0, modificationTime=1732842507000),\n",
       " FileInfo(path='dbfs:/mnt/dlsaabcretail/curated/delta/azsqldb/product/', name='product/', size=0, modificationTime=1732842598000),\n",
       " FileInfo(path='dbfs:/mnt/dlsaabcretail/curated/delta/azsqldb/product_category/', name='product_category/', size=0, modificationTime=1732842669000),\n",
       " FileInfo(path='dbfs:/mnt/dlsaabcretail/curated/delta/azsqldb/product_description/', name='product_description/', size=0, modificationTime=1732842752000),\n",
       " FileInfo(path='dbfs:/mnt/dlsaabcretail/curated/delta/azsqldb/product_model/', name='product_model/', size=0, modificationTime=1732842853000),\n",
       " FileInfo(path='dbfs:/mnt/dlsaabcretail/curated/delta/azsqldb/productmodel_productdescription/', name='productmodel_productdescription/', size=0, modificationTime=1732842962000),\n",
       " FileInfo(path='dbfs:/mnt/dlsaabcretail/curated/delta/azsqldb/salesorder_detail/', name='salesorder_detail/', size=0, modificationTime=1732843158000),\n",
       " FileInfo(path='dbfs:/mnt/dlsaabcretail/curated/delta/azsqldb/salesorder_header/', name='salesorder_header/', size=0, modificationTime=1732843211000)]"
      ]
     },
     "execution_count": 14,
     "metadata": {},
     "output_type": "execute_result"
    }
   ],
   "source": [
    "dbutils.fs.ls(f\"{mount_point_source}/delta/azsqldb\")"
   ]
  },
  {
   "cell_type": "code",
   "execution_count": 0,
   "metadata": {
    "application/vnd.databricks.v1+cell": {
     "cellMetadata": {
      "byteLimit": 2048000,
      "rowLimit": 10000
     },
     "inputWidgets": {},
     "nuid": "0626c052-77df-488e-a4b0-0a11b6769980",
     "showTitle": false,
     "tableResultSettingsMap": {},
     "title": ""
    }
   },
   "outputs": [],
   "source": [
    "azsqldb_Address_files = [file.path for file in dbutils.fs.ls(f\"{mount_point_source}/delta/azsqldb/address\") if \".parquet\" in file.name]\n",
    "azsqldb_Customer_files = [file.path for file in dbutils.fs.ls(f\"{mount_point_source}/delta/azsqldb/customer\") if \".parquet\" in file.name]\n",
    "azsqldb_CustomerAddress_files = [file.path for file in dbutils.fs.ls(f\"{mount_point_source}/delta/azsqldb/customer_address\") if \".parquet\" in file.name]\n",
    "azsqldb_Product_files = [file.path for file in dbutils.fs.ls(f\"{mount_point_source}/delta/azsqldb/product\") if \".parquet\" in file.name]\n",
    "azsqldb_ProductCategory_files = [file.path for file in dbutils.fs.ls(f\"{mount_point_source}/delta/azsqldb/product_category\") if \".parquet\" in file.name]\n",
    "azsqldb_ProductDescription_files = [file.path for file in dbutils.fs.ls(f\"{mount_point_source}/delta/azsqldb/product_description\") if \".parquet\" in file.name]\n",
    "azsqldb_ProductModel_files = [file.path for file in dbutils.fs.ls(f\"{mount_point_source}/delta/azsqldb/product_model\") if \".parquet\" in file.name]\n",
    "azsqldb_ProductModelProductDescription_files = [file.path for file in dbutils.fs.ls(f\"{mount_point_source}/delta/azsqldb/productmodel_productdescription\") if \".parquet\" in file.name]\n",
    "azsqldb_SalesOrderDetail_files = [file.path for file in dbutils.fs.ls(f\"{mount_point_source}/delta/azsqldb/salesorder_detail\") if \".parquet\" in file.name]\n",
    "azsqldb_SalesOrderHeader_files = [file.path for file in dbutils.fs.ls(f\"{mount_point_source}/delta/azsqldb/salesorder_header\") if \".parquet\" in file.name]"
   ]
  },
  {
   "cell_type": "code",
   "execution_count": 0,
   "metadata": {
    "application/vnd.databricks.v1+cell": {
     "cellMetadata": {
      "byteLimit": 2048000,
      "rowLimit": 10000
     },
     "inputWidgets": {},
     "nuid": "023b9c06-7410-4755-962d-50cfeb4b57f5",
     "showTitle": false,
     "tableResultSettingsMap": {},
     "title": ""
    }
   },
   "outputs": [
    {
     "output_type": "execute_result",
     "data": {
      "text/plain": [
       "[FileInfo(path='dbfs:/mnt/dlsaabcretail/curated/delta/onprem/country_rolling/', name='country_rolling/', size=0, modificationTime=1732846892000),\n",
       " FileInfo(path='dbfs:/mnt/dlsaabcretail/curated/delta/onprem/customer/', name='customer/', size=0, modificationTime=1732846896000),\n",
       " FileInfo(path='dbfs:/mnt/dlsaabcretail/curated/delta/onprem/customer_productreview/', name='customer_productreview/', size=0, modificationTime=1732846900000),\n",
       " FileInfo(path='dbfs:/mnt/dlsaabcretail/curated/delta/onprem/customer_sellerreview/', name='customer_sellerreview/', size=0, modificationTime=1732846903000),\n",
       " FileInfo(path='dbfs:/mnt/dlsaabcretail/curated/delta/onprem/order/', name='order/', size=0, modificationTime=1732846907000),\n",
       " FileInfo(path='dbfs:/mnt/dlsaabcretail/curated/delta/onprem/product/', name='product/', size=0, modificationTime=1732846910000),\n",
       " FileInfo(path='dbfs:/mnt/dlsaabcretail/curated/delta/onprem/product_categories/', name='product_categories/', size=0, modificationTime=1732846913000),\n",
       " FileInfo(path='dbfs:/mnt/dlsaabcretail/curated/delta/onprem/product_quality/', name='product_quality/', size=0, modificationTime=1732846916000),\n",
       " FileInfo(path='dbfs:/mnt/dlsaabcretail/curated/delta/onprem/promotion/', name='promotion/', size=0, modificationTime=1732846920000),\n",
       " FileInfo(path='dbfs:/mnt/dlsaabcretail/curated/delta/onprem/seller/', name='seller/', size=0, modificationTime=1732846923000),\n",
       " FileInfo(path='dbfs:/mnt/dlsaabcretail/curated/delta/onprem/seller_product_promotion/', name='seller_product_promotion/', size=0, modificationTime=1732846926000),\n",
       " FileInfo(path='dbfs:/mnt/dlsaabcretail/curated/delta/onprem/state_province_rolling/', name='state_province_rolling/', size=0, modificationTime=1732846931000)]"
      ]
     },
     "execution_count": 16,
     "metadata": {},
     "output_type": "execute_result"
    }
   ],
   "source": [
    "dbutils.fs.ls(f\"{mount_point_source}/delta/onprem\")"
   ]
  },
  {
   "cell_type": "code",
   "execution_count": 0,
   "metadata": {
    "application/vnd.databricks.v1+cell": {
     "cellMetadata": {
      "byteLimit": 2048000,
      "rowLimit": 10000
     },
     "inputWidgets": {},
     "nuid": "c90786f4-bafd-44a3-89ec-380fd5df202e",
     "showTitle": false,
     "tableResultSettingsMap": {},
     "title": ""
    }
   },
   "outputs": [],
   "source": [
    "onprem_CountryRolling_files = [file.path for file in dbutils.fs.ls(f\"{mount_point_source}/delta/onprem/country_rolling\") if \".parquet\" in file.name]\n",
    "onprem_Customer_files = [file.path for file in dbutils.fs.ls(f\"{mount_point_source}/delta/onprem/customer\") if \".parquet\" in file.name]\n",
    "onprem_CustomerProductReview_files = [file.path for file in dbutils.fs.ls(f\"{mount_point_source}/delta/onprem/customer_productreview\") if \".parquet\" in file.name]\n",
    "onprem_CustomerSellerReview_files = [file.path for file in dbutils.fs.ls(f\"{mount_point_source}/delta/onprem/customer_sellerreview\") if \".parquet\" in file.name]\n",
    "onprem_Order_files = [file.path for file in dbutils.fs.ls(f\"{mount_point_source}/delta/onprem/order\") if \".parquet\" in file.name]\n",
    "onprem_Product_files = [file.path for file in dbutils.fs.ls(f\"{mount_point_source}/delta/onprem/product\") if \".parquet\" in file.name]\n",
    "onprem_ProductCategories_files = [file.path for file in dbutils.fs.ls(f\"{mount_point_source}/delta/onprem/product_categories\") if \".parquet\" in file.name]\n",
    "onprem_ProductQuality_files = [file.path for file in dbutils.fs.ls(f\"{mount_point_source}/delta/onprem/product_quality\") if \".parquet\" in file.name]\n",
    "onprem_Promotion_files = [file.path for file in dbutils.fs.ls(f\"{mount_point_source}/delta/onprem/promotion\") if \".parquet\" in file.name]\n",
    "onprem_Seller_files = [file.path for file in dbutils.fs.ls(f\"{mount_point_source}/delta/onprem/seller\") if \".parquet\" in file.name]\n",
    "onprem_SellerProductPromotion_files = [file.path for file in dbutils.fs.ls(f\"{mount_point_source}/delta/onprem/seller_product_promotion\") if \".parquet\" in file.name]\n",
    "onprem_StateProvinceRolling_files = [file.path for file in dbutils.fs.ls(f\"{mount_point_source}/delta/onprem/state_province_rolling\") if \".parquet\" in file.name]"
   ]
  },
  {
   "cell_type": "markdown",
   "metadata": {
    "application/vnd.databricks.v1+cell": {
     "cellMetadata": {
      "byteLimit": 2048000,
      "rowLimit": 10000
     },
     "inputWidgets": {},
     "nuid": "7b2d5793-5048-4453-b761-74bc16968b81",
     "showTitle": false,
     "tableResultSettingsMap": {},
     "title": ""
    }
   },
   "source": [
    "# ETL"
   ]
  },
  {
   "cell_type": "markdown",
   "metadata": {
    "application/vnd.databricks.v1+cell": {
     "cellMetadata": {
      "byteLimit": 2048000,
      "rowLimit": 10000
     },
     "inputWidgets": {},
     "nuid": "e7c9dd45-8717-42de-aeb9-f0ab0a6ad8dd",
     "showTitle": false,
     "tableResultSettingsMap": {},
     "title": ""
    }
   },
   "source": [
    "## Reading and Merging All Four Softline Datasets From the HTTP API Into One Dataset"
   ]
  },
  {
   "cell_type": "code",
   "execution_count": 0,
   "metadata": {
    "application/vnd.databricks.v1+cell": {
     "cellMetadata": {
      "byteLimit": 2048000,
      "rowLimit": 10000
     },
     "inputWidgets": {},
     "nuid": "82e533f9-f682-4f24-a85c-8c984102ad4a",
     "showTitle": false,
     "tableResultSettingsMap": {},
     "title": ""
    }
   },
   "outputs": [
    {
     "output_type": "stream",
     "name": "stdout",
     "output_type": "stream",
     "text": [
      "+---------+-----------+-----------+--------------------+-----------------+------------+-----------------+------+--------------------+--------------------+\n|ProductID|   Category|SubCategory|         ProductName|            Brand|       Sizes|           Colors| Price|         Description| ingestion_timestamp|\n+---------+-----------+-----------+--------------------+-----------------+------------+-----------------+------+--------------------+--------------------+\n|        4|Accessories|    Watches|Luxury Leather Watch|    Timepiece Co.|[\"One Size\"]|[\"Brown\",\"Black\"]|149.99|A timeless leathe...|2024-11-29 02:19:...|\n|        5|Accessories|    Jewelry|Silver Pendant Ne...|      ShinyThings|[\"One Size\"]|       [\"Silver\"]| 39.99|A delicate silver...|2024-11-29 02:19:...|\n|        6|Accessories|       Bags|    Leather Backpack|Traveler's Choice|  [\"Medium\"]|[\"Brown\",\"Black\"]| 89.99|A durable leather...|2024-11-29 02:19:...|\n+---------+-----------+-----------+--------------------+-----------------+------------+-----------------+------+--------------------+--------------------+\nonly showing top 3 rows\n\n"
     ]
    }
   ],
   "source": [
    "df_http_clothing = spark.read.format(\"delta\").load(*http_Accessories_files, header=True)\n",
    "df_http_accessories.show(3)"
   ]
  },
  {
   "cell_type": "code",
   "execution_count": 0,
   "metadata": {
    "application/vnd.databricks.v1+cell": {
     "cellMetadata": {
      "byteLimit": 2048000,
      "rowLimit": 10000
     },
     "inputWidgets": {},
     "nuid": "e79e5b45-e89c-4a09-84cf-e96020c59237",
     "showTitle": false,
     "tableResultSettingsMap": {},
     "title": ""
    }
   },
   "outputs": [
    {
     "output_type": "stream",
     "name": "stdout",
     "output_type": "stream",
     "text": [
      "+---------+--------+-----------+--------------------+------------+------------------+--------------------+-----+--------------------+--------------------+\n|ProductID|Category|SubCategory|         ProductName|       Brand|             Sizes|              Colors|Price|         Description| ingestion_timestamp|\n+---------+--------+-----------+--------------------+------------+------------------+--------------------+-----+--------------------+--------------------+\n|        1|Clothing|   Menswear|    Slim Fit T-Shirt| FashionWear|[\"S\",\"M\",\"L\",\"XL\"]|[\"Red\",\"Blue\",\"Bl...|29.99|A stylish slim-fi...|2024-11-29 02:20:...|\n|        2|Clothing| Womenswear| Floral Summer Dress|ElegantStyle|     [\"S\",\"M\",\"L\"]|[\"White\",\"Yellow\"...|49.99|A light and breez...|2024-11-29 02:20:...|\n|        3|Clothing|  Outerwear|Classic Denim Jacket|   UrbanEdge|    [\"M\",\"L\",\"XL\"]|    [\"Blue\",\"Black\"]|69.99|A classic denim j...|2024-11-29 02:20:...|\n+---------+--------+-----------+--------------------+------------+------------------+--------------------+-----+--------------------+--------------------+\nonly showing top 3 rows\n\n"
     ]
    }
   ],
   "source": [
    "df_http_clothing = spark.read.format(\"delta\").load(*http_Clothing_files, header=True)\n",
    "df_http_clothing.show(3)"
   ]
  },
  {
   "cell_type": "code",
   "execution_count": 0,
   "metadata": {
    "application/vnd.databricks.v1+cell": {
     "cellMetadata": {
      "byteLimit": 2048000,
      "rowLimit": 10000
     },
     "inputWidgets": {},
     "nuid": "831ffcf8-c512-4a5e-93ef-bdaa4a8ef6a2",
     "showTitle": false,
     "tableResultSettingsMap": {},
     "title": ""
    }
   },
   "outputs": [
    {
     "output_type": "stream",
     "name": "stdout",
     "output_type": "stream",
     "text": [
      "+---------+--------+-----------+-----------------+-----------+--------------------+--------------------+-----+--------------------+--------------------+\n|ProductID|Category|SubCategory|      ProductName|      Brand|               Sizes|              Colors|Price|         Description| ingestion_timestamp|\n+---------+--------+-----------+-----------------+-----------+--------------------+--------------------+-----+--------------------+--------------------+\n|        7|Footwear|   Menswear|    Running Shoes| SpeedTrack|[\"8\",\"9\",\"10\",\"11...|[\"White\",\"Blue\",\"...|79.99|Lightweight runni...|2024-11-29 02:20:...|\n|        8|Footwear| Womenswear|High Heel Sandals|  StyleStep|[\"5\",\"6\",\"7\",\"8\",...|[\"Black\",\"Red\",\"G...|59.99|Elegant high-heel...|2024-11-29 02:20:...|\n|        9|Footwear|     Unisex|  Casual Sneakers|ComfortWalk|[\"6\",\"7\",\"8\",\"9\",...|[\"Gray\",\"Black\",\"...|49.99|Comfortable sneak...|2024-11-29 02:20:...|\n+---------+--------+-----------+-----------------+-----------+--------------------+--------------------+-----+--------------------+--------------------+\nonly showing top 3 rows\n\n"
     ]
    }
   ],
   "source": [
    "df_http_clothing = spark.read.format(\"delta\").load(*http_Footwear_files, header=True)\n",
    "df_http_footwear.show(3)"
   ]
  },
  {
   "cell_type": "code",
   "execution_count": 0,
   "metadata": {
    "application/vnd.databricks.v1+cell": {
     "cellMetadata": {
      "byteLimit": 2048000,
      "rowLimit": 10000
     },
     "inputWidgets": {},
     "nuid": "39541478-3b0c-4a6e-b97d-4efb93173614",
     "showTitle": false,
     "tableResultSettingsMap": {},
     "title": ""
    }
   },
   "outputs": [
    {
     "output_type": "stream",
     "name": "stdout",
     "output_type": "stream",
     "text": [
      "+---------+----------+-----------+--------------------+--------------+------------------+-----------------+------+--------------------+--------------------+\n|ProductID|  Category|SubCategory|         ProductName|         Brand|             Sizes|           Colors| Price|         Description| ingestion_timestamp|\n+---------+----------+-----------+--------------------+--------------+------------------+-----------------+------+--------------------+--------------------+\n|       10|Home Decor|   Lighting|   Modern Table Lamp|   BrightHomes|      [\"One Size\"]|[\"White\",\"Black\"]| 39.99|A sleek and moder...|2024-11-29 02:20:...|\n|       11|Home Decor|   Wall Art|Abstract Canvas P...|Artistic Vibes|[\"Medium\",\"Large\"]|   [\"Multicolor\"]| 99.99|A vibrant abstrac...|2024-11-29 02:20:...|\n|       12|Home Decor|  Furniture| Wooden Coffee Table|  Rustic Charm|      [\"One Size\"]|[\"Brown\",\"Black\"]|129.99|A stylish wooden ...|2024-11-29 02:20:...|\n+---------+----------+-----------+--------------------+--------------+------------------+-----------------+------+--------------------+--------------------+\nonly showing top 3 rows\n\n"
     ]
    }
   ],
   "source": [
    "df_http_clothing = spark.read.format(\"delta\").load(*http_HomeDecor_files, header=True)\n",
    "df_http_home_decor.show(3)"
   ]
  },
  {
   "cell_type": "code",
   "execution_count": 0,
   "metadata": {
    "application/vnd.databricks.v1+cell": {
     "cellMetadata": {
      "byteLimit": 2048000,
      "rowLimit": 10000
     },
     "inputWidgets": {},
     "nuid": "2f0f6056-6fed-40fd-80d5-0a2f4c7a043d",
     "showTitle": false,
     "tableResultSettingsMap": {},
     "title": ""
    }
   },
   "outputs": [
    {
     "output_type": "stream",
     "name": "stdout",
     "output_type": "stream",
     "text": [
      "+---------+--------+-----------+-------------------+------------+------------------+--------------------+-----+--------------------+--------------------+\n|ProductID|Category|SubCategory|        ProductName|       Brand|             Sizes|              Colors|Price|         Description| ingestion_timestamp|\n+---------+--------+-----------+-------------------+------------+------------------+--------------------+-----+--------------------+--------------------+\n|        1|Clothing|   Menswear|   Slim Fit T-Shirt| FashionWear|[\"S\",\"M\",\"L\",\"XL\"]|[\"Red\",\"Blue\",\"Bl...|29.99|A stylish slim-fi...|2024-11-29 00:55:...|\n|        1|Clothing|   Menswear|   Slim Fit T-Shirt| FashionWear|[\"S\",\"M\",\"L\",\"XL\"]|[\"Red\",\"Blue\",\"Bl...|29.99|A stylish slim-fi...|2024-11-29 02:20:...|\n|        2|Clothing| Womenswear|Floral Summer Dress|ElegantStyle|     [\"S\",\"M\",\"L\"]|[\"White\",\"Yellow\"...|49.99|A light and breez...|2024-11-29 02:20:...|\n+---------+--------+-----------+-------------------+------------+------------------+--------------------+-----+--------------------+--------------------+\nonly showing top 3 rows\n\n"
     ]
    }
   ],
   "source": [
    "df_http_products = df_http_accessories.union(df_http_clothing).union(df_http_footwear).union(df_http_home_decor) \\\n",
    "    .orderBy(\"ProductID\")\n",
    "\n",
    "df_http_products.show(3)"
   ]
  },
  {
   "cell_type": "markdown",
   "metadata": {
    "application/vnd.databricks.v1+cell": {
     "cellMetadata": {},
     "inputWidgets": {},
     "nuid": "8a11ef6c-42ad-4d15-9d0c-e357191d73aa",
     "showTitle": false,
     "tableResultSettingsMap": {},
     "title": ""
    }
   },
   "source": [
    "## Loading the Merged Dataset onto the Target Container Delta Table"
   ]
  },
  {
   "cell_type": "code",
   "execution_count": 0,
   "metadata": {
    "application/vnd.databricks.v1+cell": {
     "cellMetadata": {
      "byteLimit": 2048000,
      "rowLimit": 10000
     },
     "inputWidgets": {},
     "nuid": "9a68420f-d2ef-4184-a891-ae9e0d25a52f",
     "showTitle": false,
     "tableResultSettingsMap": {},
     "title": ""
    }
   },
   "outputs": [],
   "source": [
    "delta_http_folder = \"delta/http\"\n",
    "delta_azsqldb_folder = \"delta/azsqldb\"\n",
    "delta_onprem_folder = \"delta/onprem\"\n",
    "\n",
    "delta_http_path = f\"{mount_point_target}/{delta_http_folder}\"\n",
    "delta_azsqldb_path = f\"{mount_point_target}/{delta_azsqldb_folder}\"\n",
    "delta_onprem_path = f\"{mount_point_target}/{delta_onprem_folder}\""
   ]
  },
  {
   "cell_type": "code",
   "execution_count": 0,
   "metadata": {
    "application/vnd.databricks.v1+cell": {
     "cellMetadata": {
      "byteLimit": 2048000,
      "rowLimit": 10000
     },
     "inputWidgets": {},
     "nuid": "644b80ee-4787-4d7a-8ca3-8e4e49299699",
     "showTitle": false,
     "tableResultSettingsMap": {},
     "title": ""
    }
   },
   "outputs": [
    {
     "output_type": "stream",
     "name": "stdout",
     "output_type": "stream",
     "text": [
      "+---------+--------+-----------+-------------------+------------+------------------+--------------------+-----+--------------------+--------------------+\n|ProductID|Category|SubCategory|        ProductName|       Brand|             Sizes|              Colors|Price|         Description| ingestion_timestamp|\n+---------+--------+-----------+-------------------+------------+------------------+--------------------+-----+--------------------+--------------------+\n|        1|Clothing|   Menswear|   Slim Fit T-Shirt| FashionWear|[\"S\",\"M\",\"L\",\"XL\"]|[\"Red\",\"Blue\",\"Bl...|29.99|A stylish slim-fi...|2024-11-29 02:20:...|\n|        1|Clothing|   Menswear|   Slim Fit T-Shirt| FashionWear|[\"S\",\"M\",\"L\",\"XL\"]|[\"Red\",\"Blue\",\"Bl...|29.99|A stylish slim-fi...|2024-11-29 00:55:...|\n|        2|Clothing| Womenswear|Floral Summer Dress|ElegantStyle|     [\"S\",\"M\",\"L\"]|[\"White\",\"Yellow\"...|49.99|A light and breez...|2024-11-29 02:20:...|\n+---------+--------+-----------+-------------------+------------+------------------+--------------------+-----+--------------------+--------------------+\nonly showing top 3 rows\n\n"
     ]
    }
   ],
   "source": [
    "if DeltaTable.isDeltaTable(spark, f\"{delta_http_path}/products\"):\n",
    "    existing_data = DeltaTable.forPath(spark, f\"{delta_http_path}/products\")\n",
    "    \n",
    "    (existing_data.alias(\"existing\") \\\n",
    "        .merge(df_http_products.alias(\"new\"), \"existing.ProductID = new.ProductID\") \\\n",
    "        .whenMatchedUpdateAll() \\\n",
    "        .whenNotMatchedInsertAll() \\\n",
    "        .execute())\n",
    "else:\n",
    "    df_http_products.coalesce(1).write.format(\"delta\").mode(\"overwrite\").save(f\"{delta_http_path}/products\")\n",
    "\n",
    "spark.read.format(\"delta\").load(f\"{delta_http_path}/products\").show(3)"
   ]
  },
  {
   "cell_type": "code",
   "execution_count": 0,
   "metadata": {
    "application/vnd.databricks.v1+cell": {
     "cellMetadata": {},
     "inputWidgets": {},
     "nuid": "b7cc061d-c830-4a80-b430-52b539596d3b",
     "showTitle": false,
     "tableResultSettingsMap": {},
     "title": ""
    }
   },
   "outputs": [],
   "source": []
  }
 ],
 "metadata": {
  "application/vnd.databricks.v1+notebook": {
   "dashboards": [],
   "environmentMetadata": {
    "base_environment": "",
    "client": "1"
   },
   "language": "python",
   "notebookMetadata": {
    "pythonIndentUnit": 4
   },
   "notebookName": "etl_business_case",
   "widgets": {}
  },
  "language_info": {
   "name": "python"
  }
 },
 "nbformat": 4,
 "nbformat_minor": 0
}